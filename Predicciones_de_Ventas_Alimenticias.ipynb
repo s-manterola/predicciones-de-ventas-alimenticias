{
  "nbformat": 4,
  "nbformat_minor": 0,
  "metadata": {
    "colab": {
      "name": "Predicciones_de_Ventas_Alimenticias.ipynb",
      "provenance": [],
      "collapsed_sections": [],
      "mount_file_id": "1AKcbSkdWhRLGHKDmnlNqUJgaKYOmLkMa",
      "authorship_tag": "ABX9TyNBZKGt0QbQaar0MvmeE3yC",
      "include_colab_link": true
    },
    "kernelspec": {
      "name": "python3",
      "display_name": "Python 3"
    },
    "language_info": {
      "name": "python"
    }
  },
  "cells": [
    {
      "cell_type": "markdown",
      "metadata": {
        "id": "view-in-github",
        "colab_type": "text"
      },
      "source": [
        "<a href=\"https://colab.research.google.com/github/s-manterola/predicciones-de-ventas-alimenticias/blob/main/Predicciones_de_Ventas_Alimenticias.ipynb\" target=\"_parent\"><img src=\"https://colab.research.google.com/assets/colab-badge.svg\" alt=\"Open In Colab\"/></a>"
      ]
    },
    {
      "cell_type": "code",
      "source": [
        "from google.colab import drive\n",
        "drive.mount('/content/drive')\n"
      ],
      "metadata": {
        "colab": {
          "base_uri": "https://localhost:8080/"
        },
        "id": "QkPkAwlolZ8C",
        "outputId": "32819455-91c8-4a68-c188-e17ff5f6c338"
      },
      "execution_count": 1,
      "outputs": [
        {
          "output_type": "stream",
          "name": "stdout",
          "text": [
            "Mounted at /content/drive\n"
          ]
        }
      ]
    },
    {
      "cell_type": "code",
      "execution_count": 40,
      "metadata": {
        "id": "wgZAcmH8Tzjc"
      },
      "outputs": [],
      "source": [
        "import pandas as pd\n",
        "import numpy as np\n",
        "import seaborn as sns\n",
        "import matplotlib.pyplot as plt\n",
        "\n",
        "from sklearn.model_selection import train_test_split\n",
        "from sklearn.compose import make_column_selector, make_column_transformer, ColumnTransformer\n",
        "from sklearn.preprocessing import OneHotEncoder, OrdinalEncoder, StandardScaler\n",
        "from sklearn.impute import SimpleImputer\n",
        "\n",
        "from sklearn.pipeline import make_pipeline\n",
        "from sklearn import set_config\n",
        "set_config(display='diagram') \n",
        "\n",
        "filename = '/content/drive/MyDrive/Colab Notebooks/Bootcamp/Online Fundamentos/Bases de Datos/sales_predictions.csv'"
      ]
    },
    {
      "cell_type": "code",
      "source": [
        "df = pd.read_csv(filename)\n",
        "df.head()"
      ],
      "metadata": {
        "colab": {
          "base_uri": "https://localhost:8080/",
          "height": 357
        },
        "id": "zkt3XnUYUiq3",
        "outputId": "b2a7f7a7-06e5-4982-f09a-20e38cef4d47"
      },
      "execution_count": 3,
      "outputs": [
        {
          "output_type": "execute_result",
          "data": {
            "text/plain": [
              "  Item_Identifier  Item_Weight Item_Fat_Content  Item_Visibility  \\\n",
              "0           FDA15         9.30          Low Fat         0.016047   \n",
              "1           DRC01         5.92          Regular         0.019278   \n",
              "2           FDN15        17.50          Low Fat         0.016760   \n",
              "3           FDX07        19.20          Regular         0.000000   \n",
              "4           NCD19         8.93          Low Fat         0.000000   \n",
              "\n",
              "               Item_Type  Item_MRP Outlet_Identifier  \\\n",
              "0                  Dairy  249.8092            OUT049   \n",
              "1            Soft Drinks   48.2692            OUT018   \n",
              "2                   Meat  141.6180            OUT049   \n",
              "3  Fruits and Vegetables  182.0950            OUT010   \n",
              "4              Household   53.8614            OUT013   \n",
              "\n",
              "   Outlet_Establishment_Year Outlet_Size Outlet_Location_Type  \\\n",
              "0                       1999      Medium               Tier 1   \n",
              "1                       2009      Medium               Tier 3   \n",
              "2                       1999      Medium               Tier 1   \n",
              "3                       1998         NaN               Tier 3   \n",
              "4                       1987        High               Tier 3   \n",
              "\n",
              "         Outlet_Type  Item_Outlet_Sales  \n",
              "0  Supermarket Type1          3735.1380  \n",
              "1  Supermarket Type2           443.4228  \n",
              "2  Supermarket Type1          2097.2700  \n",
              "3      Grocery Store           732.3800  \n",
              "4  Supermarket Type1           994.7052  "
            ],
            "text/html": [
              "\n",
              "  <div id=\"df-a530b57e-b909-448d-bcfe-726690c791a2\">\n",
              "    <div class=\"colab-df-container\">\n",
              "      <div>\n",
              "<style scoped>\n",
              "    .dataframe tbody tr th:only-of-type {\n",
              "        vertical-align: middle;\n",
              "    }\n",
              "\n",
              "    .dataframe tbody tr th {\n",
              "        vertical-align: top;\n",
              "    }\n",
              "\n",
              "    .dataframe thead th {\n",
              "        text-align: right;\n",
              "    }\n",
              "</style>\n",
              "<table border=\"1\" class=\"dataframe\">\n",
              "  <thead>\n",
              "    <tr style=\"text-align: right;\">\n",
              "      <th></th>\n",
              "      <th>Item_Identifier</th>\n",
              "      <th>Item_Weight</th>\n",
              "      <th>Item_Fat_Content</th>\n",
              "      <th>Item_Visibility</th>\n",
              "      <th>Item_Type</th>\n",
              "      <th>Item_MRP</th>\n",
              "      <th>Outlet_Identifier</th>\n",
              "      <th>Outlet_Establishment_Year</th>\n",
              "      <th>Outlet_Size</th>\n",
              "      <th>Outlet_Location_Type</th>\n",
              "      <th>Outlet_Type</th>\n",
              "      <th>Item_Outlet_Sales</th>\n",
              "    </tr>\n",
              "  </thead>\n",
              "  <tbody>\n",
              "    <tr>\n",
              "      <th>0</th>\n",
              "      <td>FDA15</td>\n",
              "      <td>9.30</td>\n",
              "      <td>Low Fat</td>\n",
              "      <td>0.016047</td>\n",
              "      <td>Dairy</td>\n",
              "      <td>249.8092</td>\n",
              "      <td>OUT049</td>\n",
              "      <td>1999</td>\n",
              "      <td>Medium</td>\n",
              "      <td>Tier 1</td>\n",
              "      <td>Supermarket Type1</td>\n",
              "      <td>3735.1380</td>\n",
              "    </tr>\n",
              "    <tr>\n",
              "      <th>1</th>\n",
              "      <td>DRC01</td>\n",
              "      <td>5.92</td>\n",
              "      <td>Regular</td>\n",
              "      <td>0.019278</td>\n",
              "      <td>Soft Drinks</td>\n",
              "      <td>48.2692</td>\n",
              "      <td>OUT018</td>\n",
              "      <td>2009</td>\n",
              "      <td>Medium</td>\n",
              "      <td>Tier 3</td>\n",
              "      <td>Supermarket Type2</td>\n",
              "      <td>443.4228</td>\n",
              "    </tr>\n",
              "    <tr>\n",
              "      <th>2</th>\n",
              "      <td>FDN15</td>\n",
              "      <td>17.50</td>\n",
              "      <td>Low Fat</td>\n",
              "      <td>0.016760</td>\n",
              "      <td>Meat</td>\n",
              "      <td>141.6180</td>\n",
              "      <td>OUT049</td>\n",
              "      <td>1999</td>\n",
              "      <td>Medium</td>\n",
              "      <td>Tier 1</td>\n",
              "      <td>Supermarket Type1</td>\n",
              "      <td>2097.2700</td>\n",
              "    </tr>\n",
              "    <tr>\n",
              "      <th>3</th>\n",
              "      <td>FDX07</td>\n",
              "      <td>19.20</td>\n",
              "      <td>Regular</td>\n",
              "      <td>0.000000</td>\n",
              "      <td>Fruits and Vegetables</td>\n",
              "      <td>182.0950</td>\n",
              "      <td>OUT010</td>\n",
              "      <td>1998</td>\n",
              "      <td>NaN</td>\n",
              "      <td>Tier 3</td>\n",
              "      <td>Grocery Store</td>\n",
              "      <td>732.3800</td>\n",
              "    </tr>\n",
              "    <tr>\n",
              "      <th>4</th>\n",
              "      <td>NCD19</td>\n",
              "      <td>8.93</td>\n",
              "      <td>Low Fat</td>\n",
              "      <td>0.000000</td>\n",
              "      <td>Household</td>\n",
              "      <td>53.8614</td>\n",
              "      <td>OUT013</td>\n",
              "      <td>1987</td>\n",
              "      <td>High</td>\n",
              "      <td>Tier 3</td>\n",
              "      <td>Supermarket Type1</td>\n",
              "      <td>994.7052</td>\n",
              "    </tr>\n",
              "  </tbody>\n",
              "</table>\n",
              "</div>\n",
              "      <button class=\"colab-df-convert\" onclick=\"convertToInteractive('df-a530b57e-b909-448d-bcfe-726690c791a2')\"\n",
              "              title=\"Convert this dataframe to an interactive table.\"\n",
              "              style=\"display:none;\">\n",
              "        \n",
              "  <svg xmlns=\"http://www.w3.org/2000/svg\" height=\"24px\"viewBox=\"0 0 24 24\"\n",
              "       width=\"24px\">\n",
              "    <path d=\"M0 0h24v24H0V0z\" fill=\"none\"/>\n",
              "    <path d=\"M18.56 5.44l.94 2.06.94-2.06 2.06-.94-2.06-.94-.94-2.06-.94 2.06-2.06.94zm-11 1L8.5 8.5l.94-2.06 2.06-.94-2.06-.94L8.5 2.5l-.94 2.06-2.06.94zm10 10l.94 2.06.94-2.06 2.06-.94-2.06-.94-.94-2.06-.94 2.06-2.06.94z\"/><path d=\"M17.41 7.96l-1.37-1.37c-.4-.4-.92-.59-1.43-.59-.52 0-1.04.2-1.43.59L10.3 9.45l-7.72 7.72c-.78.78-.78 2.05 0 2.83L4 21.41c.39.39.9.59 1.41.59.51 0 1.02-.2 1.41-.59l7.78-7.78 2.81-2.81c.8-.78.8-2.07 0-2.86zM5.41 20L4 18.59l7.72-7.72 1.47 1.35L5.41 20z\"/>\n",
              "  </svg>\n",
              "      </button>\n",
              "      \n",
              "  <style>\n",
              "    .colab-df-container {\n",
              "      display:flex;\n",
              "      flex-wrap:wrap;\n",
              "      gap: 12px;\n",
              "    }\n",
              "\n",
              "    .colab-df-convert {\n",
              "      background-color: #E8F0FE;\n",
              "      border: none;\n",
              "      border-radius: 50%;\n",
              "      cursor: pointer;\n",
              "      display: none;\n",
              "      fill: #1967D2;\n",
              "      height: 32px;\n",
              "      padding: 0 0 0 0;\n",
              "      width: 32px;\n",
              "    }\n",
              "\n",
              "    .colab-df-convert:hover {\n",
              "      background-color: #E2EBFA;\n",
              "      box-shadow: 0px 1px 2px rgba(60, 64, 67, 0.3), 0px 1px 3px 1px rgba(60, 64, 67, 0.15);\n",
              "      fill: #174EA6;\n",
              "    }\n",
              "\n",
              "    [theme=dark] .colab-df-convert {\n",
              "      background-color: #3B4455;\n",
              "      fill: #D2E3FC;\n",
              "    }\n",
              "\n",
              "    [theme=dark] .colab-df-convert:hover {\n",
              "      background-color: #434B5C;\n",
              "      box-shadow: 0px 1px 3px 1px rgba(0, 0, 0, 0.15);\n",
              "      filter: drop-shadow(0px 1px 2px rgba(0, 0, 0, 0.3));\n",
              "      fill: #FFFFFF;\n",
              "    }\n",
              "  </style>\n",
              "\n",
              "      <script>\n",
              "        const buttonEl =\n",
              "          document.querySelector('#df-a530b57e-b909-448d-bcfe-726690c791a2 button.colab-df-convert');\n",
              "        buttonEl.style.display =\n",
              "          google.colab.kernel.accessAllowed ? 'block' : 'none';\n",
              "\n",
              "        async function convertToInteractive(key) {\n",
              "          const element = document.querySelector('#df-a530b57e-b909-448d-bcfe-726690c791a2');\n",
              "          const dataTable =\n",
              "            await google.colab.kernel.invokeFunction('convertToInteractive',\n",
              "                                                     [key], {});\n",
              "          if (!dataTable) return;\n",
              "\n",
              "          const docLinkHtml = 'Like what you see? Visit the ' +\n",
              "            '<a target=\"_blank\" href=https://colab.research.google.com/notebooks/data_table.ipynb>data table notebook</a>'\n",
              "            + ' to learn more about interactive tables.';\n",
              "          element.innerHTML = '';\n",
              "          dataTable['output_type'] = 'display_data';\n",
              "          await google.colab.output.renderOutput(dataTable, element);\n",
              "          const docLink = document.createElement('div');\n",
              "          docLink.innerHTML = docLinkHtml;\n",
              "          element.appendChild(docLink);\n",
              "        }\n",
              "      </script>\n",
              "    </div>\n",
              "  </div>\n",
              "  "
            ]
          },
          "metadata": {},
          "execution_count": 3
        }
      ]
    },
    {
      "cell_type": "code",
      "source": [
        "df.info()"
      ],
      "metadata": {
        "colab": {
          "base_uri": "https://localhost:8080/"
        },
        "id": "YpuvzewXlVZc",
        "outputId": "d1333ed3-8652-4785-d301-2afbd0392e73"
      },
      "execution_count": 4,
      "outputs": [
        {
          "output_type": "stream",
          "name": "stdout",
          "text": [
            "<class 'pandas.core.frame.DataFrame'>\n",
            "RangeIndex: 8523 entries, 0 to 8522\n",
            "Data columns (total 12 columns):\n",
            " #   Column                     Non-Null Count  Dtype  \n",
            "---  ------                     --------------  -----  \n",
            " 0   Item_Identifier            8523 non-null   object \n",
            " 1   Item_Weight                7060 non-null   float64\n",
            " 2   Item_Fat_Content           8523 non-null   object \n",
            " 3   Item_Visibility            8523 non-null   float64\n",
            " 4   Item_Type                  8523 non-null   object \n",
            " 5   Item_MRP                   8523 non-null   float64\n",
            " 6   Outlet_Identifier          8523 non-null   object \n",
            " 7   Outlet_Establishment_Year  8523 non-null   int64  \n",
            " 8   Outlet_Size                6113 non-null   object \n",
            " 9   Outlet_Location_Type       8523 non-null   object \n",
            " 10  Outlet_Type                8523 non-null   object \n",
            " 11  Item_Outlet_Sales          8523 non-null   float64\n",
            "dtypes: float64(4), int64(1), object(7)\n",
            "memory usage: 799.2+ KB\n"
          ]
        }
      ]
    },
    {
      "cell_type": "code",
      "source": [
        "df.drop_duplicates()\n",
        "df.info()"
      ],
      "metadata": {
        "colab": {
          "base_uri": "https://localhost:8080/"
        },
        "id": "WAgVPkiMnaqw",
        "outputId": "367c995d-f62d-4689-a521-26d11db09387"
      },
      "execution_count": 5,
      "outputs": [
        {
          "output_type": "stream",
          "name": "stdout",
          "text": [
            "<class 'pandas.core.frame.DataFrame'>\n",
            "RangeIndex: 8523 entries, 0 to 8522\n",
            "Data columns (total 12 columns):\n",
            " #   Column                     Non-Null Count  Dtype  \n",
            "---  ------                     --------------  -----  \n",
            " 0   Item_Identifier            8523 non-null   object \n",
            " 1   Item_Weight                7060 non-null   float64\n",
            " 2   Item_Fat_Content           8523 non-null   object \n",
            " 3   Item_Visibility            8523 non-null   float64\n",
            " 4   Item_Type                  8523 non-null   object \n",
            " 5   Item_MRP                   8523 non-null   float64\n",
            " 6   Outlet_Identifier          8523 non-null   object \n",
            " 7   Outlet_Establishment_Year  8523 non-null   int64  \n",
            " 8   Outlet_Size                6113 non-null   object \n",
            " 9   Outlet_Location_Type       8523 non-null   object \n",
            " 10  Outlet_Type                8523 non-null   object \n",
            " 11  Item_Outlet_Sales          8523 non-null   float64\n",
            "dtypes: float64(4), int64(1), object(7)\n",
            "memory usage: 799.2+ KB\n"
          ]
        }
      ]
    },
    {
      "cell_type": "markdown",
      "source": [
        "Eliminar las filas si falta algun dato, elimina la casi la mitad de los datos, es demasiado"
      ],
      "metadata": {
        "id": "6i7APL5oufvf"
      }
    },
    {
      "cell_type": "code",
      "source": [
        "df.nunique()"
      ],
      "metadata": {
        "colab": {
          "base_uri": "https://localhost:8080/"
        },
        "id": "fHktjJ929H-K",
        "outputId": "c04f5db1-32db-48aa-8ac5-e3a6bf0b8f6f"
      },
      "execution_count": 6,
      "outputs": [
        {
          "output_type": "execute_result",
          "data": {
            "text/plain": [
              "Item_Identifier              1559\n",
              "Item_Weight                   415\n",
              "Item_Fat_Content                5\n",
              "Item_Visibility              7880\n",
              "Item_Type                      16\n",
              "Item_MRP                     5938\n",
              "Outlet_Identifier              10\n",
              "Outlet_Establishment_Year       9\n",
              "Outlet_Size                     3\n",
              "Outlet_Location_Type            3\n",
              "Outlet_Type                     4\n",
              "Item_Outlet_Sales            3493\n",
              "dtype: int64"
            ]
          },
          "metadata": {},
          "execution_count": 6
        }
      ]
    },
    {
      "cell_type": "code",
      "source": [
        "df['Outlet_Identifier'].unique()"
      ],
      "metadata": {
        "colab": {
          "base_uri": "https://localhost:8080/"
        },
        "id": "NAAXKwpSEwSH",
        "outputId": "e1364077-0920-4cf2-8f4b-3b29779f653f"
      },
      "execution_count": 7,
      "outputs": [
        {
          "output_type": "execute_result",
          "data": {
            "text/plain": [
              "array(['OUT049', 'OUT018', 'OUT010', 'OUT013', 'OUT027', 'OUT045',\n",
              "       'OUT017', 'OUT046', 'OUT035', 'OUT019'], dtype=object)"
            ]
          },
          "metadata": {},
          "execution_count": 7
        }
      ]
    },
    {
      "cell_type": "code",
      "source": [
        "for id in df['Outlet_Identifier'].unique():\n",
        "  try:\n",
        "    df[df['Outlet_Identifier'] == id]['Outlet_Size'].fillna(df[df['Outlet_Identifier'] == id]['Outlet_Size'].mode()[0], inplace = True)\n",
        "  except:\n",
        "    pass\n",
        "df['Outlet_Size'].fillna(\"Missing\", inplace = True)\n",
        "df.info()"
      ],
      "metadata": {
        "colab": {
          "base_uri": "https://localhost:8080/"
        },
        "id": "Q136NN2mwCQU",
        "outputId": "2e82aa11-4414-4769-df5e-68cfbc950d24"
      },
      "execution_count": 8,
      "outputs": [
        {
          "output_type": "stream",
          "name": "stdout",
          "text": [
            "<class 'pandas.core.frame.DataFrame'>\n",
            "RangeIndex: 8523 entries, 0 to 8522\n",
            "Data columns (total 12 columns):\n",
            " #   Column                     Non-Null Count  Dtype  \n",
            "---  ------                     --------------  -----  \n",
            " 0   Item_Identifier            8523 non-null   object \n",
            " 1   Item_Weight                7060 non-null   float64\n",
            " 2   Item_Fat_Content           8523 non-null   object \n",
            " 3   Item_Visibility            8523 non-null   float64\n",
            " 4   Item_Type                  8523 non-null   object \n",
            " 5   Item_MRP                   8523 non-null   float64\n",
            " 6   Outlet_Identifier          8523 non-null   object \n",
            " 7   Outlet_Establishment_Year  8523 non-null   int64  \n",
            " 8   Outlet_Size                8523 non-null   object \n",
            " 9   Outlet_Location_Type       8523 non-null   object \n",
            " 10  Outlet_Type                8523 non-null   object \n",
            " 11  Item_Outlet_Sales          8523 non-null   float64\n",
            "dtypes: float64(4), int64(1), object(7)\n",
            "memory usage: 799.2+ KB\n"
          ]
        },
        {
          "output_type": "stream",
          "name": "stderr",
          "text": [
            "/usr/local/lib/python3.7/dist-packages/pandas/core/generic.py:6392: SettingWithCopyWarning: \n",
            "A value is trying to be set on a copy of a slice from a DataFrame\n",
            "\n",
            "See the caveats in the documentation: https://pandas.pydata.org/pandas-docs/stable/user_guide/indexing.html#returning-a-view-versus-a-copy\n",
            "  return self._update_inplace(result)\n"
          ]
        }
      ]
    },
    {
      "cell_type": "markdown",
      "source": [
        "El la base de datos no hay valores duplicado. Existen varios datos faltantes, especialmente en la columna Outlet_Size. Al contar los outlets, vemos que solo hay 10 de ellos (solo 10 Outlet_Identifier). Es logico asumir que todos los valores de un Outlet deberian ser iguales, por lo que si falta un dato, se puede tomar de otra fila, en que el Outlet_Identifier sea igual.\n",
        "\n",
        "El problema es que existen casos en que un Outlet_Identifier no tiene el dato faltante en ninguna parte de la lista. En ese caso se reemplazo el valor Nan por 'Missing'."
      ],
      "metadata": {
        "id": "oVLUKC1z8TaA"
      }
    },
    {
      "cell_type": "code",
      "source": [
        "df.dropna(how='any', inplace = True)\n",
        "df.info()"
      ],
      "metadata": {
        "colab": {
          "base_uri": "https://localhost:8080/"
        },
        "id": "JOhG12FzBBQ9",
        "outputId": "1826802c-7632-427b-893d-3cb22def83d6"
      },
      "execution_count": 9,
      "outputs": [
        {
          "output_type": "stream",
          "name": "stdout",
          "text": [
            "<class 'pandas.core.frame.DataFrame'>\n",
            "Int64Index: 7060 entries, 0 to 8522\n",
            "Data columns (total 12 columns):\n",
            " #   Column                     Non-Null Count  Dtype  \n",
            "---  ------                     --------------  -----  \n",
            " 0   Item_Identifier            7060 non-null   object \n",
            " 1   Item_Weight                7060 non-null   float64\n",
            " 2   Item_Fat_Content           7060 non-null   object \n",
            " 3   Item_Visibility            7060 non-null   float64\n",
            " 4   Item_Type                  7060 non-null   object \n",
            " 5   Item_MRP                   7060 non-null   float64\n",
            " 6   Outlet_Identifier          7060 non-null   object \n",
            " 7   Outlet_Establishment_Year  7060 non-null   int64  \n",
            " 8   Outlet_Size                7060 non-null   object \n",
            " 9   Outlet_Location_Type       7060 non-null   object \n",
            " 10  Outlet_Type                7060 non-null   object \n",
            " 11  Item_Outlet_Sales          7060 non-null   float64\n",
            "dtypes: float64(4), int64(1), object(7)\n",
            "memory usage: 717.0+ KB\n"
          ]
        }
      ]
    },
    {
      "cell_type": "markdown",
      "source": [
        "Con esto tenemos 7060 filas, de las 8523 iniciales, solo al agregar la categoria 'Missing' en la columna Outlet_Size "
      ],
      "metadata": {
        "id": "6bUC4G7zBMft"
      }
    },
    {
      "cell_type": "code",
      "source": [
        "for id in df['Outlet_Location_Type'].unique():\n",
        "  print(id)"
      ],
      "metadata": {
        "colab": {
          "base_uri": "https://localhost:8080/"
        },
        "id": "b5I1itw0B3gd",
        "outputId": "8ef806b3-06b9-4eb8-e2f0-e384895ca565"
      },
      "execution_count": 10,
      "outputs": [
        {
          "output_type": "stream",
          "name": "stdout",
          "text": [
            "Tier 1\n",
            "Tier 3\n",
            "Tier 2\n"
          ]
        }
      ]
    },
    {
      "cell_type": "code",
      "source": [
        "for id in df['Item_Fat_Content'].unique():\n",
        "  print(id)"
      ],
      "metadata": {
        "colab": {
          "base_uri": "https://localhost:8080/"
        },
        "id": "Q2D5sWQdN2J4",
        "outputId": "b8e4a67b-0f3f-4442-aba8-33a0724356db"
      },
      "execution_count": 11,
      "outputs": [
        {
          "output_type": "stream",
          "name": "stdout",
          "text": [
            "Low Fat\n",
            "Regular\n",
            "low fat\n",
            "LF\n",
            "reg\n"
          ]
        }
      ]
    },
    {
      "cell_type": "code",
      "source": [
        "df.loc[df['Item_Fat_Content']=='low fat','Item_Fat_Content'] = 'Low Fat'\n",
        "df.loc[df['Item_Fat_Content']=='LF','Item_Fat_Content'] = 'Low Fat'\n",
        "df.loc[df['Item_Fat_Content']=='reg','Item_Fat_Content'] = 'Regular'"
      ],
      "metadata": {
        "id": "_SpLDVdzN7Aw"
      },
      "execution_count": 12,
      "outputs": []
    },
    {
      "cell_type": "code",
      "source": [
        "OT = df.groupby('Outlet_Type')['Item_Identifier'].count()\n",
        "\n",
        "plt.bar(OT.index, OT.values)\n",
        "plt.xlabel('Locales de venta')\n",
        "plt.ylabel('Cantidad')\n",
        "plt.title('Cantidad de locales de venta divididos por tipo')"
      ],
      "metadata": {
        "colab": {
          "base_uri": "https://localhost:8080/",
          "height": 312
        },
        "id": "4vV3A5EXMN4t",
        "outputId": "4bcb3211-24cf-443a-f2d0-29b9de3d9ff7"
      },
      "execution_count": 13,
      "outputs": [
        {
          "output_type": "execute_result",
          "data": {
            "text/plain": [
              "Text(0.5, 1.0, 'Cantidad de locales de venta divididos por tipo')"
            ]
          },
          "metadata": {},
          "execution_count": 13
        },
        {
          "output_type": "display_data",
          "data": {
            "text/plain": [
              "<Figure size 432x288 with 1 Axes>"
            ],
            "image/png": "[encoded data removed]"
          },
          "metadata": {
            "needs_background": "light"
          }
        }
      ]
    },
    {
      "cell_type": "markdown",
      "source": [
        "Se observa que la mayoria de los articulos se vende en supermecados de tipo 1"
      ],
      "metadata": {
        "id": "aeebokoZP7kP"
      }
    },
    {
      "cell_type": "code",
      "source": [
        "df['Item_Visibility'].hist()\n",
        "\n",
        "plt.xlabel('Visibilidad')\n",
        "plt.ylabel('Cantidad')\n",
        "plt.title('Cantidad de articulos segun su visibilidad')"
      ],
      "metadata": {
        "colab": {
          "base_uri": "https://localhost:8080/",
          "height": 312
        },
        "id": "tHOvVMyYMaXl",
        "outputId": "063dcd9d-a3cb-4d18-cffa-477d29af6a49"
      },
      "execution_count": 14,
      "outputs": [
        {
          "output_type": "execute_result",
          "data": {
            "text/plain": [
              "Text(0.5, 1.0, 'Cantidad de articulos segun su visibilidad')"
            ]
          },
          "metadata": {},
          "execution_count": 14
        },
        {
          "output_type": "display_data",
          "data": {
            "text/plain": [
              "<Figure size 432x288 with 1 Axes>"
            ],
            "image/png": "[encoded data removed]"
          },
          "metadata": {
            "needs_background": "light"
          }
        }
      ]
    },
    {
      "cell_type": "markdown",
      "source": [
        "Se observa que la mayoria de los articulos tiene una visibilidad menor a 0.1, y que la cantidad de articulos decrece mientras aumenta la visibilidad."
      ],
      "metadata": {
        "id": "jNsd7qPjQCRe"
      }
    },
    {
      "cell_type": "code",
      "source": [
        "FC = df.groupby('Item_Fat_Content')['Item_Identifier'].count()\n",
        "\n",
        "plt.bar(FC.index, FC.values)\n",
        "\n",
        "plt.xlabel('Contenido de grasa')\n",
        "plt.ylabel('Cantidad')\n",
        "plt.title('Cantidad de articulos por contenido de grasa')"
      ],
      "metadata": {
        "colab": {
          "base_uri": "https://localhost:8080/",
          "height": 312
        },
        "id": "v6gqKoKiNaey",
        "outputId": "d6468433-0c2e-42df-a429-d5ce39b3176c"
      },
      "execution_count": 15,
      "outputs": [
        {
          "output_type": "execute_result",
          "data": {
            "text/plain": [
              "Text(0.5, 1.0, 'Cantidad de articulos por contenido de grasa')"
            ]
          },
          "metadata": {},
          "execution_count": 15
        },
        {
          "output_type": "display_data",
          "data": {
            "text/plain": [
              "<Figure size 432x288 with 1 Axes>"
            ],
            "image/png": "[encoded data removed]"
          },
          "metadata": {
            "needs_background": "light"
          }
        }
      ]
    },
    {
      "cell_type": "markdown",
      "source": [
        "Se observa que la mayoria de los articulos tienen un bajo contenido de grasa"
      ],
      "metadata": {
        "id": "S4FxF9_XQSDv"
      }
    },
    {
      "cell_type": "code",
      "source": [
        "corr = df.corr()\n",
        "sns.heatmap(corr, cmap = 'Blues')\n",
        "\n",
        "plt.title('Mapa de calor')"
      ],
      "metadata": {
        "colab": {
          "base_uri": "https://localhost:8080/",
          "height": 421
        },
        "id": "tfCmkijGOkQ9",
        "outputId": "229e9dac-761d-4a05-cc2b-58622179f40f"
      },
      "execution_count": 16,
      "outputs": [
        {
          "output_type": "execute_result",
          "data": {
            "text/plain": [
              "Text(0.5, 1.0, 'Mapa de calor')"
            ]
          },
          "metadata": {},
          "execution_count": 16
        },
        {
          "output_type": "display_data",
          "data": {
            "text/plain": [
              "<Figure size 432x288 with 2 Axes>"
            ],
            "image/png": "[encoded data removed]"
          },
          "metadata": {
            "needs_background": "light"
          }
        }
      ]
    },
    {
      "cell_type": "markdown",
      "source": [
        "Se observa que la mayoria de las categorias no tienen una fuerte relacion excepto Item_MRP y Item_Outlet_Sales"
      ],
      "metadata": {
        "id": "XEr-_N0CQXck"
      }
    },
    {
      "cell_type": "code",
      "source": [
        "X = df.drop(['Item_Outlet_Sales'], axis=1)\n",
        "y = df['Item_Outlet_Sales']"
      ],
      "metadata": {
        "id": "fL5DQ5BHqGWG"
      },
      "execution_count": 17,
      "outputs": []
    },
    {
      "cell_type": "code",
      "source": [
        "X_train, X_test, y_train, y_test = train_test_split(X, y, test_size=0.2, random_state=42)"
      ],
      "metadata": {
        "id": "oX07pNHxqTi9"
      },
      "execution_count": 18,
      "outputs": []
    },
    {
      "cell_type": "code",
      "source": [
        "df.columns"
      ],
      "metadata": {
        "colab": {
          "base_uri": "https://localhost:8080/"
        },
        "id": "vjLoveb3rg3m",
        "outputId": "2be0bac2-0543-44ef-be66-92da6d7be119"
      },
      "execution_count": 19,
      "outputs": [
        {
          "output_type": "execute_result",
          "data": {
            "text/plain": [
              "Index(['Item_Identifier', 'Item_Weight', 'Item_Fat_Content', 'Item_Visibility',\n",
              "       'Item_Type', 'Item_MRP', 'Outlet_Identifier',\n",
              "       'Outlet_Establishment_Year', 'Outlet_Size', 'Outlet_Location_Type',\n",
              "       'Outlet_Type', 'Item_Outlet_Sales'],\n",
              "      dtype='object')"
            ]
          },
          "metadata": {},
          "execution_count": 19
        }
      ]
    },
    {
      "cell_type": "code",
      "source": [
        "df.head(1)"
      ],
      "metadata": {
        "colab": {
          "base_uri": "https://localhost:8080/",
          "height": 162
        },
        "id": "heBYR002ruFI",
        "outputId": "4dfa1e76-cedb-40eb-9b54-64e7583a76dc"
      },
      "execution_count": 20,
      "outputs": [
        {
          "output_type": "execute_result",
          "data": {
            "text/plain": [
              "  Item_Identifier  Item_Weight Item_Fat_Content  Item_Visibility Item_Type  \\\n",
              "0           FDA15          9.3          Low Fat         0.016047     Dairy   \n",
              "\n",
              "   Item_MRP Outlet_Identifier  Outlet_Establishment_Year Outlet_Size  \\\n",
              "0  249.8092            OUT049                       1999      Medium   \n",
              "\n",
              "  Outlet_Location_Type        Outlet_Type  Item_Outlet_Sales  \n",
              "0               Tier 1  Supermarket Type1           3735.138  "
            ],
            "text/html": [
              "\n",
              "  <div id=\"df-a0369765-230e-4833-8d07-545e30f8900f\">\n",
              "    <div class=\"colab-df-container\">\n",
              "      <div>\n",
              "<style scoped>\n",
              "    .dataframe tbody tr th:only-of-type {\n",
              "        vertical-align: middle;\n",
              "    }\n",
              "\n",
              "    .dataframe tbody tr th {\n",
              "        vertical-align: top;\n",
              "    }\n",
              "\n",
              "    .dataframe thead th {\n",
              "        text-align: right;\n",
              "    }\n",
              "</style>\n",
              "<table border=\"1\" class=\"dataframe\">\n",
              "  <thead>\n",
              "    <tr style=\"text-align: right;\">\n",
              "      <th></th>\n",
              "      <th>Item_Identifier</th>\n",
              "      <th>Item_Weight</th>\n",
              "      <th>Item_Fat_Content</th>\n",
              "      <th>Item_Visibility</th>\n",
              "      <th>Item_Type</th>\n",
              "      <th>Item_MRP</th>\n",
              "      <th>Outlet_Identifier</th>\n",
              "      <th>Outlet_Establishment_Year</th>\n",
              "      <th>Outlet_Size</th>\n",
              "      <th>Outlet_Location_Type</th>\n",
              "      <th>Outlet_Type</th>\n",
              "      <th>Item_Outlet_Sales</th>\n",
              "    </tr>\n",
              "  </thead>\n",
              "  <tbody>\n",
              "    <tr>\n",
              "      <th>0</th>\n",
              "      <td>FDA15</td>\n",
              "      <td>9.3</td>\n",
              "      <td>Low Fat</td>\n",
              "      <td>0.016047</td>\n",
              "      <td>Dairy</td>\n",
              "      <td>249.8092</td>\n",
              "      <td>OUT049</td>\n",
              "      <td>1999</td>\n",
              "      <td>Medium</td>\n",
              "      <td>Tier 1</td>\n",
              "      <td>Supermarket Type1</td>\n",
              "      <td>3735.138</td>\n",
              "    </tr>\n",
              "  </tbody>\n",
              "</table>\n",
              "</div>\n",
              "      <button class=\"colab-df-convert\" onclick=\"convertToInteractive('df-a0369765-230e-4833-8d07-545e30f8900f')\"\n",
              "              title=\"Convert this dataframe to an interactive table.\"\n",
              "              style=\"display:none;\">\n",
              "        \n",
              "  <svg xmlns=\"http://www.w3.org/2000/svg\" height=\"24px\"viewBox=\"0 0 24 24\"\n",
              "       width=\"24px\">\n",
              "    <path d=\"M0 0h24v24H0V0z\" fill=\"none\"/>\n",
              "    <path d=\"M18.56 5.44l.94 2.06.94-2.06 2.06-.94-2.06-.94-.94-2.06-.94 2.06-2.06.94zm-11 1L8.5 8.5l.94-2.06 2.06-.94-2.06-.94L8.5 2.5l-.94 2.06-2.06.94zm10 10l.94 2.06.94-2.06 2.06-.94-2.06-.94-.94-2.06-.94 2.06-2.06.94z\"/><path d=\"M17.41 7.96l-1.37-1.37c-.4-.4-.92-.59-1.43-.59-.52 0-1.04.2-1.43.59L10.3 9.45l-7.72 7.72c-.78.78-.78 2.05 0 2.83L4 21.41c.39.39.9.59 1.41.59.51 0 1.02-.2 1.41-.59l7.78-7.78 2.81-2.81c.8-.78.8-2.07 0-2.86zM5.41 20L4 18.59l7.72-7.72 1.47 1.35L5.41 20z\"/>\n",
              "  </svg>\n",
              "      </button>\n",
              "      \n",
              "  <style>\n",
              "    .colab-df-container {\n",
              "      display:flex;\n",
              "      flex-wrap:wrap;\n",
              "      gap: 12px;\n",
              "    }\n",
              "\n",
              "    .colab-df-convert {\n",
              "      background-color: #E8F0FE;\n",
              "      border: none;\n",
              "      border-radius: 50%;\n",
              "      cursor: pointer;\n",
              "      display: none;\n",
              "      fill: #1967D2;\n",
              "      height: 32px;\n",
              "      padding: 0 0 0 0;\n",
              "      width: 32px;\n",
              "    }\n",
              "\n",
              "    .colab-df-convert:hover {\n",
              "      background-color: #E2EBFA;\n",
              "      box-shadow: 0px 1px 2px rgba(60, 64, 67, 0.3), 0px 1px 3px 1px rgba(60, 64, 67, 0.15);\n",
              "      fill: #174EA6;\n",
              "    }\n",
              "\n",
              "    [theme=dark] .colab-df-convert {\n",
              "      background-color: #3B4455;\n",
              "      fill: #D2E3FC;\n",
              "    }\n",
              "\n",
              "    [theme=dark] .colab-df-convert:hover {\n",
              "      background-color: #434B5C;\n",
              "      box-shadow: 0px 1px 3px 1px rgba(0, 0, 0, 0.15);\n",
              "      filter: drop-shadow(0px 1px 2px rgba(0, 0, 0, 0.3));\n",
              "      fill: #FFFFFF;\n",
              "    }\n",
              "  </style>\n",
              "\n",
              "      <script>\n",
              "        const buttonEl =\n",
              "          document.querySelector('#df-a0369765-230e-4833-8d07-545e30f8900f button.colab-df-convert');\n",
              "        buttonEl.style.display =\n",
              "          google.colab.kernel.accessAllowed ? 'block' : 'none';\n",
              "\n",
              "        async function convertToInteractive(key) {\n",
              "          const element = document.querySelector('#df-a0369765-230e-4833-8d07-545e30f8900f');\n",
              "          const dataTable =\n",
              "            await google.colab.kernel.invokeFunction('convertToInteractive',\n",
              "                                                     [key], {});\n",
              "          if (!dataTable) return;\n",
              "\n",
              "          const docLinkHtml = 'Like what you see? Visit the ' +\n",
              "            '<a target=\"_blank\" href=https://colab.research.google.com/notebooks/data_table.ipynb>data table notebook</a>'\n",
              "            + ' to learn more about interactive tables.';\n",
              "          element.innerHTML = '';\n",
              "          dataTable['output_type'] = 'display_data';\n",
              "          await google.colab.output.renderOutput(dataTable, element);\n",
              "          const docLink = document.createElement('div');\n",
              "          docLink.innerHTML = docLinkHtml;\n",
              "          element.appendChild(docLink);\n",
              "        }\n",
              "      </script>\n",
              "    </div>\n",
              "  </div>\n",
              "  "
            ]
          },
          "metadata": {},
          "execution_count": 20
        }
      ]
    },
    {
      "cell_type": "code",
      "source": [
        "nominal = ['Item_Identifier', 'Item_Type', 'Outlet_Identifier', 'Outlet_Type']\n",
        "ordinal = ['Item_Fat_Content', 'Outlet_Size', 'Outlet_Location_Type']"
      ],
      "metadata": {
        "id": "DCB6dZ64rc4C"
      },
      "execution_count": 21,
      "outputs": []
    },
    {
      "cell_type": "code",
      "source": [
        "nom_selector = nominal\n",
        "ord_selector = ordinal\n",
        "num_selector = make_column_selector(dtype_include='number')"
      ],
      "metadata": {
        "id": "IOswu5Rbq24u"
      },
      "execution_count": 22,
      "outputs": []
    },
    {
      "cell_type": "code",
      "source": [
        "one_hot = OneHotEncoder(handle_unknown='ignore', sparse=False)\n",
        "ordinal = OrdinalEncoder()\n",
        "scaler = StandardScaler()"
      ],
      "metadata": {
        "id": "OaUSKVtxq6Hr"
      },
      "execution_count": 23,
      "outputs": []
    },
    {
      "cell_type": "code",
      "source": [
        "nom_pipeline = make_pipeline(one_hot)\n",
        "nom_pipeline"
      ],
      "metadata": {
        "colab": {
          "base_uri": "https://localhost:8080/",
          "height": 92
        },
        "id": "O5v0gkLPuZbn",
        "outputId": "019279b9-d3c5-4af5-c4a4-96efbca6ecbe"
      },
      "execution_count": 24,
      "outputs": [
        {
          "output_type": "execute_result",
          "data": {
            "text/plain": [
              "Pipeline(steps=[('onehotencoder',\n",
              "                 OneHotEncoder(handle_unknown='ignore', sparse=False))])"
            ],
            "text/html": [
              "<style>#sk-f5a99ef0-bb06-403b-9cb9-4265620e9931 {color: black;background-color: white;}#sk-f5a99ef0-bb06-403b-9cb9-4265620e9931 pre{padding: 0;}#sk-f5a99ef0-bb06-403b-9cb9-4265620e9931 div.sk-toggleable {background-color: white;}#sk-f5a99ef0-bb06-403b-9cb9-4265620e9931 label.sk-toggleable__label {cursor: pointer;display: block;width: 100%;margin-bottom: 0;padding: 0.3em;box-sizing: border-box;text-align: center;}#sk-f5a99ef0-bb06-403b-9cb9-4265620e9931 label.sk-toggleable__label-arrow:before {content: \"▸\";float: left;margin-right: 0.25em;color: #696969;}#sk-f5a99ef0-bb06-403b-9cb9-4265620e9931 label.sk-toggleable__label-arrow:hover:before {color: black;}#sk-f5a99ef0-bb06-403b-9cb9-4265620e9931 div.sk-estimator:hover label.sk-toggleable__label-arrow:before {color: black;}#sk-f5a99ef0-bb06-403b-9cb9-4265620e9931 div.sk-toggleable__content {max-height: 0;max-width: 0;overflow: hidden;text-align: left;background-color: #f0f8ff;}#sk-f5a99ef0-bb06-403b-9cb9-4265620e9931 div.sk-toggleable__content pre {margin: 0.2em;color: black;border-radius: 0.25em;background-color: #f0f8ff;}#sk-f5a99ef0-bb06-403b-9cb9-4265620e9931 input.sk-toggleable__control:checked~div.sk-toggleable__content {max-height: 200px;max-width: 100%;overflow: auto;}#sk-f5a99ef0-bb06-403b-9cb9-4265620e9931 input.sk-toggleable__control:checked~label.sk-toggleable__label-arrow:before {content: \"▾\";}#sk-f5a99ef0-bb06-403b-9cb9-4265620e9931 div.sk-estimator input.sk-toggleable__control:checked~label.sk-toggleable__label {background-color: #d4ebff;}#sk-f5a99ef0-bb06-403b-9cb9-4265620e9931 div.sk-label input.sk-toggleable__control:checked~label.sk-toggleable__label {background-color: #d4ebff;}#sk-f5a99ef0-bb06-403b-9cb9-4265620e9931 input.sk-hidden--visually {border: 0;clip: rect(1px 1px 1px 1px);clip: rect(1px, 1px, 1px, 1px);height: 1px;margin: -1px;overflow: hidden;padding: 0;position: absolute;width: 1px;}#sk-f5a99ef0-bb06-403b-9cb9-4265620e9931 div.sk-estimator {font-family: monospace;background-color: #f0f8ff;border: 1px dotted black;border-radius: 0.25em;box-sizing: border-box;margin-bottom: 0.5em;}#sk-f5a99ef0-bb06-403b-9cb9-4265620e9931 div.sk-estimator:hover {background-color: #d4ebff;}#sk-f5a99ef0-bb06-403b-9cb9-4265620e9931 div.sk-parallel-item::after {content: \"\";width: 100%;border-bottom: 1px solid gray;flex-grow: 1;}#sk-f5a99ef0-bb06-403b-9cb9-4265620e9931 div.sk-label:hover label.sk-toggleable__label {background-color: #d4ebff;}#sk-f5a99ef0-bb06-403b-9cb9-4265620e9931 div.sk-serial::before {content: \"\";position: absolute;border-left: 1px solid gray;box-sizing: border-box;top: 2em;bottom: 0;left: 50%;}#sk-f5a99ef0-bb06-403b-9cb9-4265620e9931 div.sk-serial {display: flex;flex-direction: column;align-items: center;background-color: white;padding-right: 0.2em;padding-left: 0.2em;}#sk-f5a99ef0-bb06-403b-9cb9-4265620e9931 div.sk-item {z-index: 1;}#sk-f5a99ef0-bb06-403b-9cb9-4265620e9931 div.sk-parallel {display: flex;align-items: stretch;justify-content: center;background-color: white;}#sk-f5a99ef0-bb06-403b-9cb9-4265620e9931 div.sk-parallel::before {content: \"\";position: absolute;border-left: 1px solid gray;box-sizing: border-box;top: 2em;bottom: 0;left: 50%;}#sk-f5a99ef0-bb06-403b-9cb9-4265620e9931 div.sk-parallel-item {display: flex;flex-direction: column;position: relative;background-color: white;}#sk-f5a99ef0-bb06-403b-9cb9-4265620e9931 div.sk-parallel-item:first-child::after {align-self: flex-end;width: 50%;}#sk-f5a99ef0-bb06-403b-9cb9-4265620e9931 div.sk-parallel-item:last-child::after {align-self: flex-start;width: 50%;}#sk-f5a99ef0-bb06-403b-9cb9-4265620e9931 div.sk-parallel-item:only-child::after {width: 0;}#sk-f5a99ef0-bb06-403b-9cb9-4265620e9931 div.sk-dashed-wrapped {border: 1px dashed gray;margin: 0 0.4em 0.5em 0.4em;box-sizing: border-box;padding-bottom: 0.4em;background-color: white;position: relative;}#sk-f5a99ef0-bb06-403b-9cb9-4265620e9931 div.sk-label label {font-family: monospace;font-weight: bold;background-color: white;display: inline-block;line-height: 1.2em;}#sk-f5a99ef0-bb06-403b-9cb9-4265620e9931 div.sk-label-container {position: relative;z-index: 2;text-align: center;}#sk-f5a99ef0-bb06-403b-9cb9-4265620e9931 div.sk-container {/* jupyter's `normalize.less` sets `[hidden] { display: none; }` but bootstrap.min.css set `[hidden] { display: none !important; }` so we also need the `!important` here to be able to override the default hidden behavior on the sphinx rendered scikit-learn.org. See: https://github.com/scikit-learn/scikit-learn/issues/21755 */display: inline-block !important;position: relative;}#sk-f5a99ef0-bb06-403b-9cb9-4265620e9931 div.sk-text-repr-fallback {display: none;}</style><div id=\"sk-f5a99ef0-bb06-403b-9cb9-4265620e9931\" class=\"sk-top-container\"><div class=\"sk-text-repr-fallback\"><pre>Pipeline(steps=[(&#x27;onehotencoder&#x27;,\n",
              "                 OneHotEncoder(handle_unknown=&#x27;ignore&#x27;, sparse=False))])</pre><b>Please rerun this cell to show the HTML repr or trust the notebook.</b></div><div class=\"sk-container\" hidden><div class=\"sk-item sk-dashed-wrapped\"><div class=\"sk-label-container\"><div class=\"sk-label sk-toggleable\"><input class=\"sk-toggleable__control sk-hidden--visually\" id=\"cff728d5-fe9c-4fb7-aff7-722e589ffbd6\" type=\"checkbox\" ><label for=\"cff728d5-fe9c-4fb7-aff7-722e589ffbd6\" class=\"sk-toggleable__label sk-toggleable__label-arrow\">Pipeline</label><div class=\"sk-toggleable__content\"><pre>Pipeline(steps=[(&#x27;onehotencoder&#x27;,\n",
              "                 OneHotEncoder(handle_unknown=&#x27;ignore&#x27;, sparse=False))])</pre></div></div></div><div class=\"sk-serial\"><div class=\"sk-item\"><div class=\"sk-estimator sk-toggleable\"><input class=\"sk-toggleable__control sk-hidden--visually\" id=\"e9eb35d4-27ca-4cb4-9b86-bda832fbdfd7\" type=\"checkbox\" ><label for=\"e9eb35d4-27ca-4cb4-9b86-bda832fbdfd7\" class=\"sk-toggleable__label sk-toggleable__label-arrow\">OneHotEncoder</label><div class=\"sk-toggleable__content\"><pre>OneHotEncoder(handle_unknown=&#x27;ignore&#x27;, sparse=False)</pre></div></div></div></div></div></div></div>"
            ]
          },
          "metadata": {},
          "execution_count": 24
        }
      ]
    },
    {
      "cell_type": "code",
      "source": [
        "ord_pipeline = make_pipeline(ordinal)\n",
        "ord_pipeline"
      ],
      "metadata": {
        "colab": {
          "base_uri": "https://localhost:8080/",
          "height": 92
        },
        "id": "1L-mK9WGumS6",
        "outputId": "a89a0b87-e2b9-4002-a074-ef67299ad702"
      },
      "execution_count": 25,
      "outputs": [
        {
          "output_type": "execute_result",
          "data": {
            "text/plain": [
              "Pipeline(steps=[('ordinalencoder', OrdinalEncoder())])"
            ],
            "text/html": [
              "<style>#sk-cb83944f-900c-4506-9ceb-04387db2a175 {color: black;background-color: white;}#sk-cb83944f-900c-4506-9ceb-04387db2a175 pre{padding: 0;}#sk-cb83944f-900c-4506-9ceb-04387db2a175 div.sk-toggleable {background-color: white;}#sk-cb83944f-900c-4506-9ceb-04387db2a175 label.sk-toggleable__label {cursor: pointer;display: block;width: 100%;margin-bottom: 0;padding: 0.3em;box-sizing: border-box;text-align: center;}#sk-cb83944f-900c-4506-9ceb-04387db2a175 label.sk-toggleable__label-arrow:before {content: \"▸\";float: left;margin-right: 0.25em;color: #696969;}#sk-cb83944f-900c-4506-9ceb-04387db2a175 label.sk-toggleable__label-arrow:hover:before {color: black;}#sk-cb83944f-900c-4506-9ceb-04387db2a175 div.sk-estimator:hover label.sk-toggleable__label-arrow:before {color: black;}#sk-cb83944f-900c-4506-9ceb-04387db2a175 div.sk-toggleable__content {max-height: 0;max-width: 0;overflow: hidden;text-align: left;background-color: #f0f8ff;}#sk-cb83944f-900c-4506-9ceb-04387db2a175 div.sk-toggleable__content pre {margin: 0.2em;color: black;border-radius: 0.25em;background-color: #f0f8ff;}#sk-cb83944f-900c-4506-9ceb-04387db2a175 input.sk-toggleable__control:checked~div.sk-toggleable__content {max-height: 200px;max-width: 100%;overflow: auto;}#sk-cb83944f-900c-4506-9ceb-04387db2a175 input.sk-toggleable__control:checked~label.sk-toggleable__label-arrow:before {content: \"▾\";}#sk-cb83944f-900c-4506-9ceb-04387db2a175 div.sk-estimator input.sk-toggleable__control:checked~label.sk-toggleable__label {background-color: #d4ebff;}#sk-cb83944f-900c-4506-9ceb-04387db2a175 div.sk-label input.sk-toggleable__control:checked~label.sk-toggleable__label {background-color: #d4ebff;}#sk-cb83944f-900c-4506-9ceb-04387db2a175 input.sk-hidden--visually {border: 0;clip: rect(1px 1px 1px 1px);clip: rect(1px, 1px, 1px, 1px);height: 1px;margin: -1px;overflow: hidden;padding: 0;position: absolute;width: 1px;}#sk-cb83944f-900c-4506-9ceb-04387db2a175 div.sk-estimator {font-family: monospace;background-color: #f0f8ff;border: 1px dotted black;border-radius: 0.25em;box-sizing: border-box;margin-bottom: 0.5em;}#sk-cb83944f-900c-4506-9ceb-04387db2a175 div.sk-estimator:hover {background-color: #d4ebff;}#sk-cb83944f-900c-4506-9ceb-04387db2a175 div.sk-parallel-item::after {content: \"\";width: 100%;border-bottom: 1px solid gray;flex-grow: 1;}#sk-cb83944f-900c-4506-9ceb-04387db2a175 div.sk-label:hover label.sk-toggleable__label {background-color: #d4ebff;}#sk-cb83944f-900c-4506-9ceb-04387db2a175 div.sk-serial::before {content: \"\";position: absolute;border-left: 1px solid gray;box-sizing: border-box;top: 2em;bottom: 0;left: 50%;}#sk-cb83944f-900c-4506-9ceb-04387db2a175 div.sk-serial {display: flex;flex-direction: column;align-items: center;background-color: white;padding-right: 0.2em;padding-left: 0.2em;}#sk-cb83944f-900c-4506-9ceb-04387db2a175 div.sk-item {z-index: 1;}#sk-cb83944f-900c-4506-9ceb-04387db2a175 div.sk-parallel {display: flex;align-items: stretch;justify-content: center;background-color: white;}#sk-cb83944f-900c-4506-9ceb-04387db2a175 div.sk-parallel::before {content: \"\";position: absolute;border-left: 1px solid gray;box-sizing: border-box;top: 2em;bottom: 0;left: 50%;}#sk-cb83944f-900c-4506-9ceb-04387db2a175 div.sk-parallel-item {display: flex;flex-direction: column;position: relative;background-color: white;}#sk-cb83944f-900c-4506-9ceb-04387db2a175 div.sk-parallel-item:first-child::after {align-self: flex-end;width: 50%;}#sk-cb83944f-900c-4506-9ceb-04387db2a175 div.sk-parallel-item:last-child::after {align-self: flex-start;width: 50%;}#sk-cb83944f-900c-4506-9ceb-04387db2a175 div.sk-parallel-item:only-child::after {width: 0;}#sk-cb83944f-900c-4506-9ceb-04387db2a175 div.sk-dashed-wrapped {border: 1px dashed gray;margin: 0 0.4em 0.5em 0.4em;box-sizing: border-box;padding-bottom: 0.4em;background-color: white;position: relative;}#sk-cb83944f-900c-4506-9ceb-04387db2a175 div.sk-label label {font-family: monospace;font-weight: bold;background-color: white;display: inline-block;line-height: 1.2em;}#sk-cb83944f-900c-4506-9ceb-04387db2a175 div.sk-label-container {position: relative;z-index: 2;text-align: center;}#sk-cb83944f-900c-4506-9ceb-04387db2a175 div.sk-container {/* jupyter's `normalize.less` sets `[hidden] { display: none; }` but bootstrap.min.css set `[hidden] { display: none !important; }` so we also need the `!important` here to be able to override the default hidden behavior on the sphinx rendered scikit-learn.org. See: https://github.com/scikit-learn/scikit-learn/issues/21755 */display: inline-block !important;position: relative;}#sk-cb83944f-900c-4506-9ceb-04387db2a175 div.sk-text-repr-fallback {display: none;}</style><div id=\"sk-cb83944f-900c-4506-9ceb-04387db2a175\" class=\"sk-top-container\"><div class=\"sk-text-repr-fallback\"><pre>Pipeline(steps=[(&#x27;ordinalencoder&#x27;, OrdinalEncoder())])</pre><b>Please rerun this cell to show the HTML repr or trust the notebook.</b></div><div class=\"sk-container\" hidden><div class=\"sk-item sk-dashed-wrapped\"><div class=\"sk-label-container\"><div class=\"sk-label sk-toggleable\"><input class=\"sk-toggleable__control sk-hidden--visually\" id=\"e7b1d4f9-7d88-47c6-b71a-02d2906cdbbd\" type=\"checkbox\" ><label for=\"e7b1d4f9-7d88-47c6-b71a-02d2906cdbbd\" class=\"sk-toggleable__label sk-toggleable__label-arrow\">Pipeline</label><div class=\"sk-toggleable__content\"><pre>Pipeline(steps=[(&#x27;ordinalencoder&#x27;, OrdinalEncoder())])</pre></div></div></div><div class=\"sk-serial\"><div class=\"sk-item\"><div class=\"sk-estimator sk-toggleable\"><input class=\"sk-toggleable__control sk-hidden--visually\" id=\"e6602d79-0eb0-4d84-b9aa-22c7577232ba\" type=\"checkbox\" ><label for=\"e6602d79-0eb0-4d84-b9aa-22c7577232ba\" class=\"sk-toggleable__label sk-toggleable__label-arrow\">OrdinalEncoder</label><div class=\"sk-toggleable__content\"><pre>OrdinalEncoder()</pre></div></div></div></div></div></div></div>"
            ]
          },
          "metadata": {},
          "execution_count": 25
        }
      ]
    },
    {
      "cell_type": "code",
      "source": [
        "num_pipeline = make_pipeline(scaler)\n",
        "num_pipeline"
      ],
      "metadata": {
        "colab": {
          "base_uri": "https://localhost:8080/",
          "height": 92
        },
        "id": "PcvfxZ8Iumjw",
        "outputId": "d6cf0aaf-76c5-4713-8b66-3384d44caa33"
      },
      "execution_count": 26,
      "outputs": [
        {
          "output_type": "execute_result",
          "data": {
            "text/plain": [
              "Pipeline(steps=[('standardscaler', StandardScaler())])"
            ],
            "text/html": [
              "<style>#sk-cf9a71f3-5676-4955-8086-b52bb7c21135 {color: black;background-color: white;}#sk-cf9a71f3-5676-4955-8086-b52bb7c21135 pre{padding: 0;}#sk-cf9a71f3-5676-4955-8086-b52bb7c21135 div.sk-toggleable {background-color: white;}#sk-cf9a71f3-5676-4955-8086-b52bb7c21135 label.sk-toggleable__label {cursor: pointer;display: block;width: 100%;margin-bottom: 0;padding: 0.3em;box-sizing: border-box;text-align: center;}#sk-cf9a71f3-5676-4955-8086-b52bb7c21135 label.sk-toggleable__label-arrow:before {content: \"▸\";float: left;margin-right: 0.25em;color: #696969;}#sk-cf9a71f3-5676-4955-8086-b52bb7c21135 label.sk-toggleable__label-arrow:hover:before {color: black;}#sk-cf9a71f3-5676-4955-8086-b52bb7c21135 div.sk-estimator:hover label.sk-toggleable__label-arrow:before {color: black;}#sk-cf9a71f3-5676-4955-8086-b52bb7c21135 div.sk-toggleable__content {max-height: 0;max-width: 0;overflow: hidden;text-align: left;background-color: #f0f8ff;}#sk-cf9a71f3-5676-4955-8086-b52bb7c21135 div.sk-toggleable__content pre {margin: 0.2em;color: black;border-radius: 0.25em;background-color: #f0f8ff;}#sk-cf9a71f3-5676-4955-8086-b52bb7c21135 input.sk-toggleable__control:checked~div.sk-toggleable__content {max-height: 200px;max-width: 100%;overflow: auto;}#sk-cf9a71f3-5676-4955-8086-b52bb7c21135 input.sk-toggleable__control:checked~label.sk-toggleable__label-arrow:before {content: \"▾\";}#sk-cf9a71f3-5676-4955-8086-b52bb7c21135 div.sk-estimator input.sk-toggleable__control:checked~label.sk-toggleable__label {background-color: #d4ebff;}#sk-cf9a71f3-5676-4955-8086-b52bb7c21135 div.sk-label input.sk-toggleable__control:checked~label.sk-toggleable__label {background-color: #d4ebff;}#sk-cf9a71f3-5676-4955-8086-b52bb7c21135 input.sk-hidden--visually {border: 0;clip: rect(1px 1px 1px 1px);clip: rect(1px, 1px, 1px, 1px);height: 1px;margin: -1px;overflow: hidden;padding: 0;position: absolute;width: 1px;}#sk-cf9a71f3-5676-4955-8086-b52bb7c21135 div.sk-estimator {font-family: monospace;background-color: #f0f8ff;border: 1px dotted black;border-radius: 0.25em;box-sizing: border-box;margin-bottom: 0.5em;}#sk-cf9a71f3-5676-4955-8086-b52bb7c21135 div.sk-estimator:hover {background-color: #d4ebff;}#sk-cf9a71f3-5676-4955-8086-b52bb7c21135 div.sk-parallel-item::after {content: \"\";width: 100%;border-bottom: 1px solid gray;flex-grow: 1;}#sk-cf9a71f3-5676-4955-8086-b52bb7c21135 div.sk-label:hover label.sk-toggleable__label {background-color: #d4ebff;}#sk-cf9a71f3-5676-4955-8086-b52bb7c21135 div.sk-serial::before {content: \"\";position: absolute;border-left: 1px solid gray;box-sizing: border-box;top: 2em;bottom: 0;left: 50%;}#sk-cf9a71f3-5676-4955-8086-b52bb7c21135 div.sk-serial {display: flex;flex-direction: column;align-items: center;background-color: white;padding-right: 0.2em;padding-left: 0.2em;}#sk-cf9a71f3-5676-4955-8086-b52bb7c21135 div.sk-item {z-index: 1;}#sk-cf9a71f3-5676-4955-8086-b52bb7c21135 div.sk-parallel {display: flex;align-items: stretch;justify-content: center;background-color: white;}#sk-cf9a71f3-5676-4955-8086-b52bb7c21135 div.sk-parallel::before {content: \"\";position: absolute;border-left: 1px solid gray;box-sizing: border-box;top: 2em;bottom: 0;left: 50%;}#sk-cf9a71f3-5676-4955-8086-b52bb7c21135 div.sk-parallel-item {display: flex;flex-direction: column;position: relative;background-color: white;}#sk-cf9a71f3-5676-4955-8086-b52bb7c21135 div.sk-parallel-item:first-child::after {align-self: flex-end;width: 50%;}#sk-cf9a71f3-5676-4955-8086-b52bb7c21135 div.sk-parallel-item:last-child::after {align-self: flex-start;width: 50%;}#sk-cf9a71f3-5676-4955-8086-b52bb7c21135 div.sk-parallel-item:only-child::after {width: 0;}#sk-cf9a71f3-5676-4955-8086-b52bb7c21135 div.sk-dashed-wrapped {border: 1px dashed gray;margin: 0 0.4em 0.5em 0.4em;box-sizing: border-box;padding-bottom: 0.4em;background-color: white;position: relative;}#sk-cf9a71f3-5676-4955-8086-b52bb7c21135 div.sk-label label {font-family: monospace;font-weight: bold;background-color: white;display: inline-block;line-height: 1.2em;}#sk-cf9a71f3-5676-4955-8086-b52bb7c21135 div.sk-label-container {position: relative;z-index: 2;text-align: center;}#sk-cf9a71f3-5676-4955-8086-b52bb7c21135 div.sk-container {/* jupyter's `normalize.less` sets `[hidden] { display: none; }` but bootstrap.min.css set `[hidden] { display: none !important; }` so we also need the `!important` here to be able to override the default hidden behavior on the sphinx rendered scikit-learn.org. See: https://github.com/scikit-learn/scikit-learn/issues/21755 */display: inline-block !important;position: relative;}#sk-cf9a71f3-5676-4955-8086-b52bb7c21135 div.sk-text-repr-fallback {display: none;}</style><div id=\"sk-cf9a71f3-5676-4955-8086-b52bb7c21135\" class=\"sk-top-container\"><div class=\"sk-text-repr-fallback\"><pre>Pipeline(steps=[(&#x27;standardscaler&#x27;, StandardScaler())])</pre><b>Please rerun this cell to show the HTML repr or trust the notebook.</b></div><div class=\"sk-container\" hidden><div class=\"sk-item sk-dashed-wrapped\"><div class=\"sk-label-container\"><div class=\"sk-label sk-toggleable\"><input class=\"sk-toggleable__control sk-hidden--visually\" id=\"3c0cd70e-d645-4ae2-bc5b-8fec06c9b20b\" type=\"checkbox\" ><label for=\"3c0cd70e-d645-4ae2-bc5b-8fec06c9b20b\" class=\"sk-toggleable__label sk-toggleable__label-arrow\">Pipeline</label><div class=\"sk-toggleable__content\"><pre>Pipeline(steps=[(&#x27;standardscaler&#x27;, StandardScaler())])</pre></div></div></div><div class=\"sk-serial\"><div class=\"sk-item\"><div class=\"sk-estimator sk-toggleable\"><input class=\"sk-toggleable__control sk-hidden--visually\" id=\"e9be0a44-3685-45b8-8128-6af442ef73b3\" type=\"checkbox\" ><label for=\"e9be0a44-3685-45b8-8128-6af442ef73b3\" class=\"sk-toggleable__label sk-toggleable__label-arrow\">StandardScaler</label><div class=\"sk-toggleable__content\"><pre>StandardScaler()</pre></div></div></div></div></div></div></div>"
            ]
          },
          "metadata": {},
          "execution_count": 26
        }
      ]
    },
    {
      "cell_type": "code",
      "source": [
        "num_tuple = (num_pipeline, num_selector)\n",
        "nom_tuple = (nom_pipeline, nom_selector)\n",
        "ord_tuple = (ord_pipeline, ord_selector)\n",
        "\n",
        "preprocessor = make_column_transformer(num_tuple, nom_tuple, ord_tuple)\n",
        "preprocessor"
      ],
      "metadata": {
        "colab": {
          "base_uri": "https://localhost:8080/",
          "height": 118
        },
        "id": "6iv5g-4vsfdE",
        "outputId": "f853876a-09b1-4707-ebe3-48d3ad9d11fa"
      },
      "execution_count": 27,
      "outputs": [
        {
          "output_type": "execute_result",
          "data": {
            "text/plain": [
              "ColumnTransformer(transformers=[('pipeline-1',\n",
              "                                 Pipeline(steps=[('standardscaler',\n",
              "                                                  StandardScaler())]),\n",
              "                                 <sklearn.compose._column_transformer.make_column_selector object at 0x7ff6a81c0c10>),\n",
              "                                ('pipeline-2',\n",
              "                                 Pipeline(steps=[('onehotencoder',\n",
              "                                                  OneHotEncoder(handle_unknown='ignore',\n",
              "                                                                sparse=False))]),\n",
              "                                 ['Item_Identifier', 'Item_Type',\n",
              "                                  'Outlet_Identifier', 'Outlet_Type']),\n",
              "                                ('pipeline-3',\n",
              "                                 Pipeline(steps=[('ordinalencoder',\n",
              "                                                  OrdinalEncoder())]),\n",
              "                                 ['Item_Fat_Content', 'Outlet_Size',\n",
              "                                  'Outlet_Location_Type'])])"
            ],
            "text/html": [
              "<style>#sk-b17b3993-78cb-41ca-97b4-f75dc81c657d {color: black;background-color: white;}#sk-b17b3993-78cb-41ca-97b4-f75dc81c657d pre{padding: 0;}#sk-b17b3993-78cb-41ca-97b4-f75dc81c657d div.sk-toggleable {background-color: white;}#sk-b17b3993-78cb-41ca-97b4-f75dc81c657d label.sk-toggleable__label {cursor: pointer;display: block;width: 100%;margin-bottom: 0;padding: 0.3em;box-sizing: border-box;text-align: center;}#sk-b17b3993-78cb-41ca-97b4-f75dc81c657d label.sk-toggleable__label-arrow:before {content: \"▸\";float: left;margin-right: 0.25em;color: #696969;}#sk-b17b3993-78cb-41ca-97b4-f75dc81c657d label.sk-toggleable__label-arrow:hover:before {color: black;}#sk-b17b3993-78cb-41ca-97b4-f75dc81c657d div.sk-estimator:hover label.sk-toggleable__label-arrow:before {color: black;}#sk-b17b3993-78cb-41ca-97b4-f75dc81c657d div.sk-toggleable__content {max-height: 0;max-width: 0;overflow: hidden;text-align: left;background-color: #f0f8ff;}#sk-b17b3993-78cb-41ca-97b4-f75dc81c657d div.sk-toggleable__content pre {margin: 0.2em;color: black;border-radius: 0.25em;background-color: #f0f8ff;}#sk-b17b3993-78cb-41ca-97b4-f75dc81c657d input.sk-toggleable__control:checked~div.sk-toggleable__content {max-height: 200px;max-width: 100%;overflow: auto;}#sk-b17b3993-78cb-41ca-97b4-f75dc81c657d input.sk-toggleable__control:checked~label.sk-toggleable__label-arrow:before {content: \"▾\";}#sk-b17b3993-78cb-41ca-97b4-f75dc81c657d div.sk-estimator input.sk-toggleable__control:checked~label.sk-toggleable__label {background-color: #d4ebff;}#sk-b17b3993-78cb-41ca-97b4-f75dc81c657d div.sk-label input.sk-toggleable__control:checked~label.sk-toggleable__label {background-color: #d4ebff;}#sk-b17b3993-78cb-41ca-97b4-f75dc81c657d input.sk-hidden--visually {border: 0;clip: rect(1px 1px 1px 1px);clip: rect(1px, 1px, 1px, 1px);height: 1px;margin: -1px;overflow: hidden;padding: 0;position: absolute;width: 1px;}#sk-b17b3993-78cb-41ca-97b4-f75dc81c657d div.sk-estimator {font-family: monospace;background-color: #f0f8ff;border: 1px dotted black;border-radius: 0.25em;box-sizing: border-box;margin-bottom: 0.5em;}#sk-b17b3993-78cb-41ca-97b4-f75dc81c657d div.sk-estimator:hover {background-color: #d4ebff;}#sk-b17b3993-78cb-41ca-97b4-f75dc81c657d div.sk-parallel-item::after {content: \"\";width: 100%;border-bottom: 1px solid gray;flex-grow: 1;}#sk-b17b3993-78cb-41ca-97b4-f75dc81c657d div.sk-label:hover label.sk-toggleable__label {background-color: #d4ebff;}#sk-b17b3993-78cb-41ca-97b4-f75dc81c657d div.sk-serial::before {content: \"\";position: absolute;border-left: 1px solid gray;box-sizing: border-box;top: 2em;bottom: 0;left: 50%;}#sk-b17b3993-78cb-41ca-97b4-f75dc81c657d div.sk-serial {display: flex;flex-direction: column;align-items: center;background-color: white;padding-right: 0.2em;padding-left: 0.2em;}#sk-b17b3993-78cb-41ca-97b4-f75dc81c657d div.sk-item {z-index: 1;}#sk-b17b3993-78cb-41ca-97b4-f75dc81c657d div.sk-parallel {display: flex;align-items: stretch;justify-content: center;background-color: white;}#sk-b17b3993-78cb-41ca-97b4-f75dc81c657d div.sk-parallel::before {content: \"\";position: absolute;border-left: 1px solid gray;box-sizing: border-box;top: 2em;bottom: 0;left: 50%;}#sk-b17b3993-78cb-41ca-97b4-f75dc81c657d div.sk-parallel-item {display: flex;flex-direction: column;position: relative;background-color: white;}#sk-b17b3993-78cb-41ca-97b4-f75dc81c657d div.sk-parallel-item:first-child::after {align-self: flex-end;width: 50%;}#sk-b17b3993-78cb-41ca-97b4-f75dc81c657d div.sk-parallel-item:last-child::after {align-self: flex-start;width: 50%;}#sk-b17b3993-78cb-41ca-97b4-f75dc81c657d div.sk-parallel-item:only-child::after {width: 0;}#sk-b17b3993-78cb-41ca-97b4-f75dc81c657d div.sk-dashed-wrapped {border: 1px dashed gray;margin: 0 0.4em 0.5em 0.4em;box-sizing: border-box;padding-bottom: 0.4em;background-color: white;position: relative;}#sk-b17b3993-78cb-41ca-97b4-f75dc81c657d div.sk-label label {font-family: monospace;font-weight: bold;background-color: white;display: inline-block;line-height: 1.2em;}#sk-b17b3993-78cb-41ca-97b4-f75dc81c657d div.sk-label-container {position: relative;z-index: 2;text-align: center;}#sk-b17b3993-78cb-41ca-97b4-f75dc81c657d div.sk-container {/* jupyter's `normalize.less` sets `[hidden] { display: none; }` but bootstrap.min.css set `[hidden] { display: none !important; }` so we also need the `!important` here to be able to override the default hidden behavior on the sphinx rendered scikit-learn.org. See: https://github.com/scikit-learn/scikit-learn/issues/21755 */display: inline-block !important;position: relative;}#sk-b17b3993-78cb-41ca-97b4-f75dc81c657d div.sk-text-repr-fallback {display: none;}</style><div id=\"sk-b17b3993-78cb-41ca-97b4-f75dc81c657d\" class=\"sk-top-container\"><div class=\"sk-text-repr-fallback\"><pre>ColumnTransformer(transformers=[(&#x27;pipeline-1&#x27;,\n",
              "                                 Pipeline(steps=[(&#x27;standardscaler&#x27;,\n",
              "                                                  StandardScaler())]),\n",
              "                                 &lt;sklearn.compose._column_transformer.make_column_selector object at 0x7ff6a81c0c10&gt;),\n",
              "                                (&#x27;pipeline-2&#x27;,\n",
              "                                 Pipeline(steps=[(&#x27;onehotencoder&#x27;,\n",
              "                                                  OneHotEncoder(handle_unknown=&#x27;ignore&#x27;,\n",
              "                                                                sparse=False))]),\n",
              "                                 [&#x27;Item_Identifier&#x27;, &#x27;Item_Type&#x27;,\n",
              "                                  &#x27;Outlet_Identifier&#x27;, &#x27;Outlet_Type&#x27;]),\n",
              "                                (&#x27;pipeline-3&#x27;,\n",
              "                                 Pipeline(steps=[(&#x27;ordinalencoder&#x27;,\n",
              "                                                  OrdinalEncoder())]),\n",
              "                                 [&#x27;Item_Fat_Content&#x27;, &#x27;Outlet_Size&#x27;,\n",
              "                                  &#x27;Outlet_Location_Type&#x27;])])</pre><b>Please rerun this cell to show the HTML repr or trust the notebook.</b></div><div class=\"sk-container\" hidden><div class=\"sk-item sk-dashed-wrapped\"><div class=\"sk-label-container\"><div class=\"sk-label sk-toggleable\"><input class=\"sk-toggleable__control sk-hidden--visually\" id=\"43b52e13-1af3-458a-9b60-af59976ab1d9\" type=\"checkbox\" ><label for=\"43b52e13-1af3-458a-9b60-af59976ab1d9\" class=\"sk-toggleable__label sk-toggleable__label-arrow\">ColumnTransformer</label><div class=\"sk-toggleable__content\"><pre>ColumnTransformer(transformers=[(&#x27;pipeline-1&#x27;,\n",
              "                                 Pipeline(steps=[(&#x27;standardscaler&#x27;,\n",
              "                                                  StandardScaler())]),\n",
              "                                 &lt;sklearn.compose._column_transformer.make_column_selector object at 0x7ff6a81c0c10&gt;),\n",
              "                                (&#x27;pipeline-2&#x27;,\n",
              "                                 Pipeline(steps=[(&#x27;onehotencoder&#x27;,\n",
              "                                                  OneHotEncoder(handle_unknown=&#x27;ignore&#x27;,\n",
              "                                                                sparse=False))]),\n",
              "                                 [&#x27;Item_Identifier&#x27;, &#x27;Item_Type&#x27;,\n",
              "                                  &#x27;Outlet_Identifier&#x27;, &#x27;Outlet_Type&#x27;]),\n",
              "                                (&#x27;pipeline-3&#x27;,\n",
              "                                 Pipeline(steps=[(&#x27;ordinalencoder&#x27;,\n",
              "                                                  OrdinalEncoder())]),\n",
              "                                 [&#x27;Item_Fat_Content&#x27;, &#x27;Outlet_Size&#x27;,\n",
              "                                  &#x27;Outlet_Location_Type&#x27;])])</pre></div></div></div><div class=\"sk-parallel\"><div class=\"sk-parallel-item\"><div class=\"sk-item\"><div class=\"sk-label-container\"><div class=\"sk-label sk-toggleable\"><input class=\"sk-toggleable__control sk-hidden--visually\" id=\"d9bca3cf-72ec-4e37-ac78-6a44e68c836d\" type=\"checkbox\" ><label for=\"d9bca3cf-72ec-4e37-ac78-6a44e68c836d\" class=\"sk-toggleable__label sk-toggleable__label-arrow\">pipeline-1</label><div class=\"sk-toggleable__content\"><pre>&lt;sklearn.compose._column_transformer.make_column_selector object at 0x7ff6a81c0c10&gt;</pre></div></div></div><div class=\"sk-serial\"><div class=\"sk-item\"><div class=\"sk-serial\"><div class=\"sk-item\"><div class=\"sk-estimator sk-toggleable\"><input class=\"sk-toggleable__control sk-hidden--visually\" id=\"e7a8c900-5b49-4f8d-8be9-ca3479a81d2b\" type=\"checkbox\" ><label for=\"e7a8c900-5b49-4f8d-8be9-ca3479a81d2b\" class=\"sk-toggleable__label sk-toggleable__label-arrow\">StandardScaler</label><div class=\"sk-toggleable__content\"><pre>StandardScaler()</pre></div></div></div></div></div></div></div></div><div class=\"sk-parallel-item\"><div class=\"sk-item\"><div class=\"sk-label-container\"><div class=\"sk-label sk-toggleable\"><input class=\"sk-toggleable__control sk-hidden--visually\" id=\"08c94653-3dc7-4cb7-a70a-9fad4dda75bb\" type=\"checkbox\" ><label for=\"08c94653-3dc7-4cb7-a70a-9fad4dda75bb\" class=\"sk-toggleable__label sk-toggleable__label-arrow\">pipeline-2</label><div class=\"sk-toggleable__content\"><pre>[&#x27;Item_Identifier&#x27;, &#x27;Item_Type&#x27;, &#x27;Outlet_Identifier&#x27;, &#x27;Outlet_Type&#x27;]</pre></div></div></div><div class=\"sk-serial\"><div class=\"sk-item\"><div class=\"sk-serial\"><div class=\"sk-item\"><div class=\"sk-estimator sk-toggleable\"><input class=\"sk-toggleable__control sk-hidden--visually\" id=\"755ce19e-0e32-479e-bd1e-9a5a7be19f75\" type=\"checkbox\" ><label for=\"755ce19e-0e32-479e-bd1e-9a5a7be19f75\" class=\"sk-toggleable__label sk-toggleable__label-arrow\">OneHotEncoder</label><div class=\"sk-toggleable__content\"><pre>OneHotEncoder(handle_unknown=&#x27;ignore&#x27;, sparse=False)</pre></div></div></div></div></div></div></div></div><div class=\"sk-parallel-item\"><div class=\"sk-item\"><div class=\"sk-label-container\"><div class=\"sk-label sk-toggleable\"><input class=\"sk-toggleable__control sk-hidden--visually\" id=\"fdddc543-8407-4e22-a75b-bf25c0b77a5e\" type=\"checkbox\" ><label for=\"fdddc543-8407-4e22-a75b-bf25c0b77a5e\" class=\"sk-toggleable__label sk-toggleable__label-arrow\">pipeline-3</label><div class=\"sk-toggleable__content\"><pre>[&#x27;Item_Fat_Content&#x27;, &#x27;Outlet_Size&#x27;, &#x27;Outlet_Location_Type&#x27;]</pre></div></div></div><div class=\"sk-serial\"><div class=\"sk-item\"><div class=\"sk-serial\"><div class=\"sk-item\"><div class=\"sk-estimator sk-toggleable\"><input class=\"sk-toggleable__control sk-hidden--visually\" id=\"dc7bd1c0-5735-4484-a0ce-68d544559721\" type=\"checkbox\" ><label for=\"dc7bd1c0-5735-4484-a0ce-68d544559721\" class=\"sk-toggleable__label sk-toggleable__label-arrow\">OrdinalEncoder</label><div class=\"sk-toggleable__content\"><pre>OrdinalEncoder()</pre></div></div></div></div></div></div></div></div></div></div></div></div>"
            ]
          },
          "metadata": {},
          "execution_count": 27
        }
      ]
    },
    {
      "cell_type": "code",
      "source": [
        "preprocessor.fit(X_train)"
      ],
      "metadata": {
        "colab": {
          "base_uri": "https://localhost:8080/",
          "height": 118
        },
        "id": "8mZI1taLvDdJ",
        "outputId": "9238a1cc-127f-45c0-9345-922894d96bda"
      },
      "execution_count": 28,
      "outputs": [
        {
          "output_type": "execute_result",
          "data": {
            "text/plain": [
              "ColumnTransformer(transformers=[('pipeline-1',\n",
              "                                 Pipeline(steps=[('standardscaler',\n",
              "                                                  StandardScaler())]),\n",
              "                                 <sklearn.compose._column_transformer.make_column_selector object at 0x7ff6a81c0c10>),\n",
              "                                ('pipeline-2',\n",
              "                                 Pipeline(steps=[('onehotencoder',\n",
              "                                                  OneHotEncoder(handle_unknown='ignore',\n",
              "                                                                sparse=False))]),\n",
              "                                 ['Item_Identifier', 'Item_Type',\n",
              "                                  'Outlet_Identifier', 'Outlet_Type']),\n",
              "                                ('pipeline-3',\n",
              "                                 Pipeline(steps=[('ordinalencoder',\n",
              "                                                  OrdinalEncoder())]),\n",
              "                                 ['Item_Fat_Content', 'Outlet_Size',\n",
              "                                  'Outlet_Location_Type'])])"
            ],
            "text/html": [
              "<style>#sk-9aa28425-fbb9-449e-a5a4-bd4c435369eb {color: black;background-color: white;}#sk-9aa28425-fbb9-449e-a5a4-bd4c435369eb pre{padding: 0;}#sk-9aa28425-fbb9-449e-a5a4-bd4c435369eb div.sk-toggleable {background-color: white;}#sk-9aa28425-fbb9-449e-a5a4-bd4c435369eb label.sk-toggleable__label {cursor: pointer;display: block;width: 100%;margin-bottom: 0;padding: 0.3em;box-sizing: border-box;text-align: center;}#sk-9aa28425-fbb9-449e-a5a4-bd4c435369eb label.sk-toggleable__label-arrow:before {content: \"▸\";float: left;margin-right: 0.25em;color: #696969;}#sk-9aa28425-fbb9-449e-a5a4-bd4c435369eb label.sk-toggleable__label-arrow:hover:before {color: black;}#sk-9aa28425-fbb9-449e-a5a4-bd4c435369eb div.sk-estimator:hover label.sk-toggleable__label-arrow:before {color: black;}#sk-9aa28425-fbb9-449e-a5a4-bd4c435369eb div.sk-toggleable__content {max-height: 0;max-width: 0;overflow: hidden;text-align: left;background-color: #f0f8ff;}#sk-9aa28425-fbb9-449e-a5a4-bd4c435369eb div.sk-toggleable__content pre {margin: 0.2em;color: black;border-radius: 0.25em;background-color: #f0f8ff;}#sk-9aa28425-fbb9-449e-a5a4-bd4c435369eb input.sk-toggleable__control:checked~div.sk-toggleable__content {max-height: 200px;max-width: 100%;overflow: auto;}#sk-9aa28425-fbb9-449e-a5a4-bd4c435369eb input.sk-toggleable__control:checked~label.sk-toggleable__label-arrow:before {content: \"▾\";}#sk-9aa28425-fbb9-449e-a5a4-bd4c435369eb div.sk-estimator input.sk-toggleable__control:checked~label.sk-toggleable__label {background-color: #d4ebff;}#sk-9aa28425-fbb9-449e-a5a4-bd4c435369eb div.sk-label input.sk-toggleable__control:checked~label.sk-toggleable__label {background-color: #d4ebff;}#sk-9aa28425-fbb9-449e-a5a4-bd4c435369eb input.sk-hidden--visually {border: 0;clip: rect(1px 1px 1px 1px);clip: rect(1px, 1px, 1px, 1px);height: 1px;margin: -1px;overflow: hidden;padding: 0;position: absolute;width: 1px;}#sk-9aa28425-fbb9-449e-a5a4-bd4c435369eb div.sk-estimator {font-family: monospace;background-color: #f0f8ff;border: 1px dotted black;border-radius: 0.25em;box-sizing: border-box;margin-bottom: 0.5em;}#sk-9aa28425-fbb9-449e-a5a4-bd4c435369eb div.sk-estimator:hover {background-color: #d4ebff;}#sk-9aa28425-fbb9-449e-a5a4-bd4c435369eb div.sk-parallel-item::after {content: \"\";width: 100%;border-bottom: 1px solid gray;flex-grow: 1;}#sk-9aa28425-fbb9-449e-a5a4-bd4c435369eb div.sk-label:hover label.sk-toggleable__label {background-color: #d4ebff;}#sk-9aa28425-fbb9-449e-a5a4-bd4c435369eb div.sk-serial::before {content: \"\";position: absolute;border-left: 1px solid gray;box-sizing: border-box;top: 2em;bottom: 0;left: 50%;}#sk-9aa28425-fbb9-449e-a5a4-bd4c435369eb div.sk-serial {display: flex;flex-direction: column;align-items: center;background-color: white;padding-right: 0.2em;padding-left: 0.2em;}#sk-9aa28425-fbb9-449e-a5a4-bd4c435369eb div.sk-item {z-index: 1;}#sk-9aa28425-fbb9-449e-a5a4-bd4c435369eb div.sk-parallel {display: flex;align-items: stretch;justify-content: center;background-color: white;}#sk-9aa28425-fbb9-449e-a5a4-bd4c435369eb div.sk-parallel::before {content: \"\";position: absolute;border-left: 1px solid gray;box-sizing: border-box;top: 2em;bottom: 0;left: 50%;}#sk-9aa28425-fbb9-449e-a5a4-bd4c435369eb div.sk-parallel-item {display: flex;flex-direction: column;position: relative;background-color: white;}#sk-9aa28425-fbb9-449e-a5a4-bd4c435369eb div.sk-parallel-item:first-child::after {align-self: flex-end;width: 50%;}#sk-9aa28425-fbb9-449e-a5a4-bd4c435369eb div.sk-parallel-item:last-child::after {align-self: flex-start;width: 50%;}#sk-9aa28425-fbb9-449e-a5a4-bd4c435369eb div.sk-parallel-item:only-child::after {width: 0;}#sk-9aa28425-fbb9-449e-a5a4-bd4c435369eb div.sk-dashed-wrapped {border: 1px dashed gray;margin: 0 0.4em 0.5em 0.4em;box-sizing: border-box;padding-bottom: 0.4em;background-color: white;position: relative;}#sk-9aa28425-fbb9-449e-a5a4-bd4c435369eb div.sk-label label {font-family: monospace;font-weight: bold;background-color: white;display: inline-block;line-height: 1.2em;}#sk-9aa28425-fbb9-449e-a5a4-bd4c435369eb div.sk-label-container {position: relative;z-index: 2;text-align: center;}#sk-9aa28425-fbb9-449e-a5a4-bd4c435369eb div.sk-container {/* jupyter's `normalize.less` sets `[hidden] { display: none; }` but bootstrap.min.css set `[hidden] { display: none !important; }` so we also need the `!important` here to be able to override the default hidden behavior on the sphinx rendered scikit-learn.org. See: https://github.com/scikit-learn/scikit-learn/issues/21755 */display: inline-block !important;position: relative;}#sk-9aa28425-fbb9-449e-a5a4-bd4c435369eb div.sk-text-repr-fallback {display: none;}</style><div id=\"sk-9aa28425-fbb9-449e-a5a4-bd4c435369eb\" class=\"sk-top-container\"><div class=\"sk-text-repr-fallback\"><pre>ColumnTransformer(transformers=[(&#x27;pipeline-1&#x27;,\n",
              "                                 Pipeline(steps=[(&#x27;standardscaler&#x27;,\n",
              "                                                  StandardScaler())]),\n",
              "                                 &lt;sklearn.compose._column_transformer.make_column_selector object at 0x7ff6a81c0c10&gt;),\n",
              "                                (&#x27;pipeline-2&#x27;,\n",
              "                                 Pipeline(steps=[(&#x27;onehotencoder&#x27;,\n",
              "                                                  OneHotEncoder(handle_unknown=&#x27;ignore&#x27;,\n",
              "                                                                sparse=False))]),\n",
              "                                 [&#x27;Item_Identifier&#x27;, &#x27;Item_Type&#x27;,\n",
              "                                  &#x27;Outlet_Identifier&#x27;, &#x27;Outlet_Type&#x27;]),\n",
              "                                (&#x27;pipeline-3&#x27;,\n",
              "                                 Pipeline(steps=[(&#x27;ordinalencoder&#x27;,\n",
              "                                                  OrdinalEncoder())]),\n",
              "                                 [&#x27;Item_Fat_Content&#x27;, &#x27;Outlet_Size&#x27;,\n",
              "                                  &#x27;Outlet_Location_Type&#x27;])])</pre><b>Please rerun this cell to show the HTML repr or trust the notebook.</b></div><div class=\"sk-container\" hidden><div class=\"sk-item sk-dashed-wrapped\"><div class=\"sk-label-container\"><div class=\"sk-label sk-toggleable\"><input class=\"sk-toggleable__control sk-hidden--visually\" id=\"fa3f372b-bf94-4071-8172-1e8fa5086e19\" type=\"checkbox\" ><label for=\"fa3f372b-bf94-4071-8172-1e8fa5086e19\" class=\"sk-toggleable__label sk-toggleable__label-arrow\">ColumnTransformer</label><div class=\"sk-toggleable__content\"><pre>ColumnTransformer(transformers=[(&#x27;pipeline-1&#x27;,\n",
              "                                 Pipeline(steps=[(&#x27;standardscaler&#x27;,\n",
              "                                                  StandardScaler())]),\n",
              "                                 &lt;sklearn.compose._column_transformer.make_column_selector object at 0x7ff6a81c0c10&gt;),\n",
              "                                (&#x27;pipeline-2&#x27;,\n",
              "                                 Pipeline(steps=[(&#x27;onehotencoder&#x27;,\n",
              "                                                  OneHotEncoder(handle_unknown=&#x27;ignore&#x27;,\n",
              "                                                                sparse=False))]),\n",
              "                                 [&#x27;Item_Identifier&#x27;, &#x27;Item_Type&#x27;,\n",
              "                                  &#x27;Outlet_Identifier&#x27;, &#x27;Outlet_Type&#x27;]),\n",
              "                                (&#x27;pipeline-3&#x27;,\n",
              "                                 Pipeline(steps=[(&#x27;ordinalencoder&#x27;,\n",
              "                                                  OrdinalEncoder())]),\n",
              "                                 [&#x27;Item_Fat_Content&#x27;, &#x27;Outlet_Size&#x27;,\n",
              "                                  &#x27;Outlet_Location_Type&#x27;])])</pre></div></div></div><div class=\"sk-parallel\"><div class=\"sk-parallel-item\"><div class=\"sk-item\"><div class=\"sk-label-container\"><div class=\"sk-label sk-toggleable\"><input class=\"sk-toggleable__control sk-hidden--visually\" id=\"fd480bd7-34f2-4296-b098-c04f3c12d0dd\" type=\"checkbox\" ><label for=\"fd480bd7-34f2-4296-b098-c04f3c12d0dd\" class=\"sk-toggleable__label sk-toggleable__label-arrow\">pipeline-1</label><div class=\"sk-toggleable__content\"><pre>&lt;sklearn.compose._column_transformer.make_column_selector object at 0x7ff6a81c0c10&gt;</pre></div></div></div><div class=\"sk-serial\"><div class=\"sk-item\"><div class=\"sk-serial\"><div class=\"sk-item\"><div class=\"sk-estimator sk-toggleable\"><input class=\"sk-toggleable__control sk-hidden--visually\" id=\"c7bdd95c-1cda-496d-a564-aa512ed661f9\" type=\"checkbox\" ><label for=\"c7bdd95c-1cda-496d-a564-aa512ed661f9\" class=\"sk-toggleable__label sk-toggleable__label-arrow\">StandardScaler</label><div class=\"sk-toggleable__content\"><pre>StandardScaler()</pre></div></div></div></div></div></div></div></div><div class=\"sk-parallel-item\"><div class=\"sk-item\"><div class=\"sk-label-container\"><div class=\"sk-label sk-toggleable\"><input class=\"sk-toggleable__control sk-hidden--visually\" id=\"9c35a4f1-2bdc-4a13-8ac7-faf7b76847f9\" type=\"checkbox\" ><label for=\"9c35a4f1-2bdc-4a13-8ac7-faf7b76847f9\" class=\"sk-toggleable__label sk-toggleable__label-arrow\">pipeline-2</label><div class=\"sk-toggleable__content\"><pre>[&#x27;Item_Identifier&#x27;, &#x27;Item_Type&#x27;, &#x27;Outlet_Identifier&#x27;, &#x27;Outlet_Type&#x27;]</pre></div></div></div><div class=\"sk-serial\"><div class=\"sk-item\"><div class=\"sk-serial\"><div class=\"sk-item\"><div class=\"sk-estimator sk-toggleable\"><input class=\"sk-toggleable__control sk-hidden--visually\" id=\"63d8ee6e-0524-462f-ad53-cd814b787897\" type=\"checkbox\" ><label for=\"63d8ee6e-0524-462f-ad53-cd814b787897\" class=\"sk-toggleable__label sk-toggleable__label-arrow\">OneHotEncoder</label><div class=\"sk-toggleable__content\"><pre>OneHotEncoder(handle_unknown=&#x27;ignore&#x27;, sparse=False)</pre></div></div></div></div></div></div></div></div><div class=\"sk-parallel-item\"><div class=\"sk-item\"><div class=\"sk-label-container\"><div class=\"sk-label sk-toggleable\"><input class=\"sk-toggleable__control sk-hidden--visually\" id=\"6fb24ec9-9229-482a-84d8-13a2ae25f2e8\" type=\"checkbox\" ><label for=\"6fb24ec9-9229-482a-84d8-13a2ae25f2e8\" class=\"sk-toggleable__label sk-toggleable__label-arrow\">pipeline-3</label><div class=\"sk-toggleable__content\"><pre>[&#x27;Item_Fat_Content&#x27;, &#x27;Outlet_Size&#x27;, &#x27;Outlet_Location_Type&#x27;]</pre></div></div></div><div class=\"sk-serial\"><div class=\"sk-item\"><div class=\"sk-serial\"><div class=\"sk-item\"><div class=\"sk-estimator sk-toggleable\"><input class=\"sk-toggleable__control sk-hidden--visually\" id=\"55503422-ed38-4899-a776-d7ebd84f2601\" type=\"checkbox\" ><label for=\"55503422-ed38-4899-a776-d7ebd84f2601\" class=\"sk-toggleable__label sk-toggleable__label-arrow\">OrdinalEncoder</label><div class=\"sk-toggleable__content\"><pre>OrdinalEncoder()</pre></div></div></div></div></div></div></div></div></div></div></div></div>"
            ]
          },
          "metadata": {},
          "execution_count": 28
        }
      ]
    },
    {
      "cell_type": "code",
      "source": [
        "X_train_processed = preprocessor.transform(X_train)\n",
        "X_test_processed = preprocessor.transform(X_test)"
      ],
      "metadata": {
        "id": "1_txeEgTvTda"
      },
      "execution_count": 29,
      "outputs": []
    },
    {
      "cell_type": "code",
      "source": [
        "X_train_processed"
      ],
      "metadata": {
        "colab": {
          "base_uri": "https://localhost:8080/"
        },
        "id": "OTMY-d9xy8Rb",
        "outputId": "904243c6-1370-4857-e43c-c34ef15eaac1"
      },
      "execution_count": 30,
      "outputs": [
        {
          "output_type": "execute_result",
          "data": {
            "text/plain": [
              "array([[ 0.88973625, -0.99064597,  1.4001601 , ...,  1.        ,\n",
              "         2.        ,  1.        ],\n",
              "       [ 0.85743471,  1.97490651,  0.84991876, ...,  1.        ,\n",
              "         0.        ,  2.        ],\n",
              "       [-0.61766898, -0.78894269,  1.95842539, ...,  0.        ,\n",
              "         3.        ,  0.        ],\n",
              "       ...,\n",
              "       [ 1.53576706, -1.32206308, -1.56913136, ...,  0.        ,\n",
              "         1.        ,  2.        ],\n",
              "       [ 0.02836184,  0.4003807 ,  0.87711677, ...,  1.        ,\n",
              "         0.        ,  2.        ],\n",
              "       [-0.29465357, -1.01357905,  0.49141151, ...,  0.        ,\n",
              "         2.        ,  1.        ]])"
            ]
          },
          "metadata": {},
          "execution_count": 30
        }
      ]
    },
    {
      "cell_type": "code",
      "source": [
        "X_test_processed"
      ],
      "metadata": {
        "colab": {
          "base_uri": "https://localhost:8080/"
        },
        "id": "rGe9pQ8IzHQg",
        "outputId": "083165c8-8207-41d1-c0d4-dc6568371c2e"
      },
      "execution_count": 31,
      "outputs": [
        {
          "output_type": "execute_result",
          "data": {
            "text/plain": [
              "array([[ 1.48193116, -1.02518789, -0.62511908, ...,  0.        ,\n",
              "         2.        ,  1.        ],\n",
              "       [ 1.69727476, -0.88094324,  0.18962081, ...,  0.        ,\n",
              "         2.        ,  1.        ],\n",
              "       [-0.91915002, -1.32206308, -0.15495043, ...,  1.        ,\n",
              "         1.        ,  0.        ],\n",
              "       ...,\n",
              "       [ 0.5882552 ,  0.488631  ,  1.24200146, ...,  0.        ,\n",
              "         3.        ,  0.        ],\n",
              "       [-1.65670186, -0.69558957, -1.67057345, ...,  0.        ,\n",
              "         3.        ,  1.        ],\n",
              "       [-0.79102058, -0.34544574, -1.45105079, ...,  1.        ,\n",
              "         1.        ,  2.        ]])"
            ]
          },
          "metadata": {},
          "execution_count": 31
        }
      ]
    },
    {
      "cell_type": "markdown",
      "source": [
        "Regresion Lineal"
      ],
      "metadata": {
        "id": "O6etGSdVTRbb"
      }
    },
    {
      "cell_type": "code",
      "source": [
        "from sklearn.linear_model import LinearRegression\n",
        "from sklearn.metrics import r2_score, mean_squared_error"
      ],
      "metadata": {
        "id": "Y6sv3xSbTOkH"
      },
      "execution_count": 41,
      "outputs": []
    },
    {
      "cell_type": "code",
      "source": [
        "lin_reg = LinearRegression()\n",
        "\n",
        "lin_reg.fit(X_train_processed, y_train)"
      ],
      "metadata": {
        "colab": {
          "base_uri": "https://localhost:8080/",
          "height": 75
        },
        "id": "OBLzpyjcTVyN",
        "outputId": "fc643134-fc3c-42d4-bb9a-2c8fa4c5f70e"
      },
      "execution_count": 33,
      "outputs": [
        {
          "output_type": "execute_result",
          "data": {
            "text/plain": [
              "LinearRegression()"
            ],
            "text/html": [
              "<style>#sk-ad12a4a9-e0d5-4c6c-9d04-cac61537b2d3 {color: black;background-color: white;}#sk-ad12a4a9-e0d5-4c6c-9d04-cac61537b2d3 pre{padding: 0;}#sk-ad12a4a9-e0d5-4c6c-9d04-cac61537b2d3 div.sk-toggleable {background-color: white;}#sk-ad12a4a9-e0d5-4c6c-9d04-cac61537b2d3 label.sk-toggleable__label {cursor: pointer;display: block;width: 100%;margin-bottom: 0;padding: 0.3em;box-sizing: border-box;text-align: center;}#sk-ad12a4a9-e0d5-4c6c-9d04-cac61537b2d3 label.sk-toggleable__label-arrow:before {content: \"▸\";float: left;margin-right: 0.25em;color: #696969;}#sk-ad12a4a9-e0d5-4c6c-9d04-cac61537b2d3 label.sk-toggleable__label-arrow:hover:before {color: black;}#sk-ad12a4a9-e0d5-4c6c-9d04-cac61537b2d3 div.sk-estimator:hover label.sk-toggleable__label-arrow:before {color: black;}#sk-ad12a4a9-e0d5-4c6c-9d04-cac61537b2d3 div.sk-toggleable__content {max-height: 0;max-width: 0;overflow: hidden;text-align: left;background-color: #f0f8ff;}#sk-ad12a4a9-e0d5-4c6c-9d04-cac61537b2d3 div.sk-toggleable__content pre {margin: 0.2em;color: black;border-radius: 0.25em;background-color: #f0f8ff;}#sk-ad12a4a9-e0d5-4c6c-9d04-cac61537b2d3 input.sk-toggleable__control:checked~div.sk-toggleable__content {max-height: 200px;max-width: 100%;overflow: auto;}#sk-ad12a4a9-e0d5-4c6c-9d04-cac61537b2d3 input.sk-toggleable__control:checked~label.sk-toggleable__label-arrow:before {content: \"▾\";}#sk-ad12a4a9-e0d5-4c6c-9d04-cac61537b2d3 div.sk-estimator input.sk-toggleable__control:checked~label.sk-toggleable__label {background-color: #d4ebff;}#sk-ad12a4a9-e0d5-4c6c-9d04-cac61537b2d3 div.sk-label input.sk-toggleable__control:checked~label.sk-toggleable__label {background-color: #d4ebff;}#sk-ad12a4a9-e0d5-4c6c-9d04-cac61537b2d3 input.sk-hidden--visually {border: 0;clip: rect(1px 1px 1px 1px);clip: rect(1px, 1px, 1px, 1px);height: 1px;margin: -1px;overflow: hidden;padding: 0;position: absolute;width: 1px;}#sk-ad12a4a9-e0d5-4c6c-9d04-cac61537b2d3 div.sk-estimator {font-family: monospace;background-color: #f0f8ff;border: 1px dotted black;border-radius: 0.25em;box-sizing: border-box;margin-bottom: 0.5em;}#sk-ad12a4a9-e0d5-4c6c-9d04-cac61537b2d3 div.sk-estimator:hover {background-color: #d4ebff;}#sk-ad12a4a9-e0d5-4c6c-9d04-cac61537b2d3 div.sk-parallel-item::after {content: \"\";width: 100%;border-bottom: 1px solid gray;flex-grow: 1;}#sk-ad12a4a9-e0d5-4c6c-9d04-cac61537b2d3 div.sk-label:hover label.sk-toggleable__label {background-color: #d4ebff;}#sk-ad12a4a9-e0d5-4c6c-9d04-cac61537b2d3 div.sk-serial::before {content: \"\";position: absolute;border-left: 1px solid gray;box-sizing: border-box;top: 2em;bottom: 0;left: 50%;}#sk-ad12a4a9-e0d5-4c6c-9d04-cac61537b2d3 div.sk-serial {display: flex;flex-direction: column;align-items: center;background-color: white;padding-right: 0.2em;padding-left: 0.2em;}#sk-ad12a4a9-e0d5-4c6c-9d04-cac61537b2d3 div.sk-item {z-index: 1;}#sk-ad12a4a9-e0d5-4c6c-9d04-cac61537b2d3 div.sk-parallel {display: flex;align-items: stretch;justify-content: center;background-color: white;}#sk-ad12a4a9-e0d5-4c6c-9d04-cac61537b2d3 div.sk-parallel::before {content: \"\";position: absolute;border-left: 1px solid gray;box-sizing: border-box;top: 2em;bottom: 0;left: 50%;}#sk-ad12a4a9-e0d5-4c6c-9d04-cac61537b2d3 div.sk-parallel-item {display: flex;flex-direction: column;position: relative;background-color: white;}#sk-ad12a4a9-e0d5-4c6c-9d04-cac61537b2d3 div.sk-parallel-item:first-child::after {align-self: flex-end;width: 50%;}#sk-ad12a4a9-e0d5-4c6c-9d04-cac61537b2d3 div.sk-parallel-item:last-child::after {align-self: flex-start;width: 50%;}#sk-ad12a4a9-e0d5-4c6c-9d04-cac61537b2d3 div.sk-parallel-item:only-child::after {width: 0;}#sk-ad12a4a9-e0d5-4c6c-9d04-cac61537b2d3 div.sk-dashed-wrapped {border: 1px dashed gray;margin: 0 0.4em 0.5em 0.4em;box-sizing: border-box;padding-bottom: 0.4em;background-color: white;position: relative;}#sk-ad12a4a9-e0d5-4c6c-9d04-cac61537b2d3 div.sk-label label {font-family: monospace;font-weight: bold;background-color: white;display: inline-block;line-height: 1.2em;}#sk-ad12a4a9-e0d5-4c6c-9d04-cac61537b2d3 div.sk-label-container {position: relative;z-index: 2;text-align: center;}#sk-ad12a4a9-e0d5-4c6c-9d04-cac61537b2d3 div.sk-container {/* jupyter's `normalize.less` sets `[hidden] { display: none; }` but bootstrap.min.css set `[hidden] { display: none !important; }` so we also need the `!important` here to be able to override the default hidden behavior on the sphinx rendered scikit-learn.org. See: https://github.com/scikit-learn/scikit-learn/issues/21755 */display: inline-block !important;position: relative;}#sk-ad12a4a9-e0d5-4c6c-9d04-cac61537b2d3 div.sk-text-repr-fallback {display: none;}</style><div id=\"sk-ad12a4a9-e0d5-4c6c-9d04-cac61537b2d3\" class=\"sk-top-container\"><div class=\"sk-text-repr-fallback\"><pre>LinearRegression()</pre><b>Please rerun this cell to show the HTML repr or trust the notebook.</b></div><div class=\"sk-container\" hidden><div class=\"sk-item\"><div class=\"sk-estimator sk-toggleable\"><input class=\"sk-toggleable__control sk-hidden--visually\" id=\"a10dc827-f229-4b5e-9891-fbede4426d5e\" type=\"checkbox\" checked><label for=\"a10dc827-f229-4b5e-9891-fbede4426d5e\" class=\"sk-toggleable__label sk-toggleable__label-arrow\">LinearRegression</label><div class=\"sk-toggleable__content\"><pre>LinearRegression()</pre></div></div></div></div></div>"
            ]
          },
          "metadata": {},
          "execution_count": 33
        }
      ]
    },
    {
      "cell_type": "code",
      "source": [
        "plt.plot(y_test, \".\")"
      ],
      "metadata": {
        "colab": {
          "base_uri": "https://localhost:8080/",
          "height": 282
        },
        "id": "PMYLH4YyVJSk",
        "outputId": "c0207cb4-b7d0-45d7-9f01-0335d425f232"
      },
      "execution_count": 45,
      "outputs": [
        {
          "output_type": "execute_result",
          "data": {
            "text/plain": [
              "[<matplotlib.lines.Line2D at 0x7ff6a7136590>]"
            ]
          },
          "metadata": {},
          "execution_count": 45
        },
        {
          "output_type": "display_data",
          "data": {
            "text/plain": [
              "<Figure size 432x288 with 1 Axes>"
            ],
            "image/png": "[encoded data removed]"
          },
          "metadata": {
            "needs_background": "light"
          }
        }
      ]
    },
    {
      "cell_type": "code",
      "source": [
        "print(f\"Regresion Lineal\")\n",
        "print(\"r2 score\")\n",
        "print(f\"r2_train = {r2_score(y_train, lin_reg.predict(X_train_processed))}\")\n",
        "print(f\"r2_test = {r2_score(y_test, lin_reg.predict(X_test_processed))}\")"
      ],
      "metadata": {
        "colab": {
          "base_uri": "https://localhost:8080/"
        },
        "id": "bq97zVw6T4eN",
        "outputId": "0aa4f4c0-a42b-409e-8c9a-97e07ebc3880"
      },
      "execution_count": 37,
      "outputs": [
        {
          "output_type": "stream",
          "name": "stdout",
          "text": [
            "Regresion Lineal\n",
            "r2 score\n",
            "r2_train = 0.6368518955184699\n",
            "r2_test = -1.2237426135035216e+19\n"
          ]
        }
      ]
    },
    {
      "cell_type": "code",
      "source": [
        "print(\"RECM\")\n",
        "print(f\"recm_train = {np.sqrt(mean_squared_error(y_train, lin_reg.predict(X_train_processed)))}\")\n",
        "print(f\"recm_test = {np.sqrt(mean_squared_error(y_test, lin_reg.predict(X_test_processed)))}\")"
      ],
      "metadata": {
        "colab": {
          "base_uri": "https://localhost:8080/"
        },
        "id": "obqg-qddTe-V",
        "outputId": "e221e674-9c34-479a-dcc8-b27d2bb29e3a"
      },
      "execution_count": 43,
      "outputs": [
        {
          "output_type": "stream",
          "name": "stdout",
          "text": [
            "RECM\n",
            "recm_train = 920.068878185075\n",
            "recm_test = 5454281095184.76\n"
          ]
        }
      ]
    },
    {
      "cell_type": "markdown",
      "source": [
        "Arbol de Regresion"
      ],
      "metadata": {
        "id": "9I_1fpVDVnJe"
      }
    },
    {
      "cell_type": "code",
      "source": [
        "from sklearn.tree import DecisionTreeRegressor\n",
        "from sklearn.ensemble import BaggingRegressor"
      ],
      "metadata": {
        "id": "S4qqO3gXVzae"
      },
      "execution_count": 69,
      "outputs": []
    },
    {
      "cell_type": "code",
      "source": [
        "bag_reg = BaggingRegressor(\n",
        "    DecisionTreeRegressor(), n_estimators = 100,\n",
        "    max_samples = 200, bootstrap = True, #Si se quiere hacer pasting, esto es False\n",
        "    random_state = 42)"
      ],
      "metadata": {
        "id": "3QjU0lWyWuPe"
      },
      "execution_count": 70,
      "outputs": []
    },
    {
      "cell_type": "code",
      "source": [
        "bag_reg.fit(X_train_processed,y_train)\n",
        "\n"
      ],
      "metadata": {
        "colab": {
          "base_uri": "https://localhost:8080/",
          "height": 93
        },
        "id": "NwH8VyUzVmrv",
        "outputId": "37e22295-95b7-4149-e5f5-72d133324365"
      },
      "execution_count": 73,
      "outputs": [
        {
          "output_type": "execute_result",
          "data": {
            "text/plain": [
              "BaggingRegressor(base_estimator=DecisionTreeRegressor(), max_samples=200,\n",
              "                 n_estimators=100, random_state=42)"
            ],
            "text/html": [
              "<style>#sk-34eecb4f-b583-457d-af25-9b4d4a310a2a {color: black;background-color: white;}#sk-34eecb4f-b583-457d-af25-9b4d4a310a2a pre{padding: 0;}#sk-34eecb4f-b583-457d-af25-9b4d4a310a2a div.sk-toggleable {background-color: white;}#sk-34eecb4f-b583-457d-af25-9b4d4a310a2a label.sk-toggleable__label {cursor: pointer;display: block;width: 100%;margin-bottom: 0;padding: 0.3em;box-sizing: border-box;text-align: center;}#sk-34eecb4f-b583-457d-af25-9b4d4a310a2a label.sk-toggleable__label-arrow:before {content: \"▸\";float: left;margin-right: 0.25em;color: #696969;}#sk-34eecb4f-b583-457d-af25-9b4d4a310a2a label.sk-toggleable__label-arrow:hover:before {color: black;}#sk-34eecb4f-b583-457d-af25-9b4d4a310a2a div.sk-estimator:hover label.sk-toggleable__label-arrow:before {color: black;}#sk-34eecb4f-b583-457d-af25-9b4d4a310a2a div.sk-toggleable__content {max-height: 0;max-width: 0;overflow: hidden;text-align: left;background-color: #f0f8ff;}#sk-34eecb4f-b583-457d-af25-9b4d4a310a2a div.sk-toggleable__content pre {margin: 0.2em;color: black;border-radius: 0.25em;background-color: #f0f8ff;}#sk-34eecb4f-b583-457d-af25-9b4d4a310a2a input.sk-toggleable__control:checked~div.sk-toggleable__content {max-height: 200px;max-width: 100%;overflow: auto;}#sk-34eecb4f-b583-457d-af25-9b4d4a310a2a input.sk-toggleable__control:checked~label.sk-toggleable__label-arrow:before {content: \"▾\";}#sk-34eecb4f-b583-457d-af25-9b4d4a310a2a div.sk-estimator input.sk-toggleable__control:checked~label.sk-toggleable__label {background-color: #d4ebff;}#sk-34eecb4f-b583-457d-af25-9b4d4a310a2a div.sk-label input.sk-toggleable__control:checked~label.sk-toggleable__label {background-color: #d4ebff;}#sk-34eecb4f-b583-457d-af25-9b4d4a310a2a input.sk-hidden--visually {border: 0;clip: rect(1px 1px 1px 1px);clip: rect(1px, 1px, 1px, 1px);height: 1px;margin: -1px;overflow: hidden;padding: 0;position: absolute;width: 1px;}#sk-34eecb4f-b583-457d-af25-9b4d4a310a2a div.sk-estimator {font-family: monospace;background-color: #f0f8ff;border: 1px dotted black;border-radius: 0.25em;box-sizing: border-box;margin-bottom: 0.5em;}#sk-34eecb4f-b583-457d-af25-9b4d4a310a2a div.sk-estimator:hover {background-color: #d4ebff;}#sk-34eecb4f-b583-457d-af25-9b4d4a310a2a div.sk-parallel-item::after {content: \"\";width: 100%;border-bottom: 1px solid gray;flex-grow: 1;}#sk-34eecb4f-b583-457d-af25-9b4d4a310a2a div.sk-label:hover label.sk-toggleable__label {background-color: #d4ebff;}#sk-34eecb4f-b583-457d-af25-9b4d4a310a2a div.sk-serial::before {content: \"\";position: absolute;border-left: 1px solid gray;box-sizing: border-box;top: 2em;bottom: 0;left: 50%;}#sk-34eecb4f-b583-457d-af25-9b4d4a310a2a div.sk-serial {display: flex;flex-direction: column;align-items: center;background-color: white;padding-right: 0.2em;padding-left: 0.2em;}#sk-34eecb4f-b583-457d-af25-9b4d4a310a2a div.sk-item {z-index: 1;}#sk-34eecb4f-b583-457d-af25-9b4d4a310a2a div.sk-parallel {display: flex;align-items: stretch;justify-content: center;background-color: white;}#sk-34eecb4f-b583-457d-af25-9b4d4a310a2a div.sk-parallel::before {content: \"\";position: absolute;border-left: 1px solid gray;box-sizing: border-box;top: 2em;bottom: 0;left: 50%;}#sk-34eecb4f-b583-457d-af25-9b4d4a310a2a div.sk-parallel-item {display: flex;flex-direction: column;position: relative;background-color: white;}#sk-34eecb4f-b583-457d-af25-9b4d4a310a2a div.sk-parallel-item:first-child::after {align-self: flex-end;width: 50%;}#sk-34eecb4f-b583-457d-af25-9b4d4a310a2a div.sk-parallel-item:last-child::after {align-self: flex-start;width: 50%;}#sk-34eecb4f-b583-457d-af25-9b4d4a310a2a div.sk-parallel-item:only-child::after {width: 0;}#sk-34eecb4f-b583-457d-af25-9b4d4a310a2a div.sk-dashed-wrapped {border: 1px dashed gray;margin: 0 0.4em 0.5em 0.4em;box-sizing: border-box;padding-bottom: 0.4em;background-color: white;position: relative;}#sk-34eecb4f-b583-457d-af25-9b4d4a310a2a div.sk-label label {font-family: monospace;font-weight: bold;background-color: white;display: inline-block;line-height: 1.2em;}#sk-34eecb4f-b583-457d-af25-9b4d4a310a2a div.sk-label-container {position: relative;z-index: 2;text-align: center;}#sk-34eecb4f-b583-457d-af25-9b4d4a310a2a div.sk-container {/* jupyter's `normalize.less` sets `[hidden] { display: none; }` but bootstrap.min.css set `[hidden] { display: none !important; }` so we also need the `!important` here to be able to override the default hidden behavior on the sphinx rendered scikit-learn.org. See: https://github.com/scikit-learn/scikit-learn/issues/21755 */display: inline-block !important;position: relative;}#sk-34eecb4f-b583-457d-af25-9b4d4a310a2a div.sk-text-repr-fallback {display: none;}</style><div id=\"sk-34eecb4f-b583-457d-af25-9b4d4a310a2a\" class=\"sk-top-container\"><div class=\"sk-text-repr-fallback\"><pre>BaggingRegressor(base_estimator=DecisionTreeRegressor(), max_samples=200,\n",
              "                 n_estimators=100, random_state=42)</pre><b>Please rerun this cell to show the HTML repr or trust the notebook.</b></div><div class=\"sk-container\" hidden><div class=\"sk-item sk-dashed-wrapped\"><div class=\"sk-label-container\"><div class=\"sk-label sk-toggleable\"><input class=\"sk-toggleable__control sk-hidden--visually\" id=\"71c79b2c-00b2-4c7d-9549-fd853cc12f17\" type=\"checkbox\" ><label for=\"71c79b2c-00b2-4c7d-9549-fd853cc12f17\" class=\"sk-toggleable__label sk-toggleable__label-arrow\">BaggingRegressor</label><div class=\"sk-toggleable__content\"><pre>BaggingRegressor(base_estimator=DecisionTreeRegressor(), max_samples=200,\n",
              "                 n_estimators=100, random_state=42)</pre></div></div></div><div class=\"sk-parallel\"><div class=\"sk-parallel-item\"><div class=\"sk-item\"><div class=\"sk-serial\"><div class=\"sk-item\"><div class=\"sk-estimator sk-toggleable\"><input class=\"sk-toggleable__control sk-hidden--visually\" id=\"7a901eb7-3648-4de1-a43b-f5dfd0245225\" type=\"checkbox\" ><label for=\"7a901eb7-3648-4de1-a43b-f5dfd0245225\" class=\"sk-toggleable__label sk-toggleable__label-arrow\">DecisionTreeRegressor</label><div class=\"sk-toggleable__content\"><pre>DecisionTreeRegressor()</pre></div></div></div></div></div></div></div></div></div></div>"
            ]
          },
          "metadata": {},
          "execution_count": 73
        }
      ]
    },
    {
      "cell_type": "code",
      "source": [
        "print(f\"Arbol de Regresion\")\n",
        "print(\"r2 score\")\n",
        "print(f\"r2_train = {r2_score(y_train, bag_reg.predict(X_train_processed))}\")\n",
        "print(f\"r2_test = {r2_score(y_test, bag_reg.predict(X_test_processed))}\")"
      ],
      "metadata": {
        "colab": {
          "base_uri": "https://localhost:8080/"
        },
        "id": "mMuD6N_pV_oI",
        "outputId": "9e6204d5-d525-469a-c5a1-ff568ecfdf87"
      },
      "execution_count": 74,
      "outputs": [
        {
          "output_type": "stream",
          "name": "stdout",
          "text": [
            "Arbol de Regresion\n",
            "r2 score\n",
            "r2_train = 0.5387642284802007\n",
            "r2_test = 0.5456471915383987\n"
          ]
        }
      ]
    },
    {
      "cell_type": "code",
      "source": [
        "print(\"RECM\")\n",
        "print(f\"recm_train = {np.sqrt(mean_squared_error(y_train, bag_reg.predict(X_train_processed)))}\")\n",
        "print(f\"recm_test = {np.sqrt(mean_squared_error(y_test, bag_reg.predict(X_test_processed)))}\")"
      ],
      "metadata": {
        "colab": {
          "base_uri": "https://localhost:8080/"
        },
        "id": "mOLs5fxCXM_g",
        "outputId": "2244df60-ad44-4fcd-88fb-d3310fc66014"
      },
      "execution_count": 75,
      "outputs": [
        {
          "output_type": "stream",
          "name": "stdout",
          "text": [
            "RECM\n",
            "recm_train = 1036.9073212561846\n",
            "recm_test = 1050.9670082986167\n"
          ]
        }
      ]
    },
    {
      "cell_type": "markdown",
      "source": [
        "Evidentemente el modelo Bagged Tree (usando un arbol de regresion) es mejor para este caso. El arbol tiene errores bastante menores, especialmente con en el caso de los r2 scores. "
      ],
      "metadata": {
        "id": "RQuqJ-wXXUE4"
      }
    }
  ]
}