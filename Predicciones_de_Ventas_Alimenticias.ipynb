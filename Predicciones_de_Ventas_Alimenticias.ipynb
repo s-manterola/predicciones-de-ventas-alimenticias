{
  "nbformat": 4,
  "nbformat_minor": 0,
  "metadata": {
    "colab": {
      "name": "Predicciones_de_Ventas_Alimenticias.ipynb",
      "provenance": [],
      "collapsed_sections": [],
      "mount_file_id": "1AKcbSkdWhRLGHKDmnlNqUJgaKYOmLkMa",
      "authorship_tag": "ABX9TyMwkxwMWV/iSNZYvZrOt90/",
      "include_colab_link": true
    },
    "kernelspec": {
      "name": "python3",
      "display_name": "Python 3"
    },
    "language_info": {
      "name": "python"
    }
  },
  "cells": [
    {
      "cell_type": "markdown",
      "metadata": {
        "id": "view-in-github",
        "colab_type": "text"
      },
      "source": [
        "<a href=\"https://colab.research.google.com/github/s-manterola/predicciones-de-ventas-alimenticias/blob/main/Predicciones_de_Ventas_Alimenticias.ipynb\" target=\"_parent\"><img src=\"https://colab.research.google.com/assets/colab-badge.svg\" alt=\"Open In Colab\"/></a>"
      ]
    },
    {
      "cell_type": "code",
      "source": [
        "from google.colab import drive\n",
        "drive.mount('/content/drive')\n"
      ],
      "metadata": {
        "colab": {
          "base_uri": "https://localhost:8080/"
        },
        "id": "QkPkAwlolZ8C",
        "outputId": "96c6562a-64d1-480d-c595-2e722bff8f11"
      },
      "execution_count": 91,
      "outputs": [
        {
          "output_type": "stream",
          "name": "stdout",
          "text": [
            "Drive already mounted at /content/drive; to attempt to forcibly remount, call drive.mount(\"/content/drive\", force_remount=True).\n"
          ]
        }
      ]
    },
    {
      "cell_type": "code",
      "execution_count": 92,
      "metadata": {
        "id": "wgZAcmH8Tzjc"
      },
      "outputs": [],
      "source": [
        "import pandas as pd\n",
        "import numpy as np\n",
        "import seaborn as sns\n",
        "import matplotlib.pyplot as plt\n",
        "\n",
        "from sklearn.model_selection import train_test_split\n",
        "from sklearn.compose import make_column_selector, make_column_transformer, ColumnTransformer\n",
        "from sklearn.preprocessing import OneHotEncoder, OrdinalEncoder, StandardScaler\n",
        "from sklearn.impute import SimpleImputer\n",
        "\n",
        "from sklearn.pipeline import make_pipeline\n",
        "from sklearn import set_config\n",
        "set_config(display='diagram') \n",
        "\n",
        "filename = '/content/drive/MyDrive/Colab Notebooks/Bootcamp/Online Fundamentos/Bases de Datos/sales_predictions.csv'"
      ]
    },
    {
      "cell_type": "code",
      "source": [
        "df = pd.read_csv(filename)\n",
        "df.head()"
      ],
      "metadata": {
        "colab": {
          "base_uri": "https://localhost:8080/",
          "height": 357
        },
        "id": "zkt3XnUYUiq3",
        "outputId": "c5359463-1208-41f0-b0c7-794e425ff958"
      },
      "execution_count": 93,
      "outputs": [
        {
          "output_type": "execute_result",
          "data": {
            "text/plain": [
              "  Item_Identifier  Item_Weight Item_Fat_Content  Item_Visibility  \\\n",
              "0           FDA15         9.30          Low Fat         0.016047   \n",
              "1           DRC01         5.92          Regular         0.019278   \n",
              "2           FDN15        17.50          Low Fat         0.016760   \n",
              "3           FDX07        19.20          Regular         0.000000   \n",
              "4           NCD19         8.93          Low Fat         0.000000   \n",
              "\n",
              "               Item_Type  Item_MRP Outlet_Identifier  \\\n",
              "0                  Dairy  249.8092            OUT049   \n",
              "1            Soft Drinks   48.2692            OUT018   \n",
              "2                   Meat  141.6180            OUT049   \n",
              "3  Fruits and Vegetables  182.0950            OUT010   \n",
              "4              Household   53.8614            OUT013   \n",
              "\n",
              "   Outlet_Establishment_Year Outlet_Size Outlet_Location_Type  \\\n",
              "0                       1999      Medium               Tier 1   \n",
              "1                       2009      Medium               Tier 3   \n",
              "2                       1999      Medium               Tier 1   \n",
              "3                       1998         NaN               Tier 3   \n",
              "4                       1987        High               Tier 3   \n",
              "\n",
              "         Outlet_Type  Item_Outlet_Sales  \n",
              "0  Supermarket Type1          3735.1380  \n",
              "1  Supermarket Type2           443.4228  \n",
              "2  Supermarket Type1          2097.2700  \n",
              "3      Grocery Store           732.3800  \n",
              "4  Supermarket Type1           994.7052  "
            ],
            "text/html": [
              "\n",
              "  <div id=\"df-a5d99f03-6dc0-4476-8ebc-669ff5bd0090\">\n",
              "    <div class=\"colab-df-container\">\n",
              "      <div>\n",
              "<style scoped>\n",
              "    .dataframe tbody tr th:only-of-type {\n",
              "        vertical-align: middle;\n",
              "    }\n",
              "\n",
              "    .dataframe tbody tr th {\n",
              "        vertical-align: top;\n",
              "    }\n",
              "\n",
              "    .dataframe thead th {\n",
              "        text-align: right;\n",
              "    }\n",
              "</style>\n",
              "<table border=\"1\" class=\"dataframe\">\n",
              "  <thead>\n",
              "    <tr style=\"text-align: right;\">\n",
              "      <th></th>\n",
              "      <th>Item_Identifier</th>\n",
              "      <th>Item_Weight</th>\n",
              "      <th>Item_Fat_Content</th>\n",
              "      <th>Item_Visibility</th>\n",
              "      <th>Item_Type</th>\n",
              "      <th>Item_MRP</th>\n",
              "      <th>Outlet_Identifier</th>\n",
              "      <th>Outlet_Establishment_Year</th>\n",
              "      <th>Outlet_Size</th>\n",
              "      <th>Outlet_Location_Type</th>\n",
              "      <th>Outlet_Type</th>\n",
              "      <th>Item_Outlet_Sales</th>\n",
              "    </tr>\n",
              "  </thead>\n",
              "  <tbody>\n",
              "    <tr>\n",
              "      <th>0</th>\n",
              "      <td>FDA15</td>\n",
              "      <td>9.30</td>\n",
              "      <td>Low Fat</td>\n",
              "      <td>0.016047</td>\n",
              "      <td>Dairy</td>\n",
              "      <td>249.8092</td>\n",
              "      <td>OUT049</td>\n",
              "      <td>1999</td>\n",
              "      <td>Medium</td>\n",
              "      <td>Tier 1</td>\n",
              "      <td>Supermarket Type1</td>\n",
              "      <td>3735.1380</td>\n",
              "    </tr>\n",
              "    <tr>\n",
              "      <th>1</th>\n",
              "      <td>DRC01</td>\n",
              "      <td>5.92</td>\n",
              "      <td>Regular</td>\n",
              "      <td>0.019278</td>\n",
              "      <td>Soft Drinks</td>\n",
              "      <td>48.2692</td>\n",
              "      <td>OUT018</td>\n",
              "      <td>2009</td>\n",
              "      <td>Medium</td>\n",
              "      <td>Tier 3</td>\n",
              "      <td>Supermarket Type2</td>\n",
              "      <td>443.4228</td>\n",
              "    </tr>\n",
              "    <tr>\n",
              "      <th>2</th>\n",
              "      <td>FDN15</td>\n",
              "      <td>17.50</td>\n",
              "      <td>Low Fat</td>\n",
              "      <td>0.016760</td>\n",
              "      <td>Meat</td>\n",
              "      <td>141.6180</td>\n",
              "      <td>OUT049</td>\n",
              "      <td>1999</td>\n",
              "      <td>Medium</td>\n",
              "      <td>Tier 1</td>\n",
              "      <td>Supermarket Type1</td>\n",
              "      <td>2097.2700</td>\n",
              "    </tr>\n",
              "    <tr>\n",
              "      <th>3</th>\n",
              "      <td>FDX07</td>\n",
              "      <td>19.20</td>\n",
              "      <td>Regular</td>\n",
              "      <td>0.000000</td>\n",
              "      <td>Fruits and Vegetables</td>\n",
              "      <td>182.0950</td>\n",
              "      <td>OUT010</td>\n",
              "      <td>1998</td>\n",
              "      <td>NaN</td>\n",
              "      <td>Tier 3</td>\n",
              "      <td>Grocery Store</td>\n",
              "      <td>732.3800</td>\n",
              "    </tr>\n",
              "    <tr>\n",
              "      <th>4</th>\n",
              "      <td>NCD19</td>\n",
              "      <td>8.93</td>\n",
              "      <td>Low Fat</td>\n",
              "      <td>0.000000</td>\n",
              "      <td>Household</td>\n",
              "      <td>53.8614</td>\n",
              "      <td>OUT013</td>\n",
              "      <td>1987</td>\n",
              "      <td>High</td>\n",
              "      <td>Tier 3</td>\n",
              "      <td>Supermarket Type1</td>\n",
              "      <td>994.7052</td>\n",
              "    </tr>\n",
              "  </tbody>\n",
              "</table>\n",
              "</div>\n",
              "      <button class=\"colab-df-convert\" onclick=\"convertToInteractive('df-a5d99f03-6dc0-4476-8ebc-669ff5bd0090')\"\n",
              "              title=\"Convert this dataframe to an interactive table.\"\n",
              "              style=\"display:none;\">\n",
              "        \n",
              "  <svg xmlns=\"http://www.w3.org/2000/svg\" height=\"24px\"viewBox=\"0 0 24 24\"\n",
              "       width=\"24px\">\n",
              "    <path d=\"M0 0h24v24H0V0z\" fill=\"none\"/>\n",
              "    <path d=\"M18.56 5.44l.94 2.06.94-2.06 2.06-.94-2.06-.94-.94-2.06-.94 2.06-2.06.94zm-11 1L8.5 8.5l.94-2.06 2.06-.94-2.06-.94L8.5 2.5l-.94 2.06-2.06.94zm10 10l.94 2.06.94-2.06 2.06-.94-2.06-.94-.94-2.06-.94 2.06-2.06.94z\"/><path d=\"M17.41 7.96l-1.37-1.37c-.4-.4-.92-.59-1.43-.59-.52 0-1.04.2-1.43.59L10.3 9.45l-7.72 7.72c-.78.78-.78 2.05 0 2.83L4 21.41c.39.39.9.59 1.41.59.51 0 1.02-.2 1.41-.59l7.78-7.78 2.81-2.81c.8-.78.8-2.07 0-2.86zM5.41 20L4 18.59l7.72-7.72 1.47 1.35L5.41 20z\"/>\n",
              "  </svg>\n",
              "      </button>\n",
              "      \n",
              "  <style>\n",
              "    .colab-df-container {\n",
              "      display:flex;\n",
              "      flex-wrap:wrap;\n",
              "      gap: 12px;\n",
              "    }\n",
              "\n",
              "    .colab-df-convert {\n",
              "      background-color: #E8F0FE;\n",
              "      border: none;\n",
              "      border-radius: 50%;\n",
              "      cursor: pointer;\n",
              "      display: none;\n",
              "      fill: #1967D2;\n",
              "      height: 32px;\n",
              "      padding: 0 0 0 0;\n",
              "      width: 32px;\n",
              "    }\n",
              "\n",
              "    .colab-df-convert:hover {\n",
              "      background-color: #E2EBFA;\n",
              "      box-shadow: 0px 1px 2px rgba(60, 64, 67, 0.3), 0px 1px 3px 1px rgba(60, 64, 67, 0.15);\n",
              "      fill: #174EA6;\n",
              "    }\n",
              "\n",
              "    [theme=dark] .colab-df-convert {\n",
              "      background-color: #3B4455;\n",
              "      fill: #D2E3FC;\n",
              "    }\n",
              "\n",
              "    [theme=dark] .colab-df-convert:hover {\n",
              "      background-color: #434B5C;\n",
              "      box-shadow: 0px 1px 3px 1px rgba(0, 0, 0, 0.15);\n",
              "      filter: drop-shadow(0px 1px 2px rgba(0, 0, 0, 0.3));\n",
              "      fill: #FFFFFF;\n",
              "    }\n",
              "  </style>\n",
              "\n",
              "      <script>\n",
              "        const buttonEl =\n",
              "          document.querySelector('#df-a5d99f03-6dc0-4476-8ebc-669ff5bd0090 button.colab-df-convert');\n",
              "        buttonEl.style.display =\n",
              "          google.colab.kernel.accessAllowed ? 'block' : 'none';\n",
              "\n",
              "        async function convertToInteractive(key) {\n",
              "          const element = document.querySelector('#df-a5d99f03-6dc0-4476-8ebc-669ff5bd0090');\n",
              "          const dataTable =\n",
              "            await google.colab.kernel.invokeFunction('convertToInteractive',\n",
              "                                                     [key], {});\n",
              "          if (!dataTable) return;\n",
              "\n",
              "          const docLinkHtml = 'Like what you see? Visit the ' +\n",
              "            '<a target=\"_blank\" href=https://colab.research.google.com/notebooks/data_table.ipynb>data table notebook</a>'\n",
              "            + ' to learn more about interactive tables.';\n",
              "          element.innerHTML = '';\n",
              "          dataTable['output_type'] = 'display_data';\n",
              "          await google.colab.output.renderOutput(dataTable, element);\n",
              "          const docLink = document.createElement('div');\n",
              "          docLink.innerHTML = docLinkHtml;\n",
              "          element.appendChild(docLink);\n",
              "        }\n",
              "      </script>\n",
              "    </div>\n",
              "  </div>\n",
              "  "
            ]
          },
          "metadata": {},
          "execution_count": 93
        }
      ]
    },
    {
      "cell_type": "code",
      "source": [
        "df.info()"
      ],
      "metadata": {
        "colab": {
          "base_uri": "https://localhost:8080/"
        },
        "id": "YpuvzewXlVZc",
        "outputId": "d8b72632-f8c0-4226-b6b0-00400bda56eb"
      },
      "execution_count": 94,
      "outputs": [
        {
          "output_type": "stream",
          "name": "stdout",
          "text": [
            "<class 'pandas.core.frame.DataFrame'>\n",
            "RangeIndex: 8523 entries, 0 to 8522\n",
            "Data columns (total 12 columns):\n",
            " #   Column                     Non-Null Count  Dtype  \n",
            "---  ------                     --------------  -----  \n",
            " 0   Item_Identifier            8523 non-null   object \n",
            " 1   Item_Weight                7060 non-null   float64\n",
            " 2   Item_Fat_Content           8523 non-null   object \n",
            " 3   Item_Visibility            8523 non-null   float64\n",
            " 4   Item_Type                  8523 non-null   object \n",
            " 5   Item_MRP                   8523 non-null   float64\n",
            " 6   Outlet_Identifier          8523 non-null   object \n",
            " 7   Outlet_Establishment_Year  8523 non-null   int64  \n",
            " 8   Outlet_Size                6113 non-null   object \n",
            " 9   Outlet_Location_Type       8523 non-null   object \n",
            " 10  Outlet_Type                8523 non-null   object \n",
            " 11  Item_Outlet_Sales          8523 non-null   float64\n",
            "dtypes: float64(4), int64(1), object(7)\n",
            "memory usage: 799.2+ KB\n"
          ]
        }
      ]
    },
    {
      "cell_type": "code",
      "source": [
        "df.drop_duplicates()\n",
        "df.info()"
      ],
      "metadata": {
        "colab": {
          "base_uri": "https://localhost:8080/"
        },
        "id": "WAgVPkiMnaqw",
        "outputId": "f77ace74-bb94-4756-bb40-132b9331a15c"
      },
      "execution_count": 95,
      "outputs": [
        {
          "output_type": "stream",
          "name": "stdout",
          "text": [
            "<class 'pandas.core.frame.DataFrame'>\n",
            "RangeIndex: 8523 entries, 0 to 8522\n",
            "Data columns (total 12 columns):\n",
            " #   Column                     Non-Null Count  Dtype  \n",
            "---  ------                     --------------  -----  \n",
            " 0   Item_Identifier            8523 non-null   object \n",
            " 1   Item_Weight                7060 non-null   float64\n",
            " 2   Item_Fat_Content           8523 non-null   object \n",
            " 3   Item_Visibility            8523 non-null   float64\n",
            " 4   Item_Type                  8523 non-null   object \n",
            " 5   Item_MRP                   8523 non-null   float64\n",
            " 6   Outlet_Identifier          8523 non-null   object \n",
            " 7   Outlet_Establishment_Year  8523 non-null   int64  \n",
            " 8   Outlet_Size                6113 non-null   object \n",
            " 9   Outlet_Location_Type       8523 non-null   object \n",
            " 10  Outlet_Type                8523 non-null   object \n",
            " 11  Item_Outlet_Sales          8523 non-null   float64\n",
            "dtypes: float64(4), int64(1), object(7)\n",
            "memory usage: 799.2+ KB\n"
          ]
        }
      ]
    },
    {
      "cell_type": "markdown",
      "source": [
        "Eliminar las filas si falta algun dato, elimina la casi la mitad de los datos, es demasiado"
      ],
      "metadata": {
        "id": "6i7APL5oufvf"
      }
    },
    {
      "cell_type": "code",
      "source": [
        "df.nunique()"
      ],
      "metadata": {
        "colab": {
          "base_uri": "https://localhost:8080/"
        },
        "id": "fHktjJ929H-K",
        "outputId": "818f9698-7b37-41f3-90cc-1efb36288dc6"
      },
      "execution_count": 96,
      "outputs": [
        {
          "output_type": "execute_result",
          "data": {
            "text/plain": [
              "Item_Identifier              1559\n",
              "Item_Weight                   415\n",
              "Item_Fat_Content                5\n",
              "Item_Visibility              7880\n",
              "Item_Type                      16\n",
              "Item_MRP                     5938\n",
              "Outlet_Identifier              10\n",
              "Outlet_Establishment_Year       9\n",
              "Outlet_Size                     3\n",
              "Outlet_Location_Type            3\n",
              "Outlet_Type                     4\n",
              "Item_Outlet_Sales            3493\n",
              "dtype: int64"
            ]
          },
          "metadata": {},
          "execution_count": 96
        }
      ]
    },
    {
      "cell_type": "code",
      "source": [
        "df['Outlet_Identifier'].unique()"
      ],
      "metadata": {
        "colab": {
          "base_uri": "https://localhost:8080/"
        },
        "id": "NAAXKwpSEwSH",
        "outputId": "87a5c79d-2bd3-4440-f468-de2263af8eb2"
      },
      "execution_count": 97,
      "outputs": [
        {
          "output_type": "execute_result",
          "data": {
            "text/plain": [
              "array(['OUT049', 'OUT018', 'OUT010', 'OUT013', 'OUT027', 'OUT045',\n",
              "       'OUT017', 'OUT046', 'OUT035', 'OUT019'], dtype=object)"
            ]
          },
          "metadata": {},
          "execution_count": 97
        }
      ]
    },
    {
      "cell_type": "code",
      "source": [
        "for id in df['Outlet_Identifier'].unique():\n",
        "  try:\n",
        "    df[df['Outlet_Identifier'] == id]['Outlet_Size'].fillna(df[df['Outlet_Identifier'] == id]['Outlet_Size'].mode()[0], inplace = True)\n",
        "  except:\n",
        "    pass\n",
        "df['Outlet_Size'].fillna(\"Missing\", inplace = True)\n",
        "df.info()"
      ],
      "metadata": {
        "colab": {
          "base_uri": "https://localhost:8080/"
        },
        "id": "Q136NN2mwCQU",
        "outputId": "b46b7d32-0350-423b-e38b-caacbf4c06bb"
      },
      "execution_count": 98,
      "outputs": [
        {
          "output_type": "stream",
          "name": "stdout",
          "text": [
            "<class 'pandas.core.frame.DataFrame'>\n",
            "RangeIndex: 8523 entries, 0 to 8522\n",
            "Data columns (total 12 columns):\n",
            " #   Column                     Non-Null Count  Dtype  \n",
            "---  ------                     --------------  -----  \n",
            " 0   Item_Identifier            8523 non-null   object \n",
            " 1   Item_Weight                7060 non-null   float64\n",
            " 2   Item_Fat_Content           8523 non-null   object \n",
            " 3   Item_Visibility            8523 non-null   float64\n",
            " 4   Item_Type                  8523 non-null   object \n",
            " 5   Item_MRP                   8523 non-null   float64\n",
            " 6   Outlet_Identifier          8523 non-null   object \n",
            " 7   Outlet_Establishment_Year  8523 non-null   int64  \n",
            " 8   Outlet_Size                8523 non-null   object \n",
            " 9   Outlet_Location_Type       8523 non-null   object \n",
            " 10  Outlet_Type                8523 non-null   object \n",
            " 11  Item_Outlet_Sales          8523 non-null   float64\n",
            "dtypes: float64(4), int64(1), object(7)\n",
            "memory usage: 799.2+ KB\n"
          ]
        },
        {
          "output_type": "stream",
          "name": "stderr",
          "text": [
            "/usr/local/lib/python3.7/dist-packages/pandas/core/generic.py:6392: SettingWithCopyWarning: \n",
            "A value is trying to be set on a copy of a slice from a DataFrame\n",
            "\n",
            "See the caveats in the documentation: https://pandas.pydata.org/pandas-docs/stable/user_guide/indexing.html#returning-a-view-versus-a-copy\n",
            "  return self._update_inplace(result)\n"
          ]
        }
      ]
    },
    {
      "cell_type": "markdown",
      "source": [
        "El la base de datos no hay valores duplicado. Existen varios datos faltantes, especialmente en la columna Outlet_Size. Al contar los outlets, vemos que solo hay 10 de ellos (solo 10 Outlet_Identifier). Es logico asumir que todos los valores de un Outlet deberian ser iguales, por lo que si falta un dato, se puede tomar de otra fila, en que el Outlet_Identifier sea igual.\n",
        "\n",
        "El problema es que existen casos en que un Outlet_Identifier no tiene el dato faltante en ninguna parte de la lista. En ese caso se reemplazo el valor Nan por 'Missing'."
      ],
      "metadata": {
        "id": "oVLUKC1z8TaA"
      }
    },
    {
      "cell_type": "code",
      "source": [
        "df.dropna(how='any', inplace = True)\n",
        "df.info()"
      ],
      "metadata": {
        "colab": {
          "base_uri": "https://localhost:8080/"
        },
        "id": "JOhG12FzBBQ9",
        "outputId": "8f10ff8f-8ea6-419e-904c-4b4ba1c5fd6a"
      },
      "execution_count": 99,
      "outputs": [
        {
          "output_type": "stream",
          "name": "stdout",
          "text": [
            "<class 'pandas.core.frame.DataFrame'>\n",
            "Int64Index: 7060 entries, 0 to 8522\n",
            "Data columns (total 12 columns):\n",
            " #   Column                     Non-Null Count  Dtype  \n",
            "---  ------                     --------------  -----  \n",
            " 0   Item_Identifier            7060 non-null   object \n",
            " 1   Item_Weight                7060 non-null   float64\n",
            " 2   Item_Fat_Content           7060 non-null   object \n",
            " 3   Item_Visibility            7060 non-null   float64\n",
            " 4   Item_Type                  7060 non-null   object \n",
            " 5   Item_MRP                   7060 non-null   float64\n",
            " 6   Outlet_Identifier          7060 non-null   object \n",
            " 7   Outlet_Establishment_Year  7060 non-null   int64  \n",
            " 8   Outlet_Size                7060 non-null   object \n",
            " 9   Outlet_Location_Type       7060 non-null   object \n",
            " 10  Outlet_Type                7060 non-null   object \n",
            " 11  Item_Outlet_Sales          7060 non-null   float64\n",
            "dtypes: float64(4), int64(1), object(7)\n",
            "memory usage: 717.0+ KB\n"
          ]
        }
      ]
    },
    {
      "cell_type": "markdown",
      "source": [
        "Con esto tenemos 7060 filas, de las 8523 iniciales, solo al agregar la categoria 'Missing' en la columna Outlet_Size "
      ],
      "metadata": {
        "id": "6bUC4G7zBMft"
      }
    },
    {
      "cell_type": "code",
      "source": [
        "for id in df['Outlet_Location_Type'].unique():\n",
        "  print(id)"
      ],
      "metadata": {
        "colab": {
          "base_uri": "https://localhost:8080/"
        },
        "id": "b5I1itw0B3gd",
        "outputId": "93e3d83c-fb5f-4709-ad8d-b0f7c075c7be"
      },
      "execution_count": 100,
      "outputs": [
        {
          "output_type": "stream",
          "name": "stdout",
          "text": [
            "Tier 1\n",
            "Tier 3\n",
            "Tier 2\n"
          ]
        }
      ]
    },
    {
      "cell_type": "code",
      "source": [
        "for id in df['Item_Fat_Content'].unique():\n",
        "  print(id)"
      ],
      "metadata": {
        "colab": {
          "base_uri": "https://localhost:8080/"
        },
        "id": "Q2D5sWQdN2J4",
        "outputId": "ee0fb925-91b3-4fea-a48b-265655c81ba5"
      },
      "execution_count": 101,
      "outputs": [
        {
          "output_type": "stream",
          "name": "stdout",
          "text": [
            "Low Fat\n",
            "Regular\n",
            "low fat\n",
            "LF\n",
            "reg\n"
          ]
        }
      ]
    },
    {
      "cell_type": "code",
      "source": [
        "df.loc[df['Item_Fat_Content']=='low fat','Item_Fat_Content'] = 'Low Fat'\n",
        "df.loc[df['Item_Fat_Content']=='LF','Item_Fat_Content'] = 'Low Fat'\n",
        "df.loc[df['Item_Fat_Content']=='reg','Item_Fat_Content'] = 'Regular'"
      ],
      "metadata": {
        "id": "_SpLDVdzN7Aw"
      },
      "execution_count": 102,
      "outputs": []
    },
    {
      "cell_type": "code",
      "source": [
        "OT = df.groupby('Outlet_Type')['Item_Identifier'].count()\n",
        "\n",
        "plt.bar(OT.index, OT.values)\n",
        "plt.xlabel('Locales de venta')\n",
        "plt.ylabel('Cantidad')\n",
        "plt.title('Cantidad de locales de venta divididos por tipo')"
      ],
      "metadata": {
        "colab": {
          "base_uri": "https://localhost:8080/",
          "height": 312
        },
        "id": "4vV3A5EXMN4t",
        "outputId": "fd258681-72a1-47ee-a2f6-8034ac323289"
      },
      "execution_count": 103,
      "outputs": [
        {
          "output_type": "execute_result",
          "data": {
            "text/plain": [
              "Text(0.5, 1.0, 'Cantidad de locales de venta divididos por tipo')"
            ]
          },
          "metadata": {},
          "execution_count": 103
        },
        {
          "output_type": "display_data",
          "data": {
            "text/plain": [
              "<Figure size 432x288 with 1 Axes>"
            ],
            "image/png": "[encoded data removed]"
          },
          "metadata": {
            "needs_background": "light"
          }
        }
      ]
    },
    {
      "cell_type": "markdown",
      "source": [
        "Se observa que la mayoria de los articulos se vende en supermecados de tipo 1"
      ],
      "metadata": {
        "id": "aeebokoZP7kP"
      }
    },
    {
      "cell_type": "code",
      "source": [
        "df['Item_Visibility'].hist()\n",
        "\n",
        "plt.xlabel('Visibilidad')\n",
        "plt.ylabel('Cantidad')\n",
        "plt.title('Cantidad de articulos segun su visibilidad')"
      ],
      "metadata": {
        "colab": {
          "base_uri": "https://localhost:8080/",
          "height": 312
        },
        "id": "tHOvVMyYMaXl",
        "outputId": "a1a466c8-61b4-49f2-fbac-80497ed61d6d"
      },
      "execution_count": 104,
      "outputs": [
        {
          "output_type": "execute_result",
          "data": {
            "text/plain": [
              "Text(0.5, 1.0, 'Cantidad de articulos segun su visibilidad')"
            ]
          },
          "metadata": {},
          "execution_count": 104
        },
        {
          "output_type": "display_data",
          "data": {
            "text/plain": [
              "<Figure size 432x288 with 1 Axes>"
            ],
            "image/png": "[encoded data removed]"
          },
          "metadata": {
            "needs_background": "light"
          }
        }
      ]
    },
    {
      "cell_type": "markdown",
      "source": [
        "Se observa que la mayoria de los articulos tiene una visibilidad menor a 0.1, y que la cantidad de articulos decrece mientras aumenta la visibilidad."
      ],
      "metadata": {
        "id": "jNsd7qPjQCRe"
      }
    },
    {
      "cell_type": "code",
      "source": [
        "FC = df.groupby('Item_Fat_Content')['Item_Identifier'].count()\n",
        "\n",
        "plt.bar(FC.index, FC.values)\n",
        "\n",
        "plt.xlabel('Contenido de grasa')\n",
        "plt.ylabel('Cantidad')\n",
        "plt.title('Cantidad de articulos por contenido de grasa')"
      ],
      "metadata": {
        "colab": {
          "base_uri": "https://localhost:8080/",
          "height": 312
        },
        "id": "v6gqKoKiNaey",
        "outputId": "55caa76a-db30-4977-ed07-23241c533dd0"
      },
      "execution_count": 105,
      "outputs": [
        {
          "output_type": "execute_result",
          "data": {
            "text/plain": [
              "Text(0.5, 1.0, 'Cantidad de articulos por contenido de grasa')"
            ]
          },
          "metadata": {},
          "execution_count": 105
        },
        {
          "output_type": "display_data",
          "data": {
            "text/plain": [
              "<Figure size 432x288 with 1 Axes>"
            ],
            "image/png": "[encoded data removed]"
          },
          "metadata": {
            "needs_background": "light"
          }
        }
      ]
    },
    {
      "cell_type": "markdown",
      "source": [
        "Se observa que la mayoria de los articulos tienen un bajo contenido de grasa"
      ],
      "metadata": {
        "id": "S4FxF9_XQSDv"
      }
    },
    {
      "cell_type": "code",
      "source": [
        "corr = df.corr()\n",
        "sns.heatmap(corr, cmap = 'Blues')\n",
        "\n",
        "plt.title('Mapa de calor')"
      ],
      "metadata": {
        "colab": {
          "base_uri": "https://localhost:8080/",
          "height": 421
        },
        "id": "tfCmkijGOkQ9",
        "outputId": "229a4967-e26d-4ae1-8d1c-8b8988ee372b"
      },
      "execution_count": 106,
      "outputs": [
        {
          "output_type": "execute_result",
          "data": {
            "text/plain": [
              "Text(0.5, 1.0, 'Mapa de calor')"
            ]
          },
          "metadata": {},
          "execution_count": 106
        },
        {
          "output_type": "display_data",
          "data": {
            "text/plain": [
              "<Figure size 432x288 with 2 Axes>"
            ],
            "image/png": "[encoded data removed]"
          },
          "metadata": {
            "needs_background": "light"
          }
        }
      ]
    },
    {
      "cell_type": "markdown",
      "source": [
        "Se observa que la mayoria de las categorias no tienen una fuerte relacion excepto Item_MRP y Item_Outlet_Sales"
      ],
      "metadata": {
        "id": "XEr-_N0CQXck"
      }
    },
    {
      "cell_type": "code",
      "source": [
        "#X = df.drop(['Item_Outlet_Sales'], axis=1)\n",
        "X = df[['Item_MRP']]\n",
        "y = df['Item_Outlet_Sales']"
      ],
      "metadata": {
        "id": "fL5DQ5BHqGWG"
      },
      "execution_count": 107,
      "outputs": []
    },
    {
      "cell_type": "code",
      "source": [
        "X_train, X_test, y_train, y_test = train_test_split(X, y, test_size=0.2, random_state=42)"
      ],
      "metadata": {
        "id": "oX07pNHxqTi9"
      },
      "execution_count": 108,
      "outputs": []
    },
    {
      "cell_type": "code",
      "source": [
        "df.columns"
      ],
      "metadata": {
        "colab": {
          "base_uri": "https://localhost:8080/"
        },
        "id": "vjLoveb3rg3m",
        "outputId": "0bdb4537-b425-4a7d-cb1e-225c09b678f8"
      },
      "execution_count": 109,
      "outputs": [
        {
          "output_type": "execute_result",
          "data": {
            "text/plain": [
              "Index(['Item_Identifier', 'Item_Weight', 'Item_Fat_Content', 'Item_Visibility',\n",
              "       'Item_Type', 'Item_MRP', 'Outlet_Identifier',\n",
              "       'Outlet_Establishment_Year', 'Outlet_Size', 'Outlet_Location_Type',\n",
              "       'Outlet_Type', 'Item_Outlet_Sales'],\n",
              "      dtype='object')"
            ]
          },
          "metadata": {},
          "execution_count": 109
        }
      ]
    },
    {
      "cell_type": "code",
      "source": [
        "df.head(1)"
      ],
      "metadata": {
        "colab": {
          "base_uri": "https://localhost:8080/",
          "height": 162
        },
        "id": "heBYR002ruFI",
        "outputId": "f433ee2e-bb5f-417d-f1d3-87712cf79cee"
      },
      "execution_count": 110,
      "outputs": [
        {
          "output_type": "execute_result",
          "data": {
            "text/plain": [
              "  Item_Identifier  Item_Weight Item_Fat_Content  Item_Visibility Item_Type  \\\n",
              "0           FDA15          9.3          Low Fat         0.016047     Dairy   \n",
              "\n",
              "   Item_MRP Outlet_Identifier  Outlet_Establishment_Year Outlet_Size  \\\n",
              "0  249.8092            OUT049                       1999      Medium   \n",
              "\n",
              "  Outlet_Location_Type        Outlet_Type  Item_Outlet_Sales  \n",
              "0               Tier 1  Supermarket Type1           3735.138  "
            ],
            "text/html": [
              "\n",
              "  <div id=\"df-e3d01524-bc9d-4cb9-8f2c-2aac3803fb29\">\n",
              "    <div class=\"colab-df-container\">\n",
              "      <div>\n",
              "<style scoped>\n",
              "    .dataframe tbody tr th:only-of-type {\n",
              "        vertical-align: middle;\n",
              "    }\n",
              "\n",
              "    .dataframe tbody tr th {\n",
              "        vertical-align: top;\n",
              "    }\n",
              "\n",
              "    .dataframe thead th {\n",
              "        text-align: right;\n",
              "    }\n",
              "</style>\n",
              "<table border=\"1\" class=\"dataframe\">\n",
              "  <thead>\n",
              "    <tr style=\"text-align: right;\">\n",
              "      <th></th>\n",
              "      <th>Item_Identifier</th>\n",
              "      <th>Item_Weight</th>\n",
              "      <th>Item_Fat_Content</th>\n",
              "      <th>Item_Visibility</th>\n",
              "      <th>Item_Type</th>\n",
              "      <th>Item_MRP</th>\n",
              "      <th>Outlet_Identifier</th>\n",
              "      <th>Outlet_Establishment_Year</th>\n",
              "      <th>Outlet_Size</th>\n",
              "      <th>Outlet_Location_Type</th>\n",
              "      <th>Outlet_Type</th>\n",
              "      <th>Item_Outlet_Sales</th>\n",
              "    </tr>\n",
              "  </thead>\n",
              "  <tbody>\n",
              "    <tr>\n",
              "      <th>0</th>\n",
              "      <td>FDA15</td>\n",
              "      <td>9.3</td>\n",
              "      <td>Low Fat</td>\n",
              "      <td>0.016047</td>\n",
              "      <td>Dairy</td>\n",
              "      <td>249.8092</td>\n",
              "      <td>OUT049</td>\n",
              "      <td>1999</td>\n",
              "      <td>Medium</td>\n",
              "      <td>Tier 1</td>\n",
              "      <td>Supermarket Type1</td>\n",
              "      <td>3735.138</td>\n",
              "    </tr>\n",
              "  </tbody>\n",
              "</table>\n",
              "</div>\n",
              "      <button class=\"colab-df-convert\" onclick=\"convertToInteractive('df-e3d01524-bc9d-4cb9-8f2c-2aac3803fb29')\"\n",
              "              title=\"Convert this dataframe to an interactive table.\"\n",
              "              style=\"display:none;\">\n",
              "        \n",
              "  <svg xmlns=\"http://www.w3.org/2000/svg\" height=\"24px\"viewBox=\"0 0 24 24\"\n",
              "       width=\"24px\">\n",
              "    <path d=\"M0 0h24v24H0V0z\" fill=\"none\"/>\n",
              "    <path d=\"M18.56 5.44l.94 2.06.94-2.06 2.06-.94-2.06-.94-.94-2.06-.94 2.06-2.06.94zm-11 1L8.5 8.5l.94-2.06 2.06-.94-2.06-.94L8.5 2.5l-.94 2.06-2.06.94zm10 10l.94 2.06.94-2.06 2.06-.94-2.06-.94-.94-2.06-.94 2.06-2.06.94z\"/><path d=\"M17.41 7.96l-1.37-1.37c-.4-.4-.92-.59-1.43-.59-.52 0-1.04.2-1.43.59L10.3 9.45l-7.72 7.72c-.78.78-.78 2.05 0 2.83L4 21.41c.39.39.9.59 1.41.59.51 0 1.02-.2 1.41-.59l7.78-7.78 2.81-2.81c.8-.78.8-2.07 0-2.86zM5.41 20L4 18.59l7.72-7.72 1.47 1.35L5.41 20z\"/>\n",
              "  </svg>\n",
              "      </button>\n",
              "      \n",
              "  <style>\n",
              "    .colab-df-container {\n",
              "      display:flex;\n",
              "      flex-wrap:wrap;\n",
              "      gap: 12px;\n",
              "    }\n",
              "\n",
              "    .colab-df-convert {\n",
              "      background-color: #E8F0FE;\n",
              "      border: none;\n",
              "      border-radius: 50%;\n",
              "      cursor: pointer;\n",
              "      display: none;\n",
              "      fill: #1967D2;\n",
              "      height: 32px;\n",
              "      padding: 0 0 0 0;\n",
              "      width: 32px;\n",
              "    }\n",
              "\n",
              "    .colab-df-convert:hover {\n",
              "      background-color: #E2EBFA;\n",
              "      box-shadow: 0px 1px 2px rgba(60, 64, 67, 0.3), 0px 1px 3px 1px rgba(60, 64, 67, 0.15);\n",
              "      fill: #174EA6;\n",
              "    }\n",
              "\n",
              "    [theme=dark] .colab-df-convert {\n",
              "      background-color: #3B4455;\n",
              "      fill: #D2E3FC;\n",
              "    }\n",
              "\n",
              "    [theme=dark] .colab-df-convert:hover {\n",
              "      background-color: #434B5C;\n",
              "      box-shadow: 0px 1px 3px 1px rgba(0, 0, 0, 0.15);\n",
              "      filter: drop-shadow(0px 1px 2px rgba(0, 0, 0, 0.3));\n",
              "      fill: #FFFFFF;\n",
              "    }\n",
              "  </style>\n",
              "\n",
              "      <script>\n",
              "        const buttonEl =\n",
              "          document.querySelector('#df-e3d01524-bc9d-4cb9-8f2c-2aac3803fb29 button.colab-df-convert');\n",
              "        buttonEl.style.display =\n",
              "          google.colab.kernel.accessAllowed ? 'block' : 'none';\n",
              "\n",
              "        async function convertToInteractive(key) {\n",
              "          const element = document.querySelector('#df-e3d01524-bc9d-4cb9-8f2c-2aac3803fb29');\n",
              "          const dataTable =\n",
              "            await google.colab.kernel.invokeFunction('convertToInteractive',\n",
              "                                                     [key], {});\n",
              "          if (!dataTable) return;\n",
              "\n",
              "          const docLinkHtml = 'Like what you see? Visit the ' +\n",
              "            '<a target=\"_blank\" href=https://colab.research.google.com/notebooks/data_table.ipynb>data table notebook</a>'\n",
              "            + ' to learn more about interactive tables.';\n",
              "          element.innerHTML = '';\n",
              "          dataTable['output_type'] = 'display_data';\n",
              "          await google.colab.output.renderOutput(dataTable, element);\n",
              "          const docLink = document.createElement('div');\n",
              "          docLink.innerHTML = docLinkHtml;\n",
              "          element.appendChild(docLink);\n",
              "        }\n",
              "      </script>\n",
              "    </div>\n",
              "  </div>\n",
              "  "
            ]
          },
          "metadata": {},
          "execution_count": 110
        }
      ]
    },
    {
      "cell_type": "code",
      "source": [
        "#nominal = ['Item_Identifier', 'Item_Type', 'Outlet_Identifier', 'Outlet_Type']\n",
        "#ordinal = ['Item_Fat_Content', 'Outlet_Size', 'Outlet_Location_Type']"
      ],
      "metadata": {
        "id": "DCB6dZ64rc4C"
      },
      "execution_count": 111,
      "outputs": []
    },
    {
      "cell_type": "code",
      "source": [
        "#nom_selector = nominal\n",
        "#ord_selector = ordinal\n",
        "num_selector = make_column_selector(dtype_include='number')"
      ],
      "metadata": {
        "id": "IOswu5Rbq24u"
      },
      "execution_count": 112,
      "outputs": []
    },
    {
      "cell_type": "code",
      "source": [
        "one_hot = OneHotEncoder(handle_unknown='ignore', sparse=False)\n",
        "ordinal = OrdinalEncoder()\n",
        "scaler = StandardScaler()"
      ],
      "metadata": {
        "id": "OaUSKVtxq6Hr"
      },
      "execution_count": 113,
      "outputs": []
    },
    {
      "cell_type": "code",
      "source": [
        "nom_pipeline = make_pipeline(one_hot)\n",
        "nom_pipeline"
      ],
      "metadata": {
        "colab": {
          "base_uri": "https://localhost:8080/",
          "height": 92
        },
        "id": "O5v0gkLPuZbn",
        "outputId": "58788e54-ed15-4f23-e46f-8fb5e9e5f720"
      },
      "execution_count": 114,
      "outputs": [
        {
          "output_type": "execute_result",
          "data": {
            "text/plain": [
              "Pipeline(steps=[('onehotencoder',\n",
              "                 OneHotEncoder(handle_unknown='ignore', sparse=False))])"
            ],
            "text/html": [
              "<style>#sk-69903b33-73d8-47db-ba36-8533e0942857 {color: black;background-color: white;}#sk-69903b33-73d8-47db-ba36-8533e0942857 pre{padding: 0;}#sk-69903b33-73d8-47db-ba36-8533e0942857 div.sk-toggleable {background-color: white;}#sk-69903b33-73d8-47db-ba36-8533e0942857 label.sk-toggleable__label {cursor: pointer;display: block;width: 100%;margin-bottom: 0;padding: 0.3em;box-sizing: border-box;text-align: center;}#sk-69903b33-73d8-47db-ba36-8533e0942857 label.sk-toggleable__label-arrow:before {content: \"▸\";float: left;margin-right: 0.25em;color: #696969;}#sk-69903b33-73d8-47db-ba36-8533e0942857 label.sk-toggleable__label-arrow:hover:before {color: black;}#sk-69903b33-73d8-47db-ba36-8533e0942857 div.sk-estimator:hover label.sk-toggleable__label-arrow:before {color: black;}#sk-69903b33-73d8-47db-ba36-8533e0942857 div.sk-toggleable__content {max-height: 0;max-width: 0;overflow: hidden;text-align: left;background-color: #f0f8ff;}#sk-69903b33-73d8-47db-ba36-8533e0942857 div.sk-toggleable__content pre {margin: 0.2em;color: black;border-radius: 0.25em;background-color: #f0f8ff;}#sk-69903b33-73d8-47db-ba36-8533e0942857 input.sk-toggleable__control:checked~div.sk-toggleable__content {max-height: 200px;max-width: 100%;overflow: auto;}#sk-69903b33-73d8-47db-ba36-8533e0942857 input.sk-toggleable__control:checked~label.sk-toggleable__label-arrow:before {content: \"▾\";}#sk-69903b33-73d8-47db-ba36-8533e0942857 div.sk-estimator input.sk-toggleable__control:checked~label.sk-toggleable__label {background-color: #d4ebff;}#sk-69903b33-73d8-47db-ba36-8533e0942857 div.sk-label input.sk-toggleable__control:checked~label.sk-toggleable__label {background-color: #d4ebff;}#sk-69903b33-73d8-47db-ba36-8533e0942857 input.sk-hidden--visually {border: 0;clip: rect(1px 1px 1px 1px);clip: rect(1px, 1px, 1px, 1px);height: 1px;margin: -1px;overflow: hidden;padding: 0;position: absolute;width: 1px;}#sk-69903b33-73d8-47db-ba36-8533e0942857 div.sk-estimator {font-family: monospace;background-color: #f0f8ff;border: 1px dotted black;border-radius: 0.25em;box-sizing: border-box;margin-bottom: 0.5em;}#sk-69903b33-73d8-47db-ba36-8533e0942857 div.sk-estimator:hover {background-color: #d4ebff;}#sk-69903b33-73d8-47db-ba36-8533e0942857 div.sk-parallel-item::after {content: \"\";width: 100%;border-bottom: 1px solid gray;flex-grow: 1;}#sk-69903b33-73d8-47db-ba36-8533e0942857 div.sk-label:hover label.sk-toggleable__label {background-color: #d4ebff;}#sk-69903b33-73d8-47db-ba36-8533e0942857 div.sk-serial::before {content: \"\";position: absolute;border-left: 1px solid gray;box-sizing: border-box;top: 2em;bottom: 0;left: 50%;}#sk-69903b33-73d8-47db-ba36-8533e0942857 div.sk-serial {display: flex;flex-direction: column;align-items: center;background-color: white;padding-right: 0.2em;padding-left: 0.2em;}#sk-69903b33-73d8-47db-ba36-8533e0942857 div.sk-item {z-index: 1;}#sk-69903b33-73d8-47db-ba36-8533e0942857 div.sk-parallel {display: flex;align-items: stretch;justify-content: center;background-color: white;}#sk-69903b33-73d8-47db-ba36-8533e0942857 div.sk-parallel::before {content: \"\";position: absolute;border-left: 1px solid gray;box-sizing: border-box;top: 2em;bottom: 0;left: 50%;}#sk-69903b33-73d8-47db-ba36-8533e0942857 div.sk-parallel-item {display: flex;flex-direction: column;position: relative;background-color: white;}#sk-69903b33-73d8-47db-ba36-8533e0942857 div.sk-parallel-item:first-child::after {align-self: flex-end;width: 50%;}#sk-69903b33-73d8-47db-ba36-8533e0942857 div.sk-parallel-item:last-child::after {align-self: flex-start;width: 50%;}#sk-69903b33-73d8-47db-ba36-8533e0942857 div.sk-parallel-item:only-child::after {width: 0;}#sk-69903b33-73d8-47db-ba36-8533e0942857 div.sk-dashed-wrapped {border: 1px dashed gray;margin: 0 0.4em 0.5em 0.4em;box-sizing: border-box;padding-bottom: 0.4em;background-color: white;position: relative;}#sk-69903b33-73d8-47db-ba36-8533e0942857 div.sk-label label {font-family: monospace;font-weight: bold;background-color: white;display: inline-block;line-height: 1.2em;}#sk-69903b33-73d8-47db-ba36-8533e0942857 div.sk-label-container {position: relative;z-index: 2;text-align: center;}#sk-69903b33-73d8-47db-ba36-8533e0942857 div.sk-container {/* jupyter's `normalize.less` sets `[hidden] { display: none; }` but bootstrap.min.css set `[hidden] { display: none !important; }` so we also need the `!important` here to be able to override the default hidden behavior on the sphinx rendered scikit-learn.org. See: https://github.com/scikit-learn/scikit-learn/issues/21755 */display: inline-block !important;position: relative;}#sk-69903b33-73d8-47db-ba36-8533e0942857 div.sk-text-repr-fallback {display: none;}</style><div id=\"sk-69903b33-73d8-47db-ba36-8533e0942857\" class=\"sk-top-container\"><div class=\"sk-text-repr-fallback\"><pre>Pipeline(steps=[(&#x27;onehotencoder&#x27;,\n",
              "                 OneHotEncoder(handle_unknown=&#x27;ignore&#x27;, sparse=False))])</pre><b>Please rerun this cell to show the HTML repr or trust the notebook.</b></div><div class=\"sk-container\" hidden><div class=\"sk-item sk-dashed-wrapped\"><div class=\"sk-label-container\"><div class=\"sk-label sk-toggleable\"><input class=\"sk-toggleable__control sk-hidden--visually\" id=\"dcf0e19d-63d1-4a33-952c-614ee26475dd\" type=\"checkbox\" ><label for=\"dcf0e19d-63d1-4a33-952c-614ee26475dd\" class=\"sk-toggleable__label sk-toggleable__label-arrow\">Pipeline</label><div class=\"sk-toggleable__content\"><pre>Pipeline(steps=[(&#x27;onehotencoder&#x27;,\n",
              "                 OneHotEncoder(handle_unknown=&#x27;ignore&#x27;, sparse=False))])</pre></div></div></div><div class=\"sk-serial\"><div class=\"sk-item\"><div class=\"sk-estimator sk-toggleable\"><input class=\"sk-toggleable__control sk-hidden--visually\" id=\"31a5c1a1-10ef-43f3-b301-376834ef2cf4\" type=\"checkbox\" ><label for=\"31a5c1a1-10ef-43f3-b301-376834ef2cf4\" class=\"sk-toggleable__label sk-toggleable__label-arrow\">OneHotEncoder</label><div class=\"sk-toggleable__content\"><pre>OneHotEncoder(handle_unknown=&#x27;ignore&#x27;, sparse=False)</pre></div></div></div></div></div></div></div>"
            ]
          },
          "metadata": {},
          "execution_count": 114
        }
      ]
    },
    {
      "cell_type": "code",
      "source": [
        "ord_pipeline = make_pipeline(ordinal)\n",
        "ord_pipeline"
      ],
      "metadata": {
        "colab": {
          "base_uri": "https://localhost:8080/",
          "height": 92
        },
        "id": "1L-mK9WGumS6",
        "outputId": "35e4bf64-626a-4e5c-97f6-2335b24a10cf"
      },
      "execution_count": 115,
      "outputs": [
        {
          "output_type": "execute_result",
          "data": {
            "text/plain": [
              "Pipeline(steps=[('ordinalencoder', OrdinalEncoder())])"
            ],
            "text/html": [
              "<style>#sk-1157b7d0-69c7-4875-98f2-cf5a754d0407 {color: black;background-color: white;}#sk-1157b7d0-69c7-4875-98f2-cf5a754d0407 pre{padding: 0;}#sk-1157b7d0-69c7-4875-98f2-cf5a754d0407 div.sk-toggleable {background-color: white;}#sk-1157b7d0-69c7-4875-98f2-cf5a754d0407 label.sk-toggleable__label {cursor: pointer;display: block;width: 100%;margin-bottom: 0;padding: 0.3em;box-sizing: border-box;text-align: center;}#sk-1157b7d0-69c7-4875-98f2-cf5a754d0407 label.sk-toggleable__label-arrow:before {content: \"▸\";float: left;margin-right: 0.25em;color: #696969;}#sk-1157b7d0-69c7-4875-98f2-cf5a754d0407 label.sk-toggleable__label-arrow:hover:before {color: black;}#sk-1157b7d0-69c7-4875-98f2-cf5a754d0407 div.sk-estimator:hover label.sk-toggleable__label-arrow:before {color: black;}#sk-1157b7d0-69c7-4875-98f2-cf5a754d0407 div.sk-toggleable__content {max-height: 0;max-width: 0;overflow: hidden;text-align: left;background-color: #f0f8ff;}#sk-1157b7d0-69c7-4875-98f2-cf5a754d0407 div.sk-toggleable__content pre {margin: 0.2em;color: black;border-radius: 0.25em;background-color: #f0f8ff;}#sk-1157b7d0-69c7-4875-98f2-cf5a754d0407 input.sk-toggleable__control:checked~div.sk-toggleable__content {max-height: 200px;max-width: 100%;overflow: auto;}#sk-1157b7d0-69c7-4875-98f2-cf5a754d0407 input.sk-toggleable__control:checked~label.sk-toggleable__label-arrow:before {content: \"▾\";}#sk-1157b7d0-69c7-4875-98f2-cf5a754d0407 div.sk-estimator input.sk-toggleable__control:checked~label.sk-toggleable__label {background-color: #d4ebff;}#sk-1157b7d0-69c7-4875-98f2-cf5a754d0407 div.sk-label input.sk-toggleable__control:checked~label.sk-toggleable__label {background-color: #d4ebff;}#sk-1157b7d0-69c7-4875-98f2-cf5a754d0407 input.sk-hidden--visually {border: 0;clip: rect(1px 1px 1px 1px);clip: rect(1px, 1px, 1px, 1px);height: 1px;margin: -1px;overflow: hidden;padding: 0;position: absolute;width: 1px;}#sk-1157b7d0-69c7-4875-98f2-cf5a754d0407 div.sk-estimator {font-family: monospace;background-color: #f0f8ff;border: 1px dotted black;border-radius: 0.25em;box-sizing: border-box;margin-bottom: 0.5em;}#sk-1157b7d0-69c7-4875-98f2-cf5a754d0407 div.sk-estimator:hover {background-color: #d4ebff;}#sk-1157b7d0-69c7-4875-98f2-cf5a754d0407 div.sk-parallel-item::after {content: \"\";width: 100%;border-bottom: 1px solid gray;flex-grow: 1;}#sk-1157b7d0-69c7-4875-98f2-cf5a754d0407 div.sk-label:hover label.sk-toggleable__label {background-color: #d4ebff;}#sk-1157b7d0-69c7-4875-98f2-cf5a754d0407 div.sk-serial::before {content: \"\";position: absolute;border-left: 1px solid gray;box-sizing: border-box;top: 2em;bottom: 0;left: 50%;}#sk-1157b7d0-69c7-4875-98f2-cf5a754d0407 div.sk-serial {display: flex;flex-direction: column;align-items: center;background-color: white;padding-right: 0.2em;padding-left: 0.2em;}#sk-1157b7d0-69c7-4875-98f2-cf5a754d0407 div.sk-item {z-index: 1;}#sk-1157b7d0-69c7-4875-98f2-cf5a754d0407 div.sk-parallel {display: flex;align-items: stretch;justify-content: center;background-color: white;}#sk-1157b7d0-69c7-4875-98f2-cf5a754d0407 div.sk-parallel::before {content: \"\";position: absolute;border-left: 1px solid gray;box-sizing: border-box;top: 2em;bottom: 0;left: 50%;}#sk-1157b7d0-69c7-4875-98f2-cf5a754d0407 div.sk-parallel-item {display: flex;flex-direction: column;position: relative;background-color: white;}#sk-1157b7d0-69c7-4875-98f2-cf5a754d0407 div.sk-parallel-item:first-child::after {align-self: flex-end;width: 50%;}#sk-1157b7d0-69c7-4875-98f2-cf5a754d0407 div.sk-parallel-item:last-child::after {align-self: flex-start;width: 50%;}#sk-1157b7d0-69c7-4875-98f2-cf5a754d0407 div.sk-parallel-item:only-child::after {width: 0;}#sk-1157b7d0-69c7-4875-98f2-cf5a754d0407 div.sk-dashed-wrapped {border: 1px dashed gray;margin: 0 0.4em 0.5em 0.4em;box-sizing: border-box;padding-bottom: 0.4em;background-color: white;position: relative;}#sk-1157b7d0-69c7-4875-98f2-cf5a754d0407 div.sk-label label {font-family: monospace;font-weight: bold;background-color: white;display: inline-block;line-height: 1.2em;}#sk-1157b7d0-69c7-4875-98f2-cf5a754d0407 div.sk-label-container {position: relative;z-index: 2;text-align: center;}#sk-1157b7d0-69c7-4875-98f2-cf5a754d0407 div.sk-container {/* jupyter's `normalize.less` sets `[hidden] { display: none; }` but bootstrap.min.css set `[hidden] { display: none !important; }` so we also need the `!important` here to be able to override the default hidden behavior on the sphinx rendered scikit-learn.org. See: https://github.com/scikit-learn/scikit-learn/issues/21755 */display: inline-block !important;position: relative;}#sk-1157b7d0-69c7-4875-98f2-cf5a754d0407 div.sk-text-repr-fallback {display: none;}</style><div id=\"sk-1157b7d0-69c7-4875-98f2-cf5a754d0407\" class=\"sk-top-container\"><div class=\"sk-text-repr-fallback\"><pre>Pipeline(steps=[(&#x27;ordinalencoder&#x27;, OrdinalEncoder())])</pre><b>Please rerun this cell to show the HTML repr or trust the notebook.</b></div><div class=\"sk-container\" hidden><div class=\"sk-item sk-dashed-wrapped\"><div class=\"sk-label-container\"><div class=\"sk-label sk-toggleable\"><input class=\"sk-toggleable__control sk-hidden--visually\" id=\"9ec687d5-7b2d-4d1b-aa8c-21449cdfaa15\" type=\"checkbox\" ><label for=\"9ec687d5-7b2d-4d1b-aa8c-21449cdfaa15\" class=\"sk-toggleable__label sk-toggleable__label-arrow\">Pipeline</label><div class=\"sk-toggleable__content\"><pre>Pipeline(steps=[(&#x27;ordinalencoder&#x27;, OrdinalEncoder())])</pre></div></div></div><div class=\"sk-serial\"><div class=\"sk-item\"><div class=\"sk-estimator sk-toggleable\"><input class=\"sk-toggleable__control sk-hidden--visually\" id=\"52285a61-487e-4a35-9011-b32173d0210f\" type=\"checkbox\" ><label for=\"52285a61-487e-4a35-9011-b32173d0210f\" class=\"sk-toggleable__label sk-toggleable__label-arrow\">OrdinalEncoder</label><div class=\"sk-toggleable__content\"><pre>OrdinalEncoder()</pre></div></div></div></div></div></div></div>"
            ]
          },
          "metadata": {},
          "execution_count": 115
        }
      ]
    },
    {
      "cell_type": "code",
      "source": [
        "num_pipeline = make_pipeline(scaler)\n",
        "num_pipeline"
      ],
      "metadata": {
        "colab": {
          "base_uri": "https://localhost:8080/",
          "height": 92
        },
        "id": "PcvfxZ8Iumjw",
        "outputId": "127df6a4-637b-4a01-e289-3d53f9a7f19d"
      },
      "execution_count": 116,
      "outputs": [
        {
          "output_type": "execute_result",
          "data": {
            "text/plain": [
              "Pipeline(steps=[('standardscaler', StandardScaler())])"
            ],
            "text/html": [
              "<style>#sk-dadbfca9-7036-47e2-a60a-0a314a763224 {color: black;background-color: white;}#sk-dadbfca9-7036-47e2-a60a-0a314a763224 pre{padding: 0;}#sk-dadbfca9-7036-47e2-a60a-0a314a763224 div.sk-toggleable {background-color: white;}#sk-dadbfca9-7036-47e2-a60a-0a314a763224 label.sk-toggleable__label {cursor: pointer;display: block;width: 100%;margin-bottom: 0;padding: 0.3em;box-sizing: border-box;text-align: center;}#sk-dadbfca9-7036-47e2-a60a-0a314a763224 label.sk-toggleable__label-arrow:before {content: \"▸\";float: left;margin-right: 0.25em;color: #696969;}#sk-dadbfca9-7036-47e2-a60a-0a314a763224 label.sk-toggleable__label-arrow:hover:before {color: black;}#sk-dadbfca9-7036-47e2-a60a-0a314a763224 div.sk-estimator:hover label.sk-toggleable__label-arrow:before {color: black;}#sk-dadbfca9-7036-47e2-a60a-0a314a763224 div.sk-toggleable__content {max-height: 0;max-width: 0;overflow: hidden;text-align: left;background-color: #f0f8ff;}#sk-dadbfca9-7036-47e2-a60a-0a314a763224 div.sk-toggleable__content pre {margin: 0.2em;color: black;border-radius: 0.25em;background-color: #f0f8ff;}#sk-dadbfca9-7036-47e2-a60a-0a314a763224 input.sk-toggleable__control:checked~div.sk-toggleable__content {max-height: 200px;max-width: 100%;overflow: auto;}#sk-dadbfca9-7036-47e2-a60a-0a314a763224 input.sk-toggleable__control:checked~label.sk-toggleable__label-arrow:before {content: \"▾\";}#sk-dadbfca9-7036-47e2-a60a-0a314a763224 div.sk-estimator input.sk-toggleable__control:checked~label.sk-toggleable__label {background-color: #d4ebff;}#sk-dadbfca9-7036-47e2-a60a-0a314a763224 div.sk-label input.sk-toggleable__control:checked~label.sk-toggleable__label {background-color: #d4ebff;}#sk-dadbfca9-7036-47e2-a60a-0a314a763224 input.sk-hidden--visually {border: 0;clip: rect(1px 1px 1px 1px);clip: rect(1px, 1px, 1px, 1px);height: 1px;margin: -1px;overflow: hidden;padding: 0;position: absolute;width: 1px;}#sk-dadbfca9-7036-47e2-a60a-0a314a763224 div.sk-estimator {font-family: monospace;background-color: #f0f8ff;border: 1px dotted black;border-radius: 0.25em;box-sizing: border-box;margin-bottom: 0.5em;}#sk-dadbfca9-7036-47e2-a60a-0a314a763224 div.sk-estimator:hover {background-color: #d4ebff;}#sk-dadbfca9-7036-47e2-a60a-0a314a763224 div.sk-parallel-item::after {content: \"\";width: 100%;border-bottom: 1px solid gray;flex-grow: 1;}#sk-dadbfca9-7036-47e2-a60a-0a314a763224 div.sk-label:hover label.sk-toggleable__label {background-color: #d4ebff;}#sk-dadbfca9-7036-47e2-a60a-0a314a763224 div.sk-serial::before {content: \"\";position: absolute;border-left: 1px solid gray;box-sizing: border-box;top: 2em;bottom: 0;left: 50%;}#sk-dadbfca9-7036-47e2-a60a-0a314a763224 div.sk-serial {display: flex;flex-direction: column;align-items: center;background-color: white;padding-right: 0.2em;padding-left: 0.2em;}#sk-dadbfca9-7036-47e2-a60a-0a314a763224 div.sk-item {z-index: 1;}#sk-dadbfca9-7036-47e2-a60a-0a314a763224 div.sk-parallel {display: flex;align-items: stretch;justify-content: center;background-color: white;}#sk-dadbfca9-7036-47e2-a60a-0a314a763224 div.sk-parallel::before {content: \"\";position: absolute;border-left: 1px solid gray;box-sizing: border-box;top: 2em;bottom: 0;left: 50%;}#sk-dadbfca9-7036-47e2-a60a-0a314a763224 div.sk-parallel-item {display: flex;flex-direction: column;position: relative;background-color: white;}#sk-dadbfca9-7036-47e2-a60a-0a314a763224 div.sk-parallel-item:first-child::after {align-self: flex-end;width: 50%;}#sk-dadbfca9-7036-47e2-a60a-0a314a763224 div.sk-parallel-item:last-child::after {align-self: flex-start;width: 50%;}#sk-dadbfca9-7036-47e2-a60a-0a314a763224 div.sk-parallel-item:only-child::after {width: 0;}#sk-dadbfca9-7036-47e2-a60a-0a314a763224 div.sk-dashed-wrapped {border: 1px dashed gray;margin: 0 0.4em 0.5em 0.4em;box-sizing: border-box;padding-bottom: 0.4em;background-color: white;position: relative;}#sk-dadbfca9-7036-47e2-a60a-0a314a763224 div.sk-label label {font-family: monospace;font-weight: bold;background-color: white;display: inline-block;line-height: 1.2em;}#sk-dadbfca9-7036-47e2-a60a-0a314a763224 div.sk-label-container {position: relative;z-index: 2;text-align: center;}#sk-dadbfca9-7036-47e2-a60a-0a314a763224 div.sk-container {/* jupyter's `normalize.less` sets `[hidden] { display: none; }` but bootstrap.min.css set `[hidden] { display: none !important; }` so we also need the `!important` here to be able to override the default hidden behavior on the sphinx rendered scikit-learn.org. See: https://github.com/scikit-learn/scikit-learn/issues/21755 */display: inline-block !important;position: relative;}#sk-dadbfca9-7036-47e2-a60a-0a314a763224 div.sk-text-repr-fallback {display: none;}</style><div id=\"sk-dadbfca9-7036-47e2-a60a-0a314a763224\" class=\"sk-top-container\"><div class=\"sk-text-repr-fallback\"><pre>Pipeline(steps=[(&#x27;standardscaler&#x27;, StandardScaler())])</pre><b>Please rerun this cell to show the HTML repr or trust the notebook.</b></div><div class=\"sk-container\" hidden><div class=\"sk-item sk-dashed-wrapped\"><div class=\"sk-label-container\"><div class=\"sk-label sk-toggleable\"><input class=\"sk-toggleable__control sk-hidden--visually\" id=\"fd21a46d-05d7-4c2d-9263-722cb0e274db\" type=\"checkbox\" ><label for=\"fd21a46d-05d7-4c2d-9263-722cb0e274db\" class=\"sk-toggleable__label sk-toggleable__label-arrow\">Pipeline</label><div class=\"sk-toggleable__content\"><pre>Pipeline(steps=[(&#x27;standardscaler&#x27;, StandardScaler())])</pre></div></div></div><div class=\"sk-serial\"><div class=\"sk-item\"><div class=\"sk-estimator sk-toggleable\"><input class=\"sk-toggleable__control sk-hidden--visually\" id=\"5cf0bc79-409d-448d-93a5-99ec3879dffb\" type=\"checkbox\" ><label for=\"5cf0bc79-409d-448d-93a5-99ec3879dffb\" class=\"sk-toggleable__label sk-toggleable__label-arrow\">StandardScaler</label><div class=\"sk-toggleable__content\"><pre>StandardScaler()</pre></div></div></div></div></div></div></div>"
            ]
          },
          "metadata": {},
          "execution_count": 116
        }
      ]
    },
    {
      "cell_type": "code",
      "source": [
        "num_tuple = (num_pipeline, num_selector)\n",
        "#nom_tuple = (nom_pipeline, nom_selector)\n",
        "#ord_tuple = (ord_pipeline, ord_selector)\n",
        "\n",
        "preprocessor = make_column_transformer(num_tuple)#, nom_tuple, ord_tuple)\n",
        "preprocessor"
      ],
      "metadata": {
        "colab": {
          "base_uri": "https://localhost:8080/",
          "height": 118
        },
        "id": "6iv5g-4vsfdE",
        "outputId": "09229003-dec4-4d3a-8f11-2503c8cdb277"
      },
      "execution_count": 117,
      "outputs": [
        {
          "output_type": "execute_result",
          "data": {
            "text/plain": [
              "ColumnTransformer(transformers=[('pipeline',\n",
              "                                 Pipeline(steps=[('standardscaler',\n",
              "                                                  StandardScaler())]),\n",
              "                                 <sklearn.compose._column_transformer.make_column_selector object at 0x7f6571ad6910>)])"
            ],
            "text/html": [
              "<style>#sk-edf7cd01-e22e-44db-b3b8-5863f540089a {color: black;background-color: white;}#sk-edf7cd01-e22e-44db-b3b8-5863f540089a pre{padding: 0;}#sk-edf7cd01-e22e-44db-b3b8-5863f540089a div.sk-toggleable {background-color: white;}#sk-edf7cd01-e22e-44db-b3b8-5863f540089a label.sk-toggleable__label {cursor: pointer;display: block;width: 100%;margin-bottom: 0;padding: 0.3em;box-sizing: border-box;text-align: center;}#sk-edf7cd01-e22e-44db-b3b8-5863f540089a label.sk-toggleable__label-arrow:before {content: \"▸\";float: left;margin-right: 0.25em;color: #696969;}#sk-edf7cd01-e22e-44db-b3b8-5863f540089a label.sk-toggleable__label-arrow:hover:before {color: black;}#sk-edf7cd01-e22e-44db-b3b8-5863f540089a div.sk-estimator:hover label.sk-toggleable__label-arrow:before {color: black;}#sk-edf7cd01-e22e-44db-b3b8-5863f540089a div.sk-toggleable__content {max-height: 0;max-width: 0;overflow: hidden;text-align: left;background-color: #f0f8ff;}#sk-edf7cd01-e22e-44db-b3b8-5863f540089a div.sk-toggleable__content pre {margin: 0.2em;color: black;border-radius: 0.25em;background-color: #f0f8ff;}#sk-edf7cd01-e22e-44db-b3b8-5863f540089a input.sk-toggleable__control:checked~div.sk-toggleable__content {max-height: 200px;max-width: 100%;overflow: auto;}#sk-edf7cd01-e22e-44db-b3b8-5863f540089a input.sk-toggleable__control:checked~label.sk-toggleable__label-arrow:before {content: \"▾\";}#sk-edf7cd01-e22e-44db-b3b8-5863f540089a div.sk-estimator input.sk-toggleable__control:checked~label.sk-toggleable__label {background-color: #d4ebff;}#sk-edf7cd01-e22e-44db-b3b8-5863f540089a div.sk-label input.sk-toggleable__control:checked~label.sk-toggleable__label {background-color: #d4ebff;}#sk-edf7cd01-e22e-44db-b3b8-5863f540089a input.sk-hidden--visually {border: 0;clip: rect(1px 1px 1px 1px);clip: rect(1px, 1px, 1px, 1px);height: 1px;margin: -1px;overflow: hidden;padding: 0;position: absolute;width: 1px;}#sk-edf7cd01-e22e-44db-b3b8-5863f540089a div.sk-estimator {font-family: monospace;background-color: #f0f8ff;border: 1px dotted black;border-radius: 0.25em;box-sizing: border-box;margin-bottom: 0.5em;}#sk-edf7cd01-e22e-44db-b3b8-5863f540089a div.sk-estimator:hover {background-color: #d4ebff;}#sk-edf7cd01-e22e-44db-b3b8-5863f540089a div.sk-parallel-item::after {content: \"\";width: 100%;border-bottom: 1px solid gray;flex-grow: 1;}#sk-edf7cd01-e22e-44db-b3b8-5863f540089a div.sk-label:hover label.sk-toggleable__label {background-color: #d4ebff;}#sk-edf7cd01-e22e-44db-b3b8-5863f540089a div.sk-serial::before {content: \"\";position: absolute;border-left: 1px solid gray;box-sizing: border-box;top: 2em;bottom: 0;left: 50%;}#sk-edf7cd01-e22e-44db-b3b8-5863f540089a div.sk-serial {display: flex;flex-direction: column;align-items: center;background-color: white;padding-right: 0.2em;padding-left: 0.2em;}#sk-edf7cd01-e22e-44db-b3b8-5863f540089a div.sk-item {z-index: 1;}#sk-edf7cd01-e22e-44db-b3b8-5863f540089a div.sk-parallel {display: flex;align-items: stretch;justify-content: center;background-color: white;}#sk-edf7cd01-e22e-44db-b3b8-5863f540089a div.sk-parallel::before {content: \"\";position: absolute;border-left: 1px solid gray;box-sizing: border-box;top: 2em;bottom: 0;left: 50%;}#sk-edf7cd01-e22e-44db-b3b8-5863f540089a div.sk-parallel-item {display: flex;flex-direction: column;position: relative;background-color: white;}#sk-edf7cd01-e22e-44db-b3b8-5863f540089a div.sk-parallel-item:first-child::after {align-self: flex-end;width: 50%;}#sk-edf7cd01-e22e-44db-b3b8-5863f540089a div.sk-parallel-item:last-child::after {align-self: flex-start;width: 50%;}#sk-edf7cd01-e22e-44db-b3b8-5863f540089a div.sk-parallel-item:only-child::after {width: 0;}#sk-edf7cd01-e22e-44db-b3b8-5863f540089a div.sk-dashed-wrapped {border: 1px dashed gray;margin: 0 0.4em 0.5em 0.4em;box-sizing: border-box;padding-bottom: 0.4em;background-color: white;position: relative;}#sk-edf7cd01-e22e-44db-b3b8-5863f540089a div.sk-label label {font-family: monospace;font-weight: bold;background-color: white;display: inline-block;line-height: 1.2em;}#sk-edf7cd01-e22e-44db-b3b8-5863f540089a div.sk-label-container {position: relative;z-index: 2;text-align: center;}#sk-edf7cd01-e22e-44db-b3b8-5863f540089a div.sk-container {/* jupyter's `normalize.less` sets `[hidden] { display: none; }` but bootstrap.min.css set `[hidden] { display: none !important; }` so we also need the `!important` here to be able to override the default hidden behavior on the sphinx rendered scikit-learn.org. See: https://github.com/scikit-learn/scikit-learn/issues/21755 */display: inline-block !important;position: relative;}#sk-edf7cd01-e22e-44db-b3b8-5863f540089a div.sk-text-repr-fallback {display: none;}</style><div id=\"sk-edf7cd01-e22e-44db-b3b8-5863f540089a\" class=\"sk-top-container\"><div class=\"sk-text-repr-fallback\"><pre>ColumnTransformer(transformers=[(&#x27;pipeline&#x27;,\n",
              "                                 Pipeline(steps=[(&#x27;standardscaler&#x27;,\n",
              "                                                  StandardScaler())]),\n",
              "                                 &lt;sklearn.compose._column_transformer.make_column_selector object at 0x7f6571ad6910&gt;)])</pre><b>Please rerun this cell to show the HTML repr or trust the notebook.</b></div><div class=\"sk-container\" hidden><div class=\"sk-item sk-dashed-wrapped\"><div class=\"sk-label-container\"><div class=\"sk-label sk-toggleable\"><input class=\"sk-toggleable__control sk-hidden--visually\" id=\"7ca7a237-4e4d-4df5-b018-3f7580949d58\" type=\"checkbox\" ><label for=\"7ca7a237-4e4d-4df5-b018-3f7580949d58\" class=\"sk-toggleable__label sk-toggleable__label-arrow\">ColumnTransformer</label><div class=\"sk-toggleable__content\"><pre>ColumnTransformer(transformers=[(&#x27;pipeline&#x27;,\n",
              "                                 Pipeline(steps=[(&#x27;standardscaler&#x27;,\n",
              "                                                  StandardScaler())]),\n",
              "                                 &lt;sklearn.compose._column_transformer.make_column_selector object at 0x7f6571ad6910&gt;)])</pre></div></div></div><div class=\"sk-parallel\"><div class=\"sk-parallel-item\"><div class=\"sk-item\"><div class=\"sk-label-container\"><div class=\"sk-label sk-toggleable\"><input class=\"sk-toggleable__control sk-hidden--visually\" id=\"5c42ef77-f08f-40a2-b1d2-3ffbae7da0bc\" type=\"checkbox\" ><label for=\"5c42ef77-f08f-40a2-b1d2-3ffbae7da0bc\" class=\"sk-toggleable__label sk-toggleable__label-arrow\">pipeline</label><div class=\"sk-toggleable__content\"><pre>&lt;sklearn.compose._column_transformer.make_column_selector object at 0x7f6571ad6910&gt;</pre></div></div></div><div class=\"sk-serial\"><div class=\"sk-item\"><div class=\"sk-serial\"><div class=\"sk-item\"><div class=\"sk-estimator sk-toggleable\"><input class=\"sk-toggleable__control sk-hidden--visually\" id=\"8f337c43-8e95-4f68-8db6-f93d17c16c29\" type=\"checkbox\" ><label for=\"8f337c43-8e95-4f68-8db6-f93d17c16c29\" class=\"sk-toggleable__label sk-toggleable__label-arrow\">StandardScaler</label><div class=\"sk-toggleable__content\"><pre>StandardScaler()</pre></div></div></div></div></div></div></div></div></div></div></div></div>"
            ]
          },
          "metadata": {},
          "execution_count": 117
        }
      ]
    },
    {
      "cell_type": "code",
      "source": [
        "preprocessor.fit(X_train)"
      ],
      "metadata": {
        "colab": {
          "base_uri": "https://localhost:8080/",
          "height": 118
        },
        "id": "8mZI1taLvDdJ",
        "outputId": "a6a62cc9-3cd8-49cc-ffd3-23a0d5bf4a7e"
      },
      "execution_count": 118,
      "outputs": [
        {
          "output_type": "execute_result",
          "data": {
            "text/plain": [
              "ColumnTransformer(transformers=[('pipeline',\n",
              "                                 Pipeline(steps=[('standardscaler',\n",
              "                                                  StandardScaler())]),\n",
              "                                 <sklearn.compose._column_transformer.make_column_selector object at 0x7f6571ad6910>)])"
            ],
            "text/html": [
              "<style>#sk-a3052a6c-d1db-4b0f-9702-8d9d7c4ce396 {color: black;background-color: white;}#sk-a3052a6c-d1db-4b0f-9702-8d9d7c4ce396 pre{padding: 0;}#sk-a3052a6c-d1db-4b0f-9702-8d9d7c4ce396 div.sk-toggleable {background-color: white;}#sk-a3052a6c-d1db-4b0f-9702-8d9d7c4ce396 label.sk-toggleable__label {cursor: pointer;display: block;width: 100%;margin-bottom: 0;padding: 0.3em;box-sizing: border-box;text-align: center;}#sk-a3052a6c-d1db-4b0f-9702-8d9d7c4ce396 label.sk-toggleable__label-arrow:before {content: \"▸\";float: left;margin-right: 0.25em;color: #696969;}#sk-a3052a6c-d1db-4b0f-9702-8d9d7c4ce396 label.sk-toggleable__label-arrow:hover:before {color: black;}#sk-a3052a6c-d1db-4b0f-9702-8d9d7c4ce396 div.sk-estimator:hover label.sk-toggleable__label-arrow:before {color: black;}#sk-a3052a6c-d1db-4b0f-9702-8d9d7c4ce396 div.sk-toggleable__content {max-height: 0;max-width: 0;overflow: hidden;text-align: left;background-color: #f0f8ff;}#sk-a3052a6c-d1db-4b0f-9702-8d9d7c4ce396 div.sk-toggleable__content pre {margin: 0.2em;color: black;border-radius: 0.25em;background-color: #f0f8ff;}#sk-a3052a6c-d1db-4b0f-9702-8d9d7c4ce396 input.sk-toggleable__control:checked~div.sk-toggleable__content {max-height: 200px;max-width: 100%;overflow: auto;}#sk-a3052a6c-d1db-4b0f-9702-8d9d7c4ce396 input.sk-toggleable__control:checked~label.sk-toggleable__label-arrow:before {content: \"▾\";}#sk-a3052a6c-d1db-4b0f-9702-8d9d7c4ce396 div.sk-estimator input.sk-toggleable__control:checked~label.sk-toggleable__label {background-color: #d4ebff;}#sk-a3052a6c-d1db-4b0f-9702-8d9d7c4ce396 div.sk-label input.sk-toggleable__control:checked~label.sk-toggleable__label {background-color: #d4ebff;}#sk-a3052a6c-d1db-4b0f-9702-8d9d7c4ce396 input.sk-hidden--visually {border: 0;clip: rect(1px 1px 1px 1px);clip: rect(1px, 1px, 1px, 1px);height: 1px;margin: -1px;overflow: hidden;padding: 0;position: absolute;width: 1px;}#sk-a3052a6c-d1db-4b0f-9702-8d9d7c4ce396 div.sk-estimator {font-family: monospace;background-color: #f0f8ff;border: 1px dotted black;border-radius: 0.25em;box-sizing: border-box;margin-bottom: 0.5em;}#sk-a3052a6c-d1db-4b0f-9702-8d9d7c4ce396 div.sk-estimator:hover {background-color: #d4ebff;}#sk-a3052a6c-d1db-4b0f-9702-8d9d7c4ce396 div.sk-parallel-item::after {content: \"\";width: 100%;border-bottom: 1px solid gray;flex-grow: 1;}#sk-a3052a6c-d1db-4b0f-9702-8d9d7c4ce396 div.sk-label:hover label.sk-toggleable__label {background-color: #d4ebff;}#sk-a3052a6c-d1db-4b0f-9702-8d9d7c4ce396 div.sk-serial::before {content: \"\";position: absolute;border-left: 1px solid gray;box-sizing: border-box;top: 2em;bottom: 0;left: 50%;}#sk-a3052a6c-d1db-4b0f-9702-8d9d7c4ce396 div.sk-serial {display: flex;flex-direction: column;align-items: center;background-color: white;padding-right: 0.2em;padding-left: 0.2em;}#sk-a3052a6c-d1db-4b0f-9702-8d9d7c4ce396 div.sk-item {z-index: 1;}#sk-a3052a6c-d1db-4b0f-9702-8d9d7c4ce396 div.sk-parallel {display: flex;align-items: stretch;justify-content: center;background-color: white;}#sk-a3052a6c-d1db-4b0f-9702-8d9d7c4ce396 div.sk-parallel::before {content: \"\";position: absolute;border-left: 1px solid gray;box-sizing: border-box;top: 2em;bottom: 0;left: 50%;}#sk-a3052a6c-d1db-4b0f-9702-8d9d7c4ce396 div.sk-parallel-item {display: flex;flex-direction: column;position: relative;background-color: white;}#sk-a3052a6c-d1db-4b0f-9702-8d9d7c4ce396 div.sk-parallel-item:first-child::after {align-self: flex-end;width: 50%;}#sk-a3052a6c-d1db-4b0f-9702-8d9d7c4ce396 div.sk-parallel-item:last-child::after {align-self: flex-start;width: 50%;}#sk-a3052a6c-d1db-4b0f-9702-8d9d7c4ce396 div.sk-parallel-item:only-child::after {width: 0;}#sk-a3052a6c-d1db-4b0f-9702-8d9d7c4ce396 div.sk-dashed-wrapped {border: 1px dashed gray;margin: 0 0.4em 0.5em 0.4em;box-sizing: border-box;padding-bottom: 0.4em;background-color: white;position: relative;}#sk-a3052a6c-d1db-4b0f-9702-8d9d7c4ce396 div.sk-label label {font-family: monospace;font-weight: bold;background-color: white;display: inline-block;line-height: 1.2em;}#sk-a3052a6c-d1db-4b0f-9702-8d9d7c4ce396 div.sk-label-container {position: relative;z-index: 2;text-align: center;}#sk-a3052a6c-d1db-4b0f-9702-8d9d7c4ce396 div.sk-container {/* jupyter's `normalize.less` sets `[hidden] { display: none; }` but bootstrap.min.css set `[hidden] { display: none !important; }` so we also need the `!important` here to be able to override the default hidden behavior on the sphinx rendered scikit-learn.org. See: https://github.com/scikit-learn/scikit-learn/issues/21755 */display: inline-block !important;position: relative;}#sk-a3052a6c-d1db-4b0f-9702-8d9d7c4ce396 div.sk-text-repr-fallback {display: none;}</style><div id=\"sk-a3052a6c-d1db-4b0f-9702-8d9d7c4ce396\" class=\"sk-top-container\"><div class=\"sk-text-repr-fallback\"><pre>ColumnTransformer(transformers=[(&#x27;pipeline&#x27;,\n",
              "                                 Pipeline(steps=[(&#x27;standardscaler&#x27;,\n",
              "                                                  StandardScaler())]),\n",
              "                                 &lt;sklearn.compose._column_transformer.make_column_selector object at 0x7f6571ad6910&gt;)])</pre><b>Please rerun this cell to show the HTML repr or trust the notebook.</b></div><div class=\"sk-container\" hidden><div class=\"sk-item sk-dashed-wrapped\"><div class=\"sk-label-container\"><div class=\"sk-label sk-toggleable\"><input class=\"sk-toggleable__control sk-hidden--visually\" id=\"b049636e-ba98-48df-becf-00ff3d6012d8\" type=\"checkbox\" ><label for=\"b049636e-ba98-48df-becf-00ff3d6012d8\" class=\"sk-toggleable__label sk-toggleable__label-arrow\">ColumnTransformer</label><div class=\"sk-toggleable__content\"><pre>ColumnTransformer(transformers=[(&#x27;pipeline&#x27;,\n",
              "                                 Pipeline(steps=[(&#x27;standardscaler&#x27;,\n",
              "                                                  StandardScaler())]),\n",
              "                                 &lt;sklearn.compose._column_transformer.make_column_selector object at 0x7f6571ad6910&gt;)])</pre></div></div></div><div class=\"sk-parallel\"><div class=\"sk-parallel-item\"><div class=\"sk-item\"><div class=\"sk-label-container\"><div class=\"sk-label sk-toggleable\"><input class=\"sk-toggleable__control sk-hidden--visually\" id=\"434d4b8a-2efa-4dcb-94b1-ea0cf2f43cdb\" type=\"checkbox\" ><label for=\"434d4b8a-2efa-4dcb-94b1-ea0cf2f43cdb\" class=\"sk-toggleable__label sk-toggleable__label-arrow\">pipeline</label><div class=\"sk-toggleable__content\"><pre>&lt;sklearn.compose._column_transformer.make_column_selector object at 0x7f6571ad6910&gt;</pre></div></div></div><div class=\"sk-serial\"><div class=\"sk-item\"><div class=\"sk-serial\"><div class=\"sk-item\"><div class=\"sk-estimator sk-toggleable\"><input class=\"sk-toggleable__control sk-hidden--visually\" id=\"5de8ee7f-9d98-479e-af34-d0408a7107d2\" type=\"checkbox\" ><label for=\"5de8ee7f-9d98-479e-af34-d0408a7107d2\" class=\"sk-toggleable__label sk-toggleable__label-arrow\">StandardScaler</label><div class=\"sk-toggleable__content\"><pre>StandardScaler()</pre></div></div></div></div></div></div></div></div></div></div></div></div>"
            ]
          },
          "metadata": {},
          "execution_count": 118
        }
      ]
    },
    {
      "cell_type": "code",
      "source": [
        "X_train_processed = preprocessor.transform(X_train)\n",
        "X_test_processed = preprocessor.transform(X_test)"
      ],
      "metadata": {
        "id": "1_txeEgTvTda"
      },
      "execution_count": 119,
      "outputs": []
    },
    {
      "cell_type": "code",
      "source": [
        "X_train_processed"
      ],
      "metadata": {
        "colab": {
          "base_uri": "https://localhost:8080/"
        },
        "id": "OTMY-d9xy8Rb",
        "outputId": "4034a49e-7ec8-4545-9f85-c2190d499318"
      },
      "execution_count": 120,
      "outputs": [
        {
          "output_type": "execute_result",
          "data": {
            "text/plain": [
              "array([[ 1.4001601 ],\n",
              "       [ 0.84991876],\n",
              "       [ 1.95842539],\n",
              "       ...,\n",
              "       [-1.56913136],\n",
              "       [ 0.87711677],\n",
              "       [ 0.49141151]])"
            ]
          },
          "metadata": {},
          "execution_count": 120
        }
      ]
    },
    {
      "cell_type": "code",
      "source": [
        "X_test_processed"
      ],
      "metadata": {
        "colab": {
          "base_uri": "https://localhost:8080/"
        },
        "id": "rGe9pQ8IzHQg",
        "outputId": "d1e19da6-63ea-4d91-8ffc-1c42185e7a52"
      },
      "execution_count": 121,
      "outputs": [
        {
          "output_type": "execute_result",
          "data": {
            "text/plain": [
              "array([[-0.62511908],\n",
              "       [ 0.18962081],\n",
              "       [-0.15495043],\n",
              "       ...,\n",
              "       [ 1.24200146],\n",
              "       [-1.67057345],\n",
              "       [-1.45105079]])"
            ]
          },
          "metadata": {},
          "execution_count": 121
        }
      ]
    },
    {
      "cell_type": "markdown",
      "source": [
        "Regresion Lineal"
      ],
      "metadata": {
        "id": "O6etGSdVTRbb"
      }
    },
    {
      "cell_type": "code",
      "source": [
        "from sklearn.linear_model import LinearRegression\n",
        "from sklearn.metrics import r2_score, mean_squared_error"
      ],
      "metadata": {
        "id": "Y6sv3xSbTOkH"
      },
      "execution_count": 122,
      "outputs": []
    },
    {
      "cell_type": "code",
      "source": [
        "lin_reg = LinearRegression()\n",
        "\n",
        "lin_reg.fit(X_train_processed, y_train)"
      ],
      "metadata": {
        "colab": {
          "base_uri": "https://localhost:8080/",
          "height": 75
        },
        "id": "OBLzpyjcTVyN",
        "outputId": "5edd41a6-81ed-4c3e-e6f4-1a99fc99b96c"
      },
      "execution_count": 123,
      "outputs": [
        {
          "output_type": "execute_result",
          "data": {
            "text/plain": [
              "LinearRegression()"
            ],
            "text/html": [
              "<style>#sk-ab82b7ab-157f-45ad-af55-31a246ca60ae {color: black;background-color: white;}#sk-ab82b7ab-157f-45ad-af55-31a246ca60ae pre{padding: 0;}#sk-ab82b7ab-157f-45ad-af55-31a246ca60ae div.sk-toggleable {background-color: white;}#sk-ab82b7ab-157f-45ad-af55-31a246ca60ae label.sk-toggleable__label {cursor: pointer;display: block;width: 100%;margin-bottom: 0;padding: 0.3em;box-sizing: border-box;text-align: center;}#sk-ab82b7ab-157f-45ad-af55-31a246ca60ae label.sk-toggleable__label-arrow:before {content: \"▸\";float: left;margin-right: 0.25em;color: #696969;}#sk-ab82b7ab-157f-45ad-af55-31a246ca60ae label.sk-toggleable__label-arrow:hover:before {color: black;}#sk-ab82b7ab-157f-45ad-af55-31a246ca60ae div.sk-estimator:hover label.sk-toggleable__label-arrow:before {color: black;}#sk-ab82b7ab-157f-45ad-af55-31a246ca60ae div.sk-toggleable__content {max-height: 0;max-width: 0;overflow: hidden;text-align: left;background-color: #f0f8ff;}#sk-ab82b7ab-157f-45ad-af55-31a246ca60ae div.sk-toggleable__content pre {margin: 0.2em;color: black;border-radius: 0.25em;background-color: #f0f8ff;}#sk-ab82b7ab-157f-45ad-af55-31a246ca60ae input.sk-toggleable__control:checked~div.sk-toggleable__content {max-height: 200px;max-width: 100%;overflow: auto;}#sk-ab82b7ab-157f-45ad-af55-31a246ca60ae input.sk-toggleable__control:checked~label.sk-toggleable__label-arrow:before {content: \"▾\";}#sk-ab82b7ab-157f-45ad-af55-31a246ca60ae div.sk-estimator input.sk-toggleable__control:checked~label.sk-toggleable__label {background-color: #d4ebff;}#sk-ab82b7ab-157f-45ad-af55-31a246ca60ae div.sk-label input.sk-toggleable__control:checked~label.sk-toggleable__label {background-color: #d4ebff;}#sk-ab82b7ab-157f-45ad-af55-31a246ca60ae input.sk-hidden--visually {border: 0;clip: rect(1px 1px 1px 1px);clip: rect(1px, 1px, 1px, 1px);height: 1px;margin: -1px;overflow: hidden;padding: 0;position: absolute;width: 1px;}#sk-ab82b7ab-157f-45ad-af55-31a246ca60ae div.sk-estimator {font-family: monospace;background-color: #f0f8ff;border: 1px dotted black;border-radius: 0.25em;box-sizing: border-box;margin-bottom: 0.5em;}#sk-ab82b7ab-157f-45ad-af55-31a246ca60ae div.sk-estimator:hover {background-color: #d4ebff;}#sk-ab82b7ab-157f-45ad-af55-31a246ca60ae div.sk-parallel-item::after {content: \"\";width: 100%;border-bottom: 1px solid gray;flex-grow: 1;}#sk-ab82b7ab-157f-45ad-af55-31a246ca60ae div.sk-label:hover label.sk-toggleable__label {background-color: #d4ebff;}#sk-ab82b7ab-157f-45ad-af55-31a246ca60ae div.sk-serial::before {content: \"\";position: absolute;border-left: 1px solid gray;box-sizing: border-box;top: 2em;bottom: 0;left: 50%;}#sk-ab82b7ab-157f-45ad-af55-31a246ca60ae div.sk-serial {display: flex;flex-direction: column;align-items: center;background-color: white;padding-right: 0.2em;padding-left: 0.2em;}#sk-ab82b7ab-157f-45ad-af55-31a246ca60ae div.sk-item {z-index: 1;}#sk-ab82b7ab-157f-45ad-af55-31a246ca60ae div.sk-parallel {display: flex;align-items: stretch;justify-content: center;background-color: white;}#sk-ab82b7ab-157f-45ad-af55-31a246ca60ae div.sk-parallel::before {content: \"\";position: absolute;border-left: 1px solid gray;box-sizing: border-box;top: 2em;bottom: 0;left: 50%;}#sk-ab82b7ab-157f-45ad-af55-31a246ca60ae div.sk-parallel-item {display: flex;flex-direction: column;position: relative;background-color: white;}#sk-ab82b7ab-157f-45ad-af55-31a246ca60ae div.sk-parallel-item:first-child::after {align-self: flex-end;width: 50%;}#sk-ab82b7ab-157f-45ad-af55-31a246ca60ae div.sk-parallel-item:last-child::after {align-self: flex-start;width: 50%;}#sk-ab82b7ab-157f-45ad-af55-31a246ca60ae div.sk-parallel-item:only-child::after {width: 0;}#sk-ab82b7ab-157f-45ad-af55-31a246ca60ae div.sk-dashed-wrapped {border: 1px dashed gray;margin: 0 0.4em 0.5em 0.4em;box-sizing: border-box;padding-bottom: 0.4em;background-color: white;position: relative;}#sk-ab82b7ab-157f-45ad-af55-31a246ca60ae div.sk-label label {font-family: monospace;font-weight: bold;background-color: white;display: inline-block;line-height: 1.2em;}#sk-ab82b7ab-157f-45ad-af55-31a246ca60ae div.sk-label-container {position: relative;z-index: 2;text-align: center;}#sk-ab82b7ab-157f-45ad-af55-31a246ca60ae div.sk-container {/* jupyter's `normalize.less` sets `[hidden] { display: none; }` but bootstrap.min.css set `[hidden] { display: none !important; }` so we also need the `!important` here to be able to override the default hidden behavior on the sphinx rendered scikit-learn.org. See: https://github.com/scikit-learn/scikit-learn/issues/21755 */display: inline-block !important;position: relative;}#sk-ab82b7ab-157f-45ad-af55-31a246ca60ae div.sk-text-repr-fallback {display: none;}</style><div id=\"sk-ab82b7ab-157f-45ad-af55-31a246ca60ae\" class=\"sk-top-container\"><div class=\"sk-text-repr-fallback\"><pre>LinearRegression()</pre><b>Please rerun this cell to show the HTML repr or trust the notebook.</b></div><div class=\"sk-container\" hidden><div class=\"sk-item\"><div class=\"sk-estimator sk-toggleable\"><input class=\"sk-toggleable__control sk-hidden--visually\" id=\"ff869f4a-19b3-4929-8f3b-4fb70d9ea38e\" type=\"checkbox\" checked><label for=\"ff869f4a-19b3-4929-8f3b-4fb70d9ea38e\" class=\"sk-toggleable__label sk-toggleable__label-arrow\">LinearRegression</label><div class=\"sk-toggleable__content\"><pre>LinearRegression()</pre></div></div></div></div></div>"
            ]
          },
          "metadata": {},
          "execution_count": 123
        }
      ]
    },
    {
      "cell_type": "code",
      "source": [
        "plt.plot(X_test['Item_MRP'], y_test, \".\")"
      ],
      "metadata": {
        "colab": {
          "base_uri": "https://localhost:8080/",
          "height": 282
        },
        "id": "PMYLH4YyVJSk",
        "outputId": "141f9d9e-d73e-4d7d-f847-c2d24f235c83"
      },
      "execution_count": 124,
      "outputs": [
        {
          "output_type": "execute_result",
          "data": {
            "text/plain": [
              "[<matplotlib.lines.Line2D at 0x7f6571ad9dd0>]"
            ]
          },
          "metadata": {},
          "execution_count": 124
        },
        {
          "output_type": "display_data",
          "data": {
            "text/plain": [
              "<Figure size 432x288 with 1 Axes>"
            ],
            "image/png": "[encoded data removed]"
          },
          "metadata": {
            "needs_background": "light"
          }
        }
      ]
    },
    {
      "cell_type": "code",
      "source": [
        "print(f\"Regresion Lineal\")\n",
        "print(\"r2 score\")\n",
        "print(f\"r2_train = {r2_score(y_train, lin_reg.predict(X_train_processed))}\")\n",
        "print(f\"r2_test = {r2_score(y_test, lin_reg.predict(X_test_processed))}\")"
      ],
      "metadata": {
        "colab": {
          "base_uri": "https://localhost:8080/"
        },
        "id": "bq97zVw6T4eN",
        "outputId": "7b3d2a20-86fc-4340-d11f-765def84ec2d"
      },
      "execution_count": 125,
      "outputs": [
        {
          "output_type": "stream",
          "name": "stdout",
          "text": [
            "Regresion Lineal\n",
            "r2 score\n",
            "r2_train = 0.3811387196622341\n",
            "r2_test = 0.40244594335730133\n"
          ]
        }
      ]
    },
    {
      "cell_type": "code",
      "source": [
        "print(\"RECM\")\n",
        "print(f\"recm_train = {np.sqrt(mean_squared_error(y_train, lin_reg.predict(X_train_processed)))}\")\n",
        "print(f\"recm_test = {np.sqrt(mean_squared_error(y_test, lin_reg.predict(X_test_processed)))}\")"
      ],
      "metadata": {
        "colab": {
          "base_uri": "https://localhost:8080/"
        },
        "id": "obqg-qddTe-V",
        "outputId": "6ac3d29b-4ad4-401e-9bea-21cb7f758731"
      },
      "execution_count": 126,
      "outputs": [
        {
          "output_type": "stream",
          "name": "stdout",
          "text": [
            "RECM\n",
            "recm_train = 1201.0887678978725\n",
            "recm_test = 1205.2609174083595\n"
          ]
        }
      ]
    },
    {
      "cell_type": "markdown",
      "source": [
        "Arbol de Regresion"
      ],
      "metadata": {
        "id": "9I_1fpVDVnJe"
      }
    },
    {
      "cell_type": "code",
      "source": [
        "from sklearn.tree import DecisionTreeRegressor\n",
        "from sklearn.ensemble import BaggingRegressor"
      ],
      "metadata": {
        "id": "S4qqO3gXVzae"
      },
      "execution_count": 127,
      "outputs": []
    },
    {
      "cell_type": "code",
      "source": [
        "bag_reg = BaggingRegressor(\n",
        "    DecisionTreeRegressor(), n_estimators = 100,\n",
        "    max_samples = 200, bootstrap = True, #Si se quiere hacer pasting, esto es False\n",
        "    random_state = 42)"
      ],
      "metadata": {
        "id": "3QjU0lWyWuPe"
      },
      "execution_count": 128,
      "outputs": []
    },
    {
      "cell_type": "code",
      "source": [
        "bag_reg.fit(X_train_processed,y_train)\n",
        "\n"
      ],
      "metadata": {
        "colab": {
          "base_uri": "https://localhost:8080/",
          "height": 93
        },
        "id": "NwH8VyUzVmrv",
        "outputId": "1a0a1b30-fc60-4ffc-db86-f9a6c81a9508"
      },
      "execution_count": 129,
      "outputs": [
        {
          "output_type": "execute_result",
          "data": {
            "text/plain": [
              "BaggingRegressor(base_estimator=DecisionTreeRegressor(), max_samples=200,\n",
              "                 n_estimators=100, random_state=42)"
            ],
            "text/html": [
              "<style>#sk-29dbde68-125b-495e-b8df-2104efd4d544 {color: black;background-color: white;}#sk-29dbde68-125b-495e-b8df-2104efd4d544 pre{padding: 0;}#sk-29dbde68-125b-495e-b8df-2104efd4d544 div.sk-toggleable {background-color: white;}#sk-29dbde68-125b-495e-b8df-2104efd4d544 label.sk-toggleable__label {cursor: pointer;display: block;width: 100%;margin-bottom: 0;padding: 0.3em;box-sizing: border-box;text-align: center;}#sk-29dbde68-125b-495e-b8df-2104efd4d544 label.sk-toggleable__label-arrow:before {content: \"▸\";float: left;margin-right: 0.25em;color: #696969;}#sk-29dbde68-125b-495e-b8df-2104efd4d544 label.sk-toggleable__label-arrow:hover:before {color: black;}#sk-29dbde68-125b-495e-b8df-2104efd4d544 div.sk-estimator:hover label.sk-toggleable__label-arrow:before {color: black;}#sk-29dbde68-125b-495e-b8df-2104efd4d544 div.sk-toggleable__content {max-height: 0;max-width: 0;overflow: hidden;text-align: left;background-color: #f0f8ff;}#sk-29dbde68-125b-495e-b8df-2104efd4d544 div.sk-toggleable__content pre {margin: 0.2em;color: black;border-radius: 0.25em;background-color: #f0f8ff;}#sk-29dbde68-125b-495e-b8df-2104efd4d544 input.sk-toggleable__control:checked~div.sk-toggleable__content {max-height: 200px;max-width: 100%;overflow: auto;}#sk-29dbde68-125b-495e-b8df-2104efd4d544 input.sk-toggleable__control:checked~label.sk-toggleable__label-arrow:before {content: \"▾\";}#sk-29dbde68-125b-495e-b8df-2104efd4d544 div.sk-estimator input.sk-toggleable__control:checked~label.sk-toggleable__label {background-color: #d4ebff;}#sk-29dbde68-125b-495e-b8df-2104efd4d544 div.sk-label input.sk-toggleable__control:checked~label.sk-toggleable__label {background-color: #d4ebff;}#sk-29dbde68-125b-495e-b8df-2104efd4d544 input.sk-hidden--visually {border: 0;clip: rect(1px 1px 1px 1px);clip: rect(1px, 1px, 1px, 1px);height: 1px;margin: -1px;overflow: hidden;padding: 0;position: absolute;width: 1px;}#sk-29dbde68-125b-495e-b8df-2104efd4d544 div.sk-estimator {font-family: monospace;background-color: #f0f8ff;border: 1px dotted black;border-radius: 0.25em;box-sizing: border-box;margin-bottom: 0.5em;}#sk-29dbde68-125b-495e-b8df-2104efd4d544 div.sk-estimator:hover {background-color: #d4ebff;}#sk-29dbde68-125b-495e-b8df-2104efd4d544 div.sk-parallel-item::after {content: \"\";width: 100%;border-bottom: 1px solid gray;flex-grow: 1;}#sk-29dbde68-125b-495e-b8df-2104efd4d544 div.sk-label:hover label.sk-toggleable__label {background-color: #d4ebff;}#sk-29dbde68-125b-495e-b8df-2104efd4d544 div.sk-serial::before {content: \"\";position: absolute;border-left: 1px solid gray;box-sizing: border-box;top: 2em;bottom: 0;left: 50%;}#sk-29dbde68-125b-495e-b8df-2104efd4d544 div.sk-serial {display: flex;flex-direction: column;align-items: center;background-color: white;padding-right: 0.2em;padding-left: 0.2em;}#sk-29dbde68-125b-495e-b8df-2104efd4d544 div.sk-item {z-index: 1;}#sk-29dbde68-125b-495e-b8df-2104efd4d544 div.sk-parallel {display: flex;align-items: stretch;justify-content: center;background-color: white;}#sk-29dbde68-125b-495e-b8df-2104efd4d544 div.sk-parallel::before {content: \"\";position: absolute;border-left: 1px solid gray;box-sizing: border-box;top: 2em;bottom: 0;left: 50%;}#sk-29dbde68-125b-495e-b8df-2104efd4d544 div.sk-parallel-item {display: flex;flex-direction: column;position: relative;background-color: white;}#sk-29dbde68-125b-495e-b8df-2104efd4d544 div.sk-parallel-item:first-child::after {align-self: flex-end;width: 50%;}#sk-29dbde68-125b-495e-b8df-2104efd4d544 div.sk-parallel-item:last-child::after {align-self: flex-start;width: 50%;}#sk-29dbde68-125b-495e-b8df-2104efd4d544 div.sk-parallel-item:only-child::after {width: 0;}#sk-29dbde68-125b-495e-b8df-2104efd4d544 div.sk-dashed-wrapped {border: 1px dashed gray;margin: 0 0.4em 0.5em 0.4em;box-sizing: border-box;padding-bottom: 0.4em;background-color: white;position: relative;}#sk-29dbde68-125b-495e-b8df-2104efd4d544 div.sk-label label {font-family: monospace;font-weight: bold;background-color: white;display: inline-block;line-height: 1.2em;}#sk-29dbde68-125b-495e-b8df-2104efd4d544 div.sk-label-container {position: relative;z-index: 2;text-align: center;}#sk-29dbde68-125b-495e-b8df-2104efd4d544 div.sk-container {/* jupyter's `normalize.less` sets `[hidden] { display: none; }` but bootstrap.min.css set `[hidden] { display: none !important; }` so we also need the `!important` here to be able to override the default hidden behavior on the sphinx rendered scikit-learn.org. See: https://github.com/scikit-learn/scikit-learn/issues/21755 */display: inline-block !important;position: relative;}#sk-29dbde68-125b-495e-b8df-2104efd4d544 div.sk-text-repr-fallback {display: none;}</style><div id=\"sk-29dbde68-125b-495e-b8df-2104efd4d544\" class=\"sk-top-container\"><div class=\"sk-text-repr-fallback\"><pre>BaggingRegressor(base_estimator=DecisionTreeRegressor(), max_samples=200,\n",
              "                 n_estimators=100, random_state=42)</pre><b>Please rerun this cell to show the HTML repr or trust the notebook.</b></div><div class=\"sk-container\" hidden><div class=\"sk-item sk-dashed-wrapped\"><div class=\"sk-label-container\"><div class=\"sk-label sk-toggleable\"><input class=\"sk-toggleable__control sk-hidden--visually\" id=\"b3b71bf7-cfc1-4c6e-afb9-1fb2d31dcb82\" type=\"checkbox\" ><label for=\"b3b71bf7-cfc1-4c6e-afb9-1fb2d31dcb82\" class=\"sk-toggleable__label sk-toggleable__label-arrow\">BaggingRegressor</label><div class=\"sk-toggleable__content\"><pre>BaggingRegressor(base_estimator=DecisionTreeRegressor(), max_samples=200,\n",
              "                 n_estimators=100, random_state=42)</pre></div></div></div><div class=\"sk-parallel\"><div class=\"sk-parallel-item\"><div class=\"sk-item\"><div class=\"sk-serial\"><div class=\"sk-item\"><div class=\"sk-estimator sk-toggleable\"><input class=\"sk-toggleable__control sk-hidden--visually\" id=\"e03b2ea9-f29a-4399-8256-65bfa7bfd8ca\" type=\"checkbox\" ><label for=\"e03b2ea9-f29a-4399-8256-65bfa7bfd8ca\" class=\"sk-toggleable__label sk-toggleable__label-arrow\">DecisionTreeRegressor</label><div class=\"sk-toggleable__content\"><pre>DecisionTreeRegressor()</pre></div></div></div></div></div></div></div></div></div></div>"
            ]
          },
          "metadata": {},
          "execution_count": 129
        }
      ]
    },
    {
      "cell_type": "code",
      "source": [
        "print(f\"Arbol de Regresion\")\n",
        "print(\"r2 score\")\n",
        "print(f\"r2_train = {r2_score(y_train, bag_reg.predict(X_train_processed))}\")\n",
        "print(f\"r2_test = {r2_score(y_test, bag_reg.predict(X_test_processed))}\")"
      ],
      "metadata": {
        "colab": {
          "base_uri": "https://localhost:8080/"
        },
        "id": "mMuD6N_pV_oI",
        "outputId": "f72124eb-c748-468c-e792-4d506c420e80"
      },
      "execution_count": 130,
      "outputs": [
        {
          "output_type": "stream",
          "name": "stdout",
          "text": [
            "Arbol de Regresion\n",
            "r2 score\n",
            "r2_train = 0.4043395211299753\n",
            "r2_test = 0.38502239836697705\n"
          ]
        }
      ]
    },
    {
      "cell_type": "code",
      "source": [
        "print(\"RECM\")\n",
        "print(f\"recm_train = {np.sqrt(mean_squared_error(y_train, bag_reg.predict(X_train_processed)))}\")\n",
        "print(f\"recm_test = {np.sqrt(mean_squared_error(y_test, bag_reg.predict(X_test_processed)))}\")"
      ],
      "metadata": {
        "colab": {
          "base_uri": "https://localhost:8080/"
        },
        "id": "mOLs5fxCXM_g",
        "outputId": "e60eefb7-e52b-4f8c-e5bb-bbc3ddb384ef"
      },
      "execution_count": 131,
      "outputs": [
        {
          "output_type": "stream",
          "name": "stdout",
          "text": [
            "RECM\n",
            "recm_train = 1178.3595965420625\n",
            "recm_test = 1222.7062263483529\n"
          ]
        }
      ]
    },
    {
      "cell_type": "markdown",
      "source": [
        "Evidentemente el modelo Bagged Tree (usando un arbol de regresion) es mejor para este caso. El arbol tiene errores bastante menores, especialmente con en el caso de los r2 scores. "
      ],
      "metadata": {
        "id": "RQuqJ-wXXUE4"
      }
    }
  ]
}