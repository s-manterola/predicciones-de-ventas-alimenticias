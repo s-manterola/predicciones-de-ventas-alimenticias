{
  "nbformat": 4,
  "nbformat_minor": 0,
  "metadata": {
    "colab": {
      "name": "Predicciones_de_Ventas_Alimenticias.ipynb",
      "provenance": [],
      "collapsed_sections": [],
      "mount_file_id": "1AKcbSkdWhRLGHKDmnlNqUJgaKYOmLkMa",
      "authorship_tag": "ABX9TyNzV9CVLI7Brebg/p6Cb6cf",
      "include_colab_link": true
    },
    "kernelspec": {
      "name": "python3",
      "display_name": "Python 3"
    },
    "language_info": {
      "name": "python"
    }
  },
  "cells": [
    {
      "cell_type": "markdown",
      "metadata": {
        "id": "view-in-github",
        "colab_type": "text"
      },
      "source": [
        "<a href=\"https://colab.research.google.com/github/s-manterola/predicciones-de-ventas-alimenticias/blob/main/Predicciones_de_Ventas_Alimenticias.ipynb\" target=\"_parent\"><img src=\"https://colab.research.google.com/assets/colab-badge.svg\" alt=\"Open In Colab\"/></a>"
      ]
    },
    {
      "cell_type": "code",
      "source": [
        "from google.colab import drive\n",
        "drive.mount('/content/drive')\n"
      ],
      "metadata": {
        "colab": {
          "base_uri": "https://localhost:8080/"
        },
        "id": "QkPkAwlolZ8C",
        "outputId": "8c79e364-9100-424a-dbc0-7b25db26a19a"
      },
      "execution_count": 210,
      "outputs": [
        {
          "output_type": "stream",
          "name": "stdout",
          "text": [
            "Drive already mounted at /content/drive; to attempt to forcibly remount, call drive.mount(\"/content/drive\", force_remount=True).\n"
          ]
        }
      ]
    },
    {
      "cell_type": "code",
      "execution_count": 211,
      "metadata": {
        "id": "wgZAcmH8Tzjc"
      },
      "outputs": [],
      "source": [
        "import pandas as pd\n",
        "import seaborn as sns\n",
        "import matplotlib.pyplot as plt\n",
        "\n",
        "from sklearn.model_selection import train_test_split\n",
        "from sklearn.compose import make_column_selector, make_column_transformer, ColumnTransformer\n",
        "from sklearn.preprocessing import OneHotEncoder, OrdinalEncoder, StandardScaler\n",
        "from sklearn.impute import SimpleImputer\n",
        "\n",
        "from sklearn.pipeline import make_pipeline\n",
        "from sklearn import set_config\n",
        "set_config(display='diagram') \n",
        "\n",
        "filename = '/content/drive/MyDrive/Colab Notebooks/Bootcamp/Online Fundamentos/Bases de Datos/sales_predictions.csv'"
      ]
    },
    {
      "cell_type": "code",
      "source": [
        "df = pd.read_csv(filename)\n",
        "df.head()"
      ],
      "metadata": {
        "colab": {
          "base_uri": "https://localhost:8080/",
          "height": 357
        },
        "id": "zkt3XnUYUiq3",
        "outputId": "4d6c45c5-3195-45d9-e99a-7c9d3e710530"
      },
      "execution_count": 212,
      "outputs": [
        {
          "output_type": "execute_result",
          "data": {
            "text/plain": [
              "  Item_Identifier  Item_Weight Item_Fat_Content  Item_Visibility  \\\n",
              "0           FDA15         9.30          Low Fat         0.016047   \n",
              "1           DRC01         5.92          Regular         0.019278   \n",
              "2           FDN15        17.50          Low Fat         0.016760   \n",
              "3           FDX07        19.20          Regular         0.000000   \n",
              "4           NCD19         8.93          Low Fat         0.000000   \n",
              "\n",
              "               Item_Type  Item_MRP Outlet_Identifier  \\\n",
              "0                  Dairy  249.8092            OUT049   \n",
              "1            Soft Drinks   48.2692            OUT018   \n",
              "2                   Meat  141.6180            OUT049   \n",
              "3  Fruits and Vegetables  182.0950            OUT010   \n",
              "4              Household   53.8614            OUT013   \n",
              "\n",
              "   Outlet_Establishment_Year Outlet_Size Outlet_Location_Type  \\\n",
              "0                       1999      Medium               Tier 1   \n",
              "1                       2009      Medium               Tier 3   \n",
              "2                       1999      Medium               Tier 1   \n",
              "3                       1998         NaN               Tier 3   \n",
              "4                       1987        High               Tier 3   \n",
              "\n",
              "         Outlet_Type  Item_Outlet_Sales  \n",
              "0  Supermarket Type1          3735.1380  \n",
              "1  Supermarket Type2           443.4228  \n",
              "2  Supermarket Type1          2097.2700  \n",
              "3      Grocery Store           732.3800  \n",
              "4  Supermarket Type1           994.7052  "
            ],
            "text/html": [
              "\n",
              "  <div id=\"df-39ccb175-2e7f-4c4f-9ba8-1cc5b80698db\">\n",
              "    <div class=\"colab-df-container\">\n",
              "      <div>\n",
              "<style scoped>\n",
              "    .dataframe tbody tr th:only-of-type {\n",
              "        vertical-align: middle;\n",
              "    }\n",
              "\n",
              "    .dataframe tbody tr th {\n",
              "        vertical-align: top;\n",
              "    }\n",
              "\n",
              "    .dataframe thead th {\n",
              "        text-align: right;\n",
              "    }\n",
              "</style>\n",
              "<table border=\"1\" class=\"dataframe\">\n",
              "  <thead>\n",
              "    <tr style=\"text-align: right;\">\n",
              "      <th></th>\n",
              "      <th>Item_Identifier</th>\n",
              "      <th>Item_Weight</th>\n",
              "      <th>Item_Fat_Content</th>\n",
              "      <th>Item_Visibility</th>\n",
              "      <th>Item_Type</th>\n",
              "      <th>Item_MRP</th>\n",
              "      <th>Outlet_Identifier</th>\n",
              "      <th>Outlet_Establishment_Year</th>\n",
              "      <th>Outlet_Size</th>\n",
              "      <th>Outlet_Location_Type</th>\n",
              "      <th>Outlet_Type</th>\n",
              "      <th>Item_Outlet_Sales</th>\n",
              "    </tr>\n",
              "  </thead>\n",
              "  <tbody>\n",
              "    <tr>\n",
              "      <th>0</th>\n",
              "      <td>FDA15</td>\n",
              "      <td>9.30</td>\n",
              "      <td>Low Fat</td>\n",
              "      <td>0.016047</td>\n",
              "      <td>Dairy</td>\n",
              "      <td>249.8092</td>\n",
              "      <td>OUT049</td>\n",
              "      <td>1999</td>\n",
              "      <td>Medium</td>\n",
              "      <td>Tier 1</td>\n",
              "      <td>Supermarket Type1</td>\n",
              "      <td>3735.1380</td>\n",
              "    </tr>\n",
              "    <tr>\n",
              "      <th>1</th>\n",
              "      <td>DRC01</td>\n",
              "      <td>5.92</td>\n",
              "      <td>Regular</td>\n",
              "      <td>0.019278</td>\n",
              "      <td>Soft Drinks</td>\n",
              "      <td>48.2692</td>\n",
              "      <td>OUT018</td>\n",
              "      <td>2009</td>\n",
              "      <td>Medium</td>\n",
              "      <td>Tier 3</td>\n",
              "      <td>Supermarket Type2</td>\n",
              "      <td>443.4228</td>\n",
              "    </tr>\n",
              "    <tr>\n",
              "      <th>2</th>\n",
              "      <td>FDN15</td>\n",
              "      <td>17.50</td>\n",
              "      <td>Low Fat</td>\n",
              "      <td>0.016760</td>\n",
              "      <td>Meat</td>\n",
              "      <td>141.6180</td>\n",
              "      <td>OUT049</td>\n",
              "      <td>1999</td>\n",
              "      <td>Medium</td>\n",
              "      <td>Tier 1</td>\n",
              "      <td>Supermarket Type1</td>\n",
              "      <td>2097.2700</td>\n",
              "    </tr>\n",
              "    <tr>\n",
              "      <th>3</th>\n",
              "      <td>FDX07</td>\n",
              "      <td>19.20</td>\n",
              "      <td>Regular</td>\n",
              "      <td>0.000000</td>\n",
              "      <td>Fruits and Vegetables</td>\n",
              "      <td>182.0950</td>\n",
              "      <td>OUT010</td>\n",
              "      <td>1998</td>\n",
              "      <td>NaN</td>\n",
              "      <td>Tier 3</td>\n",
              "      <td>Grocery Store</td>\n",
              "      <td>732.3800</td>\n",
              "    </tr>\n",
              "    <tr>\n",
              "      <th>4</th>\n",
              "      <td>NCD19</td>\n",
              "      <td>8.93</td>\n",
              "      <td>Low Fat</td>\n",
              "      <td>0.000000</td>\n",
              "      <td>Household</td>\n",
              "      <td>53.8614</td>\n",
              "      <td>OUT013</td>\n",
              "      <td>1987</td>\n",
              "      <td>High</td>\n",
              "      <td>Tier 3</td>\n",
              "      <td>Supermarket Type1</td>\n",
              "      <td>994.7052</td>\n",
              "    </tr>\n",
              "  </tbody>\n",
              "</table>\n",
              "</div>\n",
              "      <button class=\"colab-df-convert\" onclick=\"convertToInteractive('df-39ccb175-2e7f-4c4f-9ba8-1cc5b80698db')\"\n",
              "              title=\"Convert this dataframe to an interactive table.\"\n",
              "              style=\"display:none;\">\n",
              "        \n",
              "  <svg xmlns=\"http://www.w3.org/2000/svg\" height=\"24px\"viewBox=\"0 0 24 24\"\n",
              "       width=\"24px\">\n",
              "    <path d=\"M0 0h24v24H0V0z\" fill=\"none\"/>\n",
              "    <path d=\"M18.56 5.44l.94 2.06.94-2.06 2.06-.94-2.06-.94-.94-2.06-.94 2.06-2.06.94zm-11 1L8.5 8.5l.94-2.06 2.06-.94-2.06-.94L8.5 2.5l-.94 2.06-2.06.94zm10 10l.94 2.06.94-2.06 2.06-.94-2.06-.94-.94-2.06-.94 2.06-2.06.94z\"/><path d=\"M17.41 7.96l-1.37-1.37c-.4-.4-.92-.59-1.43-.59-.52 0-1.04.2-1.43.59L10.3 9.45l-7.72 7.72c-.78.78-.78 2.05 0 2.83L4 21.41c.39.39.9.59 1.41.59.51 0 1.02-.2 1.41-.59l7.78-7.78 2.81-2.81c.8-.78.8-2.07 0-2.86zM5.41 20L4 18.59l7.72-7.72 1.47 1.35L5.41 20z\"/>\n",
              "  </svg>\n",
              "      </button>\n",
              "      \n",
              "  <style>\n",
              "    .colab-df-container {\n",
              "      display:flex;\n",
              "      flex-wrap:wrap;\n",
              "      gap: 12px;\n",
              "    }\n",
              "\n",
              "    .colab-df-convert {\n",
              "      background-color: #E8F0FE;\n",
              "      border: none;\n",
              "      border-radius: 50%;\n",
              "      cursor: pointer;\n",
              "      display: none;\n",
              "      fill: #1967D2;\n",
              "      height: 32px;\n",
              "      padding: 0 0 0 0;\n",
              "      width: 32px;\n",
              "    }\n",
              "\n",
              "    .colab-df-convert:hover {\n",
              "      background-color: #E2EBFA;\n",
              "      box-shadow: 0px 1px 2px rgba(60, 64, 67, 0.3), 0px 1px 3px 1px rgba(60, 64, 67, 0.15);\n",
              "      fill: #174EA6;\n",
              "    }\n",
              "\n",
              "    [theme=dark] .colab-df-convert {\n",
              "      background-color: #3B4455;\n",
              "      fill: #D2E3FC;\n",
              "    }\n",
              "\n",
              "    [theme=dark] .colab-df-convert:hover {\n",
              "      background-color: #434B5C;\n",
              "      box-shadow: 0px 1px 3px 1px rgba(0, 0, 0, 0.15);\n",
              "      filter: drop-shadow(0px 1px 2px rgba(0, 0, 0, 0.3));\n",
              "      fill: #FFFFFF;\n",
              "    }\n",
              "  </style>\n",
              "\n",
              "      <script>\n",
              "        const buttonEl =\n",
              "          document.querySelector('#df-39ccb175-2e7f-4c4f-9ba8-1cc5b80698db button.colab-df-convert');\n",
              "        buttonEl.style.display =\n",
              "          google.colab.kernel.accessAllowed ? 'block' : 'none';\n",
              "\n",
              "        async function convertToInteractive(key) {\n",
              "          const element = document.querySelector('#df-39ccb175-2e7f-4c4f-9ba8-1cc5b80698db');\n",
              "          const dataTable =\n",
              "            await google.colab.kernel.invokeFunction('convertToInteractive',\n",
              "                                                     [key], {});\n",
              "          if (!dataTable) return;\n",
              "\n",
              "          const docLinkHtml = 'Like what you see? Visit the ' +\n",
              "            '<a target=\"_blank\" href=https://colab.research.google.com/notebooks/data_table.ipynb>data table notebook</a>'\n",
              "            + ' to learn more about interactive tables.';\n",
              "          element.innerHTML = '';\n",
              "          dataTable['output_type'] = 'display_data';\n",
              "          await google.colab.output.renderOutput(dataTable, element);\n",
              "          const docLink = document.createElement('div');\n",
              "          docLink.innerHTML = docLinkHtml;\n",
              "          element.appendChild(docLink);\n",
              "        }\n",
              "      </script>\n",
              "    </div>\n",
              "  </div>\n",
              "  "
            ]
          },
          "metadata": {},
          "execution_count": 212
        }
      ]
    },
    {
      "cell_type": "code",
      "source": [
        "df.info()"
      ],
      "metadata": {
        "colab": {
          "base_uri": "https://localhost:8080/"
        },
        "id": "YpuvzewXlVZc",
        "outputId": "9fdc7a29-cbca-4cb6-8551-a127a064b85f"
      },
      "execution_count": 213,
      "outputs": [
        {
          "output_type": "stream",
          "name": "stdout",
          "text": [
            "<class 'pandas.core.frame.DataFrame'>\n",
            "RangeIndex: 8523 entries, 0 to 8522\n",
            "Data columns (total 12 columns):\n",
            " #   Column                     Non-Null Count  Dtype  \n",
            "---  ------                     --------------  -----  \n",
            " 0   Item_Identifier            8523 non-null   object \n",
            " 1   Item_Weight                7060 non-null   float64\n",
            " 2   Item_Fat_Content           8523 non-null   object \n",
            " 3   Item_Visibility            8523 non-null   float64\n",
            " 4   Item_Type                  8523 non-null   object \n",
            " 5   Item_MRP                   8523 non-null   float64\n",
            " 6   Outlet_Identifier          8523 non-null   object \n",
            " 7   Outlet_Establishment_Year  8523 non-null   int64  \n",
            " 8   Outlet_Size                6113 non-null   object \n",
            " 9   Outlet_Location_Type       8523 non-null   object \n",
            " 10  Outlet_Type                8523 non-null   object \n",
            " 11  Item_Outlet_Sales          8523 non-null   float64\n",
            "dtypes: float64(4), int64(1), object(7)\n",
            "memory usage: 799.2+ KB\n"
          ]
        }
      ]
    },
    {
      "cell_type": "code",
      "source": [
        "df.drop_duplicates()\n",
        "df.info()"
      ],
      "metadata": {
        "colab": {
          "base_uri": "https://localhost:8080/"
        },
        "id": "WAgVPkiMnaqw",
        "outputId": "e22154f9-dbfe-4207-e91a-0185a773b6cf"
      },
      "execution_count": 214,
      "outputs": [
        {
          "output_type": "stream",
          "name": "stdout",
          "text": [
            "<class 'pandas.core.frame.DataFrame'>\n",
            "RangeIndex: 8523 entries, 0 to 8522\n",
            "Data columns (total 12 columns):\n",
            " #   Column                     Non-Null Count  Dtype  \n",
            "---  ------                     --------------  -----  \n",
            " 0   Item_Identifier            8523 non-null   object \n",
            " 1   Item_Weight                7060 non-null   float64\n",
            " 2   Item_Fat_Content           8523 non-null   object \n",
            " 3   Item_Visibility            8523 non-null   float64\n",
            " 4   Item_Type                  8523 non-null   object \n",
            " 5   Item_MRP                   8523 non-null   float64\n",
            " 6   Outlet_Identifier          8523 non-null   object \n",
            " 7   Outlet_Establishment_Year  8523 non-null   int64  \n",
            " 8   Outlet_Size                6113 non-null   object \n",
            " 9   Outlet_Location_Type       8523 non-null   object \n",
            " 10  Outlet_Type                8523 non-null   object \n",
            " 11  Item_Outlet_Sales          8523 non-null   float64\n",
            "dtypes: float64(4), int64(1), object(7)\n",
            "memory usage: 799.2+ KB\n"
          ]
        }
      ]
    },
    {
      "cell_type": "markdown",
      "source": [
        "Eliminar las filas si falta algun dato, elimina la casi la mitad de los datos, es demasiado"
      ],
      "metadata": {
        "id": "6i7APL5oufvf"
      }
    },
    {
      "cell_type": "code",
      "source": [
        "df.nunique()"
      ],
      "metadata": {
        "colab": {
          "base_uri": "https://localhost:8080/"
        },
        "id": "fHktjJ929H-K",
        "outputId": "878c7d9a-05a4-4dc3-fe36-2a9d7b26881d"
      },
      "execution_count": 215,
      "outputs": [
        {
          "output_type": "execute_result",
          "data": {
            "text/plain": [
              "Item_Identifier              1559\n",
              "Item_Weight                   415\n",
              "Item_Fat_Content                5\n",
              "Item_Visibility              7880\n",
              "Item_Type                      16\n",
              "Item_MRP                     5938\n",
              "Outlet_Identifier              10\n",
              "Outlet_Establishment_Year       9\n",
              "Outlet_Size                     3\n",
              "Outlet_Location_Type            3\n",
              "Outlet_Type                     4\n",
              "Item_Outlet_Sales            3493\n",
              "dtype: int64"
            ]
          },
          "metadata": {},
          "execution_count": 215
        }
      ]
    },
    {
      "cell_type": "code",
      "source": [
        "df['Outlet_Identifier'].unique()"
      ],
      "metadata": {
        "colab": {
          "base_uri": "https://localhost:8080/"
        },
        "id": "NAAXKwpSEwSH",
        "outputId": "5049ebf9-0ade-4fe2-ef65-23be4be13794"
      },
      "execution_count": 216,
      "outputs": [
        {
          "output_type": "execute_result",
          "data": {
            "text/plain": [
              "array(['OUT049', 'OUT018', 'OUT010', 'OUT013', 'OUT027', 'OUT045',\n",
              "       'OUT017', 'OUT046', 'OUT035', 'OUT019'], dtype=object)"
            ]
          },
          "metadata": {},
          "execution_count": 216
        }
      ]
    },
    {
      "cell_type": "code",
      "source": [
        "for id in df['Outlet_Identifier'].unique():\n",
        "  try:\n",
        "    df[df['Outlet_Identifier'] == id]['Outlet_Size'].fillna(df[df['Outlet_Identifier'] == id]['Outlet_Size'].mode()[0], inplace = True)\n",
        "  except:\n",
        "    pass\n",
        "df['Outlet_Size'].fillna(\"Missing\", inplace = True)\n",
        "df.info()"
      ],
      "metadata": {
        "colab": {
          "base_uri": "https://localhost:8080/"
        },
        "id": "Q136NN2mwCQU",
        "outputId": "fbb2797d-4e4e-4f03-bc7a-02fb576ed5c2"
      },
      "execution_count": 217,
      "outputs": [
        {
          "output_type": "stream",
          "name": "stdout",
          "text": [
            "<class 'pandas.core.frame.DataFrame'>\n",
            "RangeIndex: 8523 entries, 0 to 8522\n",
            "Data columns (total 12 columns):\n",
            " #   Column                     Non-Null Count  Dtype  \n",
            "---  ------                     --------------  -----  \n",
            " 0   Item_Identifier            8523 non-null   object \n",
            " 1   Item_Weight                7060 non-null   float64\n",
            " 2   Item_Fat_Content           8523 non-null   object \n",
            " 3   Item_Visibility            8523 non-null   float64\n",
            " 4   Item_Type                  8523 non-null   object \n",
            " 5   Item_MRP                   8523 non-null   float64\n",
            " 6   Outlet_Identifier          8523 non-null   object \n",
            " 7   Outlet_Establishment_Year  8523 non-null   int64  \n",
            " 8   Outlet_Size                8523 non-null   object \n",
            " 9   Outlet_Location_Type       8523 non-null   object \n",
            " 10  Outlet_Type                8523 non-null   object \n",
            " 11  Item_Outlet_Sales          8523 non-null   float64\n",
            "dtypes: float64(4), int64(1), object(7)\n",
            "memory usage: 799.2+ KB\n"
          ]
        },
        {
          "output_type": "stream",
          "name": "stderr",
          "text": [
            "/usr/local/lib/python3.7/dist-packages/pandas/core/generic.py:6392: SettingWithCopyWarning: \n",
            "A value is trying to be set on a copy of a slice from a DataFrame\n",
            "\n",
            "See the caveats in the documentation: https://pandas.pydata.org/pandas-docs/stable/user_guide/indexing.html#returning-a-view-versus-a-copy\n",
            "  return self._update_inplace(result)\n"
          ]
        }
      ]
    },
    {
      "cell_type": "markdown",
      "source": [
        "El la base de datos no hay valores duplicado. Existen varios datos faltantes, especialmente en la columna Outlet_Size. Al contar los outlets, vemos que solo hay 10 de ellos (solo 10 Outlet_Identifier). Es logico asumir que todos los valores de un Outlet deberian ser iguales, por lo que si falta un dato, se puede tomar de otra fila, en que el Outlet_Identifier sea igual.\n",
        "\n",
        "El problema es que existen casos en que un Outlet_Identifier no tiene el dato faltante en ninguna parte de la lista. En ese caso se reemplazo el valor Nan por 'Missing'."
      ],
      "metadata": {
        "id": "oVLUKC1z8TaA"
      }
    },
    {
      "cell_type": "code",
      "source": [
        "df.dropna(how='any', inplace = True)\n",
        "df.info()"
      ],
      "metadata": {
        "colab": {
          "base_uri": "https://localhost:8080/"
        },
        "id": "JOhG12FzBBQ9",
        "outputId": "e2eabd64-fc5b-448f-928b-f3438cc7e672"
      },
      "execution_count": 218,
      "outputs": [
        {
          "output_type": "stream",
          "name": "stdout",
          "text": [
            "<class 'pandas.core.frame.DataFrame'>\n",
            "Int64Index: 7060 entries, 0 to 8522\n",
            "Data columns (total 12 columns):\n",
            " #   Column                     Non-Null Count  Dtype  \n",
            "---  ------                     --------------  -----  \n",
            " 0   Item_Identifier            7060 non-null   object \n",
            " 1   Item_Weight                7060 non-null   float64\n",
            " 2   Item_Fat_Content           7060 non-null   object \n",
            " 3   Item_Visibility            7060 non-null   float64\n",
            " 4   Item_Type                  7060 non-null   object \n",
            " 5   Item_MRP                   7060 non-null   float64\n",
            " 6   Outlet_Identifier          7060 non-null   object \n",
            " 7   Outlet_Establishment_Year  7060 non-null   int64  \n",
            " 8   Outlet_Size                7060 non-null   object \n",
            " 9   Outlet_Location_Type       7060 non-null   object \n",
            " 10  Outlet_Type                7060 non-null   object \n",
            " 11  Item_Outlet_Sales          7060 non-null   float64\n",
            "dtypes: float64(4), int64(1), object(7)\n",
            "memory usage: 717.0+ KB\n"
          ]
        }
      ]
    },
    {
      "cell_type": "markdown",
      "source": [
        "Con esto tenemos 7060 filas, de las 8523 iniciales, solo al agregar la categoria 'Missing' en la columna Outlet_Size "
      ],
      "metadata": {
        "id": "6bUC4G7zBMft"
      }
    },
    {
      "cell_type": "code",
      "source": [
        "for id in df['Outlet_Location_Type'].unique():\n",
        "  print(id)"
      ],
      "metadata": {
        "colab": {
          "base_uri": "https://localhost:8080/"
        },
        "id": "b5I1itw0B3gd",
        "outputId": "e5c06a4a-bdd6-4475-cce3-e3101b411ec1"
      },
      "execution_count": 219,
      "outputs": [
        {
          "output_type": "stream",
          "name": "stdout",
          "text": [
            "Tier 1\n",
            "Tier 3\n",
            "Tier 2\n"
          ]
        }
      ]
    },
    {
      "cell_type": "code",
      "source": [
        "for id in df['Item_Fat_Content'].unique():\n",
        "  print(id)"
      ],
      "metadata": {
        "colab": {
          "base_uri": "https://localhost:8080/"
        },
        "id": "Q2D5sWQdN2J4",
        "outputId": "0f11e4b3-1ae4-449d-f3ae-e02569ed577e"
      },
      "execution_count": 220,
      "outputs": [
        {
          "output_type": "stream",
          "name": "stdout",
          "text": [
            "Low Fat\n",
            "Regular\n",
            "low fat\n",
            "LF\n",
            "reg\n"
          ]
        }
      ]
    },
    {
      "cell_type": "code",
      "source": [
        "df.loc[df['Item_Fat_Content']=='low fat','Item_Fat_Content'] = 'Low Fat'\n",
        "df.loc[df['Item_Fat_Content']=='LF','Item_Fat_Content'] = 'Low Fat'\n",
        "df.loc[df['Item_Fat_Content']=='reg','Item_Fat_Content'] = 'Regular'"
      ],
      "metadata": {
        "id": "_SpLDVdzN7Aw"
      },
      "execution_count": 221,
      "outputs": []
    },
    {
      "cell_type": "code",
      "source": [
        "OT = df.groupby('Outlet_Type')['Item_Identifier'].count()\n",
        "\n",
        "plt.bar(OT.index, OT.values)\n",
        "plt.xlabel('Locales de venta')\n",
        "plt.ylabel('Cantidad')\n",
        "plt.title('Cantidad de locales de venta divididos por tipo')"
      ],
      "metadata": {
        "colab": {
          "base_uri": "https://localhost:8080/",
          "height": 312
        },
        "id": "4vV3A5EXMN4t",
        "outputId": "51861d2b-dbb0-4f96-8640-bb8260b20565"
      },
      "execution_count": 222,
      "outputs": [
        {
          "output_type": "execute_result",
          "data": {
            "text/plain": [
              "Text(0.5, 1.0, 'Cantidad de locales de venta divididos por tipo')"
            ]
          },
          "metadata": {},
          "execution_count": 222
        },
        {
          "output_type": "display_data",
          "data": {
            "text/plain": [
              "<Figure size 432x288 with 1 Axes>"
            ],
            "image/png": "[encoded data removed]"
          },
          "metadata": {
            "needs_background": "light"
          }
        }
      ]
    },
    {
      "cell_type": "markdown",
      "source": [
        "Se observa que la mayoria de los articulos se vende en supermecados de tipo 1"
      ],
      "metadata": {
        "id": "aeebokoZP7kP"
      }
    },
    {
      "cell_type": "code",
      "source": [
        "df['Item_Visibility'].hist()\n",
        "\n",
        "plt.xlabel('Visibilidad')\n",
        "plt.ylabel('Cantidad')\n",
        "plt.title('Cantidad de articulos segun su visibilidad')"
      ],
      "metadata": {
        "colab": {
          "base_uri": "https://localhost:8080/",
          "height": 312
        },
        "id": "tHOvVMyYMaXl",
        "outputId": "8c8fb771-c8c6-4c7c-d8a9-cecbf9e2261a"
      },
      "execution_count": 223,
      "outputs": [
        {
          "output_type": "execute_result",
          "data": {
            "text/plain": [
              "Text(0.5, 1.0, 'Cantidad de articulos segun su visibilidad')"
            ]
          },
          "metadata": {},
          "execution_count": 223
        },
        {
          "output_type": "display_data",
          "data": {
            "text/plain": [
              "<Figure size 432x288 with 1 Axes>"
            ],
            "image/png": "[encoded data removed]"
          },
          "metadata": {
            "needs_background": "light"
          }
        }
      ]
    },
    {
      "cell_type": "markdown",
      "source": [
        "Se observa que la mayoria de los articulos tiene una visibilidad menor a 0.1, y que la cantidad de articulos decrece mientras aumenta la visibilidad."
      ],
      "metadata": {
        "id": "jNsd7qPjQCRe"
      }
    },
    {
      "cell_type": "code",
      "source": [
        "FC = df.groupby('Item_Fat_Content')['Item_Identifier'].count()\n",
        "\n",
        "plt.bar(FC.index, FC.values)\n",
        "\n",
        "plt.xlabel('Contenido de grasa')\n",
        "plt.ylabel('Cantidad')\n",
        "plt.title('Cantidad de articulos por contenido de grasa')"
      ],
      "metadata": {
        "colab": {
          "base_uri": "https://localhost:8080/",
          "height": 312
        },
        "id": "v6gqKoKiNaey",
        "outputId": "3ef7de88-1413-48c3-c7a9-c7ae663036b9"
      },
      "execution_count": 224,
      "outputs": [
        {
          "output_type": "execute_result",
          "data": {
            "text/plain": [
              "Text(0.5, 1.0, 'Cantidad de articulos por contenido de grasa')"
            ]
          },
          "metadata": {},
          "execution_count": 224
        },
        {
          "output_type": "display_data",
          "data": {
            "text/plain": [
              "<Figure size 432x288 with 1 Axes>"
            ],
            "image/png": "[encoded data removed]"
          },
          "metadata": {
            "needs_background": "light"
          }
        }
      ]
    },
    {
      "cell_type": "markdown",
      "source": [
        "Se observa que la mayoria de los articulos tienen un bajo contenido de grasa"
      ],
      "metadata": {
        "id": "S4FxF9_XQSDv"
      }
    },
    {
      "cell_type": "code",
      "source": [
        "corr = df.corr()\n",
        "sns.heatmap(corr, cmap = 'Blues')\n",
        "\n",
        "plt.title('Mapa de calor')"
      ],
      "metadata": {
        "colab": {
          "base_uri": "https://localhost:8080/",
          "height": 421
        },
        "id": "tfCmkijGOkQ9",
        "outputId": "0d9af2d2-c994-4c21-a56f-52b2002c4caa"
      },
      "execution_count": 225,
      "outputs": [
        {
          "output_type": "execute_result",
          "data": {
            "text/plain": [
              "Text(0.5, 1.0, 'Mapa de calor')"
            ]
          },
          "metadata": {},
          "execution_count": 225
        },
        {
          "output_type": "display_data",
          "data": {
            "text/plain": [
              "<Figure size 432x288 with 2 Axes>"
            ],
            "image/png": "[encoded data removed]"
          },
          "metadata": {
            "needs_background": "light"
          }
        }
      ]
    },
    {
      "cell_type": "markdown",
      "source": [
        "Se observa que la mayoria de las categorias no tienen una fuerte relacion excepto Item_MRP y Item_Outlet_Sales"
      ],
      "metadata": {
        "id": "XEr-_N0CQXck"
      }
    },
    {
      "cell_type": "code",
      "source": [
        "X = df.drop(['Item_Outlet_Sales'], axis=1)\n",
        "y = df['Item_Outlet_Sales']"
      ],
      "metadata": {
        "id": "fL5DQ5BHqGWG"
      },
      "execution_count": 226,
      "outputs": []
    },
    {
      "cell_type": "code",
      "source": [
        "X_train, X_test, y_train, y_test = train_test_split(X, y, test_size=0.2, random_state=42)"
      ],
      "metadata": {
        "id": "oX07pNHxqTi9"
      },
      "execution_count": 227,
      "outputs": []
    },
    {
      "cell_type": "code",
      "source": [
        "df.columns"
      ],
      "metadata": {
        "colab": {
          "base_uri": "https://localhost:8080/"
        },
        "id": "vjLoveb3rg3m",
        "outputId": "6ef26abd-74ab-4d7e-d31a-9781ab00ac24"
      },
      "execution_count": 228,
      "outputs": [
        {
          "output_type": "execute_result",
          "data": {
            "text/plain": [
              "Index(['Item_Identifier', 'Item_Weight', 'Item_Fat_Content', 'Item_Visibility',\n",
              "       'Item_Type', 'Item_MRP', 'Outlet_Identifier',\n",
              "       'Outlet_Establishment_Year', 'Outlet_Size', 'Outlet_Location_Type',\n",
              "       'Outlet_Type', 'Item_Outlet_Sales'],\n",
              "      dtype='object')"
            ]
          },
          "metadata": {},
          "execution_count": 228
        }
      ]
    },
    {
      "cell_type": "code",
      "source": [
        "df.head(1)"
      ],
      "metadata": {
        "colab": {
          "base_uri": "https://localhost:8080/",
          "height": 162
        },
        "id": "heBYR002ruFI",
        "outputId": "f51bdb52-1e5f-432e-82f0-d382f838b308"
      },
      "execution_count": 229,
      "outputs": [
        {
          "output_type": "execute_result",
          "data": {
            "text/plain": [
              "  Item_Identifier  Item_Weight Item_Fat_Content  Item_Visibility Item_Type  \\\n",
              "0           FDA15          9.3          Low Fat         0.016047     Dairy   \n",
              "\n",
              "   Item_MRP Outlet_Identifier  Outlet_Establishment_Year Outlet_Size  \\\n",
              "0  249.8092            OUT049                       1999      Medium   \n",
              "\n",
              "  Outlet_Location_Type        Outlet_Type  Item_Outlet_Sales  \n",
              "0               Tier 1  Supermarket Type1           3735.138  "
            ],
            "text/html": [
              "\n",
              "  <div id=\"df-fcfd38d4-dbd8-4cbc-9fe1-297e85d346d3\">\n",
              "    <div class=\"colab-df-container\">\n",
              "      <div>\n",
              "<style scoped>\n",
              "    .dataframe tbody tr th:only-of-type {\n",
              "        vertical-align: middle;\n",
              "    }\n",
              "\n",
              "    .dataframe tbody tr th {\n",
              "        vertical-align: top;\n",
              "    }\n",
              "\n",
              "    .dataframe thead th {\n",
              "        text-align: right;\n",
              "    }\n",
              "</style>\n",
              "<table border=\"1\" class=\"dataframe\">\n",
              "  <thead>\n",
              "    <tr style=\"text-align: right;\">\n",
              "      <th></th>\n",
              "      <th>Item_Identifier</th>\n",
              "      <th>Item_Weight</th>\n",
              "      <th>Item_Fat_Content</th>\n",
              "      <th>Item_Visibility</th>\n",
              "      <th>Item_Type</th>\n",
              "      <th>Item_MRP</th>\n",
              "      <th>Outlet_Identifier</th>\n",
              "      <th>Outlet_Establishment_Year</th>\n",
              "      <th>Outlet_Size</th>\n",
              "      <th>Outlet_Location_Type</th>\n",
              "      <th>Outlet_Type</th>\n",
              "      <th>Item_Outlet_Sales</th>\n",
              "    </tr>\n",
              "  </thead>\n",
              "  <tbody>\n",
              "    <tr>\n",
              "      <th>0</th>\n",
              "      <td>FDA15</td>\n",
              "      <td>9.3</td>\n",
              "      <td>Low Fat</td>\n",
              "      <td>0.016047</td>\n",
              "      <td>Dairy</td>\n",
              "      <td>249.8092</td>\n",
              "      <td>OUT049</td>\n",
              "      <td>1999</td>\n",
              "      <td>Medium</td>\n",
              "      <td>Tier 1</td>\n",
              "      <td>Supermarket Type1</td>\n",
              "      <td>3735.138</td>\n",
              "    </tr>\n",
              "  </tbody>\n",
              "</table>\n",
              "</div>\n",
              "      <button class=\"colab-df-convert\" onclick=\"convertToInteractive('df-fcfd38d4-dbd8-4cbc-9fe1-297e85d346d3')\"\n",
              "              title=\"Convert this dataframe to an interactive table.\"\n",
              "              style=\"display:none;\">\n",
              "        \n",
              "  <svg xmlns=\"http://www.w3.org/2000/svg\" height=\"24px\"viewBox=\"0 0 24 24\"\n",
              "       width=\"24px\">\n",
              "    <path d=\"M0 0h24v24H0V0z\" fill=\"none\"/>\n",
              "    <path d=\"M18.56 5.44l.94 2.06.94-2.06 2.06-.94-2.06-.94-.94-2.06-.94 2.06-2.06.94zm-11 1L8.5 8.5l.94-2.06 2.06-.94-2.06-.94L8.5 2.5l-.94 2.06-2.06.94zm10 10l.94 2.06.94-2.06 2.06-.94-2.06-.94-.94-2.06-.94 2.06-2.06.94z\"/><path d=\"M17.41 7.96l-1.37-1.37c-.4-.4-.92-.59-1.43-.59-.52 0-1.04.2-1.43.59L10.3 9.45l-7.72 7.72c-.78.78-.78 2.05 0 2.83L4 21.41c.39.39.9.59 1.41.59.51 0 1.02-.2 1.41-.59l7.78-7.78 2.81-2.81c.8-.78.8-2.07 0-2.86zM5.41 20L4 18.59l7.72-7.72 1.47 1.35L5.41 20z\"/>\n",
              "  </svg>\n",
              "      </button>\n",
              "      \n",
              "  <style>\n",
              "    .colab-df-container {\n",
              "      display:flex;\n",
              "      flex-wrap:wrap;\n",
              "      gap: 12px;\n",
              "    }\n",
              "\n",
              "    .colab-df-convert {\n",
              "      background-color: #E8F0FE;\n",
              "      border: none;\n",
              "      border-radius: 50%;\n",
              "      cursor: pointer;\n",
              "      display: none;\n",
              "      fill: #1967D2;\n",
              "      height: 32px;\n",
              "      padding: 0 0 0 0;\n",
              "      width: 32px;\n",
              "    }\n",
              "\n",
              "    .colab-df-convert:hover {\n",
              "      background-color: #E2EBFA;\n",
              "      box-shadow: 0px 1px 2px rgba(60, 64, 67, 0.3), 0px 1px 3px 1px rgba(60, 64, 67, 0.15);\n",
              "      fill: #174EA6;\n",
              "    }\n",
              "\n",
              "    [theme=dark] .colab-df-convert {\n",
              "      background-color: #3B4455;\n",
              "      fill: #D2E3FC;\n",
              "    }\n",
              "\n",
              "    [theme=dark] .colab-df-convert:hover {\n",
              "      background-color: #434B5C;\n",
              "      box-shadow: 0px 1px 3px 1px rgba(0, 0, 0, 0.15);\n",
              "      filter: drop-shadow(0px 1px 2px rgba(0, 0, 0, 0.3));\n",
              "      fill: #FFFFFF;\n",
              "    }\n",
              "  </style>\n",
              "\n",
              "      <script>\n",
              "        const buttonEl =\n",
              "          document.querySelector('#df-fcfd38d4-dbd8-4cbc-9fe1-297e85d346d3 button.colab-df-convert');\n",
              "        buttonEl.style.display =\n",
              "          google.colab.kernel.accessAllowed ? 'block' : 'none';\n",
              "\n",
              "        async function convertToInteractive(key) {\n",
              "          const element = document.querySelector('#df-fcfd38d4-dbd8-4cbc-9fe1-297e85d346d3');\n",
              "          const dataTable =\n",
              "            await google.colab.kernel.invokeFunction('convertToInteractive',\n",
              "                                                     [key], {});\n",
              "          if (!dataTable) return;\n",
              "\n",
              "          const docLinkHtml = 'Like what you see? Visit the ' +\n",
              "            '<a target=\"_blank\" href=https://colab.research.google.com/notebooks/data_table.ipynb>data table notebook</a>'\n",
              "            + ' to learn more about interactive tables.';\n",
              "          element.innerHTML = '';\n",
              "          dataTable['output_type'] = 'display_data';\n",
              "          await google.colab.output.renderOutput(dataTable, element);\n",
              "          const docLink = document.createElement('div');\n",
              "          docLink.innerHTML = docLinkHtml;\n",
              "          element.appendChild(docLink);\n",
              "        }\n",
              "      </script>\n",
              "    </div>\n",
              "  </div>\n",
              "  "
            ]
          },
          "metadata": {},
          "execution_count": 229
        }
      ]
    },
    {
      "cell_type": "code",
      "source": [
        "nominal = ['Item_Identifier', 'Item_Type', 'Outlet_Identifier', 'Outlet_Type']\n",
        "ordinal = ['Item_Fat_Content', 'Outlet_Size', 'Outlet_Location_Type']"
      ],
      "metadata": {
        "id": "DCB6dZ64rc4C"
      },
      "execution_count": 230,
      "outputs": []
    },
    {
      "cell_type": "code",
      "source": [
        "nom_selector = nominal\n",
        "ord_selector = ordinal\n",
        "num_selector = make_column_selector(dtype_include='number')"
      ],
      "metadata": {
        "id": "IOswu5Rbq24u"
      },
      "execution_count": 231,
      "outputs": []
    },
    {
      "cell_type": "code",
      "source": [
        "one_hot = OneHotEncoder(handle_unknown='ignore', sparse=False)\n",
        "ordinal = OrdinalEncoder()\n",
        "scaler = StandardScaler()"
      ],
      "metadata": {
        "id": "OaUSKVtxq6Hr"
      },
      "execution_count": 232,
      "outputs": []
    },
    {
      "cell_type": "code",
      "source": [
        "nom_pipeline = make_pipeline(one_hot)\n",
        "nom_pipeline"
      ],
      "metadata": {
        "colab": {
          "base_uri": "https://localhost:8080/",
          "height": 92
        },
        "id": "O5v0gkLPuZbn",
        "outputId": "ed0d9703-e94f-418a-8086-a89d175c33d4"
      },
      "execution_count": 233,
      "outputs": [
        {
          "output_type": "execute_result",
          "data": {
            "text/plain": [
              "Pipeline(steps=[('onehotencoder',\n",
              "                 OneHotEncoder(handle_unknown='ignore', sparse=False))])"
            ],
            "text/html": [
              "<style>#sk-f20fae10-1c4f-4a30-b25f-3e5d800ebb08 {color: black;background-color: white;}#sk-f20fae10-1c4f-4a30-b25f-3e5d800ebb08 pre{padding: 0;}#sk-f20fae10-1c4f-4a30-b25f-3e5d800ebb08 div.sk-toggleable {background-color: white;}#sk-f20fae10-1c4f-4a30-b25f-3e5d800ebb08 label.sk-toggleable__label {cursor: pointer;display: block;width: 100%;margin-bottom: 0;padding: 0.3em;box-sizing: border-box;text-align: center;}#sk-f20fae10-1c4f-4a30-b25f-3e5d800ebb08 label.sk-toggleable__label-arrow:before {content: \"▸\";float: left;margin-right: 0.25em;color: #696969;}#sk-f20fae10-1c4f-4a30-b25f-3e5d800ebb08 label.sk-toggleable__label-arrow:hover:before {color: black;}#sk-f20fae10-1c4f-4a30-b25f-3e5d800ebb08 div.sk-estimator:hover label.sk-toggleable__label-arrow:before {color: black;}#sk-f20fae10-1c4f-4a30-b25f-3e5d800ebb08 div.sk-toggleable__content {max-height: 0;max-width: 0;overflow: hidden;text-align: left;background-color: #f0f8ff;}#sk-f20fae10-1c4f-4a30-b25f-3e5d800ebb08 div.sk-toggleable__content pre {margin: 0.2em;color: black;border-radius: 0.25em;background-color: #f0f8ff;}#sk-f20fae10-1c4f-4a30-b25f-3e5d800ebb08 input.sk-toggleable__control:checked~div.sk-toggleable__content {max-height: 200px;max-width: 100%;overflow: auto;}#sk-f20fae10-1c4f-4a30-b25f-3e5d800ebb08 input.sk-toggleable__control:checked~label.sk-toggleable__label-arrow:before {content: \"▾\";}#sk-f20fae10-1c4f-4a30-b25f-3e5d800ebb08 div.sk-estimator input.sk-toggleable__control:checked~label.sk-toggleable__label {background-color: #d4ebff;}#sk-f20fae10-1c4f-4a30-b25f-3e5d800ebb08 div.sk-label input.sk-toggleable__control:checked~label.sk-toggleable__label {background-color: #d4ebff;}#sk-f20fae10-1c4f-4a30-b25f-3e5d800ebb08 input.sk-hidden--visually {border: 0;clip: rect(1px 1px 1px 1px);clip: rect(1px, 1px, 1px, 1px);height: 1px;margin: -1px;overflow: hidden;padding: 0;position: absolute;width: 1px;}#sk-f20fae10-1c4f-4a30-b25f-3e5d800ebb08 div.sk-estimator {font-family: monospace;background-color: #f0f8ff;border: 1px dotted black;border-radius: 0.25em;box-sizing: border-box;margin-bottom: 0.5em;}#sk-f20fae10-1c4f-4a30-b25f-3e5d800ebb08 div.sk-estimator:hover {background-color: #d4ebff;}#sk-f20fae10-1c4f-4a30-b25f-3e5d800ebb08 div.sk-parallel-item::after {content: \"\";width: 100%;border-bottom: 1px solid gray;flex-grow: 1;}#sk-f20fae10-1c4f-4a30-b25f-3e5d800ebb08 div.sk-label:hover label.sk-toggleable__label {background-color: #d4ebff;}#sk-f20fae10-1c4f-4a30-b25f-3e5d800ebb08 div.sk-serial::before {content: \"\";position: absolute;border-left: 1px solid gray;box-sizing: border-box;top: 2em;bottom: 0;left: 50%;}#sk-f20fae10-1c4f-4a30-b25f-3e5d800ebb08 div.sk-serial {display: flex;flex-direction: column;align-items: center;background-color: white;padding-right: 0.2em;padding-left: 0.2em;}#sk-f20fae10-1c4f-4a30-b25f-3e5d800ebb08 div.sk-item {z-index: 1;}#sk-f20fae10-1c4f-4a30-b25f-3e5d800ebb08 div.sk-parallel {display: flex;align-items: stretch;justify-content: center;background-color: white;}#sk-f20fae10-1c4f-4a30-b25f-3e5d800ebb08 div.sk-parallel::before {content: \"\";position: absolute;border-left: 1px solid gray;box-sizing: border-box;top: 2em;bottom: 0;left: 50%;}#sk-f20fae10-1c4f-4a30-b25f-3e5d800ebb08 div.sk-parallel-item {display: flex;flex-direction: column;position: relative;background-color: white;}#sk-f20fae10-1c4f-4a30-b25f-3e5d800ebb08 div.sk-parallel-item:first-child::after {align-self: flex-end;width: 50%;}#sk-f20fae10-1c4f-4a30-b25f-3e5d800ebb08 div.sk-parallel-item:last-child::after {align-self: flex-start;width: 50%;}#sk-f20fae10-1c4f-4a30-b25f-3e5d800ebb08 div.sk-parallel-item:only-child::after {width: 0;}#sk-f20fae10-1c4f-4a30-b25f-3e5d800ebb08 div.sk-dashed-wrapped {border: 1px dashed gray;margin: 0 0.4em 0.5em 0.4em;box-sizing: border-box;padding-bottom: 0.4em;background-color: white;position: relative;}#sk-f20fae10-1c4f-4a30-b25f-3e5d800ebb08 div.sk-label label {font-family: monospace;font-weight: bold;background-color: white;display: inline-block;line-height: 1.2em;}#sk-f20fae10-1c4f-4a30-b25f-3e5d800ebb08 div.sk-label-container {position: relative;z-index: 2;text-align: center;}#sk-f20fae10-1c4f-4a30-b25f-3e5d800ebb08 div.sk-container {/* jupyter's `normalize.less` sets `[hidden] { display: none; }` but bootstrap.min.css set `[hidden] { display: none !important; }` so we also need the `!important` here to be able to override the default hidden behavior on the sphinx rendered scikit-learn.org. See: https://github.com/scikit-learn/scikit-learn/issues/21755 */display: inline-block !important;position: relative;}#sk-f20fae10-1c4f-4a30-b25f-3e5d800ebb08 div.sk-text-repr-fallback {display: none;}</style><div id=\"sk-f20fae10-1c4f-4a30-b25f-3e5d800ebb08\" class=\"sk-top-container\"><div class=\"sk-text-repr-fallback\"><pre>Pipeline(steps=[(&#x27;onehotencoder&#x27;,\n",
              "                 OneHotEncoder(handle_unknown=&#x27;ignore&#x27;, sparse=False))])</pre><b>Please rerun this cell to show the HTML repr or trust the notebook.</b></div><div class=\"sk-container\" hidden><div class=\"sk-item sk-dashed-wrapped\"><div class=\"sk-label-container\"><div class=\"sk-label sk-toggleable\"><input class=\"sk-toggleable__control sk-hidden--visually\" id=\"0e91db04-2daf-470c-9f83-998f339de13e\" type=\"checkbox\" ><label for=\"0e91db04-2daf-470c-9f83-998f339de13e\" class=\"sk-toggleable__label sk-toggleable__label-arrow\">Pipeline</label><div class=\"sk-toggleable__content\"><pre>Pipeline(steps=[(&#x27;onehotencoder&#x27;,\n",
              "                 OneHotEncoder(handle_unknown=&#x27;ignore&#x27;, sparse=False))])</pre></div></div></div><div class=\"sk-serial\"><div class=\"sk-item\"><div class=\"sk-estimator sk-toggleable\"><input class=\"sk-toggleable__control sk-hidden--visually\" id=\"a97273d0-c304-4746-8da5-114fb8eaad57\" type=\"checkbox\" ><label for=\"a97273d0-c304-4746-8da5-114fb8eaad57\" class=\"sk-toggleable__label sk-toggleable__label-arrow\">OneHotEncoder</label><div class=\"sk-toggleable__content\"><pre>OneHotEncoder(handle_unknown=&#x27;ignore&#x27;, sparse=False)</pre></div></div></div></div></div></div></div>"
            ]
          },
          "metadata": {},
          "execution_count": 233
        }
      ]
    },
    {
      "cell_type": "code",
      "source": [
        "ord_pipeline = make_pipeline(ordinal)\n",
        "ord_pipeline"
      ],
      "metadata": {
        "colab": {
          "base_uri": "https://localhost:8080/",
          "height": 92
        },
        "id": "1L-mK9WGumS6",
        "outputId": "725b4903-aceb-439b-8605-22e948afa9d0"
      },
      "execution_count": 234,
      "outputs": [
        {
          "output_type": "execute_result",
          "data": {
            "text/plain": [
              "Pipeline(steps=[('ordinalencoder', OrdinalEncoder())])"
            ],
            "text/html": [
              "<style>#sk-8cd5fe4f-4b3b-42d4-8294-ef4a0f8208c2 {color: black;background-color: white;}#sk-8cd5fe4f-4b3b-42d4-8294-ef4a0f8208c2 pre{padding: 0;}#sk-8cd5fe4f-4b3b-42d4-8294-ef4a0f8208c2 div.sk-toggleable {background-color: white;}#sk-8cd5fe4f-4b3b-42d4-8294-ef4a0f8208c2 label.sk-toggleable__label {cursor: pointer;display: block;width: 100%;margin-bottom: 0;padding: 0.3em;box-sizing: border-box;text-align: center;}#sk-8cd5fe4f-4b3b-42d4-8294-ef4a0f8208c2 label.sk-toggleable__label-arrow:before {content: \"▸\";float: left;margin-right: 0.25em;color: #696969;}#sk-8cd5fe4f-4b3b-42d4-8294-ef4a0f8208c2 label.sk-toggleable__label-arrow:hover:before {color: black;}#sk-8cd5fe4f-4b3b-42d4-8294-ef4a0f8208c2 div.sk-estimator:hover label.sk-toggleable__label-arrow:before {color: black;}#sk-8cd5fe4f-4b3b-42d4-8294-ef4a0f8208c2 div.sk-toggleable__content {max-height: 0;max-width: 0;overflow: hidden;text-align: left;background-color: #f0f8ff;}#sk-8cd5fe4f-4b3b-42d4-8294-ef4a0f8208c2 div.sk-toggleable__content pre {margin: 0.2em;color: black;border-radius: 0.25em;background-color: #f0f8ff;}#sk-8cd5fe4f-4b3b-42d4-8294-ef4a0f8208c2 input.sk-toggleable__control:checked~div.sk-toggleable__content {max-height: 200px;max-width: 100%;overflow: auto;}#sk-8cd5fe4f-4b3b-42d4-8294-ef4a0f8208c2 input.sk-toggleable__control:checked~label.sk-toggleable__label-arrow:before {content: \"▾\";}#sk-8cd5fe4f-4b3b-42d4-8294-ef4a0f8208c2 div.sk-estimator input.sk-toggleable__control:checked~label.sk-toggleable__label {background-color: #d4ebff;}#sk-8cd5fe4f-4b3b-42d4-8294-ef4a0f8208c2 div.sk-label input.sk-toggleable__control:checked~label.sk-toggleable__label {background-color: #d4ebff;}#sk-8cd5fe4f-4b3b-42d4-8294-ef4a0f8208c2 input.sk-hidden--visually {border: 0;clip: rect(1px 1px 1px 1px);clip: rect(1px, 1px, 1px, 1px);height: 1px;margin: -1px;overflow: hidden;padding: 0;position: absolute;width: 1px;}#sk-8cd5fe4f-4b3b-42d4-8294-ef4a0f8208c2 div.sk-estimator {font-family: monospace;background-color: #f0f8ff;border: 1px dotted black;border-radius: 0.25em;box-sizing: border-box;margin-bottom: 0.5em;}#sk-8cd5fe4f-4b3b-42d4-8294-ef4a0f8208c2 div.sk-estimator:hover {background-color: #d4ebff;}#sk-8cd5fe4f-4b3b-42d4-8294-ef4a0f8208c2 div.sk-parallel-item::after {content: \"\";width: 100%;border-bottom: 1px solid gray;flex-grow: 1;}#sk-8cd5fe4f-4b3b-42d4-8294-ef4a0f8208c2 div.sk-label:hover label.sk-toggleable__label {background-color: #d4ebff;}#sk-8cd5fe4f-4b3b-42d4-8294-ef4a0f8208c2 div.sk-serial::before {content: \"\";position: absolute;border-left: 1px solid gray;box-sizing: border-box;top: 2em;bottom: 0;left: 50%;}#sk-8cd5fe4f-4b3b-42d4-8294-ef4a0f8208c2 div.sk-serial {display: flex;flex-direction: column;align-items: center;background-color: white;padding-right: 0.2em;padding-left: 0.2em;}#sk-8cd5fe4f-4b3b-42d4-8294-ef4a0f8208c2 div.sk-item {z-index: 1;}#sk-8cd5fe4f-4b3b-42d4-8294-ef4a0f8208c2 div.sk-parallel {display: flex;align-items: stretch;justify-content: center;background-color: white;}#sk-8cd5fe4f-4b3b-42d4-8294-ef4a0f8208c2 div.sk-parallel::before {content: \"\";position: absolute;border-left: 1px solid gray;box-sizing: border-box;top: 2em;bottom: 0;left: 50%;}#sk-8cd5fe4f-4b3b-42d4-8294-ef4a0f8208c2 div.sk-parallel-item {display: flex;flex-direction: column;position: relative;background-color: white;}#sk-8cd5fe4f-4b3b-42d4-8294-ef4a0f8208c2 div.sk-parallel-item:first-child::after {align-self: flex-end;width: 50%;}#sk-8cd5fe4f-4b3b-42d4-8294-ef4a0f8208c2 div.sk-parallel-item:last-child::after {align-self: flex-start;width: 50%;}#sk-8cd5fe4f-4b3b-42d4-8294-ef4a0f8208c2 div.sk-parallel-item:only-child::after {width: 0;}#sk-8cd5fe4f-4b3b-42d4-8294-ef4a0f8208c2 div.sk-dashed-wrapped {border: 1px dashed gray;margin: 0 0.4em 0.5em 0.4em;box-sizing: border-box;padding-bottom: 0.4em;background-color: white;position: relative;}#sk-8cd5fe4f-4b3b-42d4-8294-ef4a0f8208c2 div.sk-label label {font-family: monospace;font-weight: bold;background-color: white;display: inline-block;line-height: 1.2em;}#sk-8cd5fe4f-4b3b-42d4-8294-ef4a0f8208c2 div.sk-label-container {position: relative;z-index: 2;text-align: center;}#sk-8cd5fe4f-4b3b-42d4-8294-ef4a0f8208c2 div.sk-container {/* jupyter's `normalize.less` sets `[hidden] { display: none; }` but bootstrap.min.css set `[hidden] { display: none !important; }` so we also need the `!important` here to be able to override the default hidden behavior on the sphinx rendered scikit-learn.org. See: https://github.com/scikit-learn/scikit-learn/issues/21755 */display: inline-block !important;position: relative;}#sk-8cd5fe4f-4b3b-42d4-8294-ef4a0f8208c2 div.sk-text-repr-fallback {display: none;}</style><div id=\"sk-8cd5fe4f-4b3b-42d4-8294-ef4a0f8208c2\" class=\"sk-top-container\"><div class=\"sk-text-repr-fallback\"><pre>Pipeline(steps=[(&#x27;ordinalencoder&#x27;, OrdinalEncoder())])</pre><b>Please rerun this cell to show the HTML repr or trust the notebook.</b></div><div class=\"sk-container\" hidden><div class=\"sk-item sk-dashed-wrapped\"><div class=\"sk-label-container\"><div class=\"sk-label sk-toggleable\"><input class=\"sk-toggleable__control sk-hidden--visually\" id=\"0674ffae-7f11-49df-912b-e65f3aa664aa\" type=\"checkbox\" ><label for=\"0674ffae-7f11-49df-912b-e65f3aa664aa\" class=\"sk-toggleable__label sk-toggleable__label-arrow\">Pipeline</label><div class=\"sk-toggleable__content\"><pre>Pipeline(steps=[(&#x27;ordinalencoder&#x27;, OrdinalEncoder())])</pre></div></div></div><div class=\"sk-serial\"><div class=\"sk-item\"><div class=\"sk-estimator sk-toggleable\"><input class=\"sk-toggleable__control sk-hidden--visually\" id=\"3ff2e7f2-927e-4dbc-8f3c-a18110457c7f\" type=\"checkbox\" ><label for=\"3ff2e7f2-927e-4dbc-8f3c-a18110457c7f\" class=\"sk-toggleable__label sk-toggleable__label-arrow\">OrdinalEncoder</label><div class=\"sk-toggleable__content\"><pre>OrdinalEncoder()</pre></div></div></div></div></div></div></div>"
            ]
          },
          "metadata": {},
          "execution_count": 234
        }
      ]
    },
    {
      "cell_type": "code",
      "source": [
        "num_pipeline = make_pipeline(scaler)\n",
        "num_pipeline"
      ],
      "metadata": {
        "colab": {
          "base_uri": "https://localhost:8080/",
          "height": 92
        },
        "id": "PcvfxZ8Iumjw",
        "outputId": "80514ba8-7ab4-4279-db6d-0ed02f1f414e"
      },
      "execution_count": 235,
      "outputs": [
        {
          "output_type": "execute_result",
          "data": {
            "text/plain": [
              "Pipeline(steps=[('standardscaler', StandardScaler())])"
            ],
            "text/html": [
              "<style>#sk-1b3f31ae-0819-482b-bb1c-90b841ac0c35 {color: black;background-color: white;}#sk-1b3f31ae-0819-482b-bb1c-90b841ac0c35 pre{padding: 0;}#sk-1b3f31ae-0819-482b-bb1c-90b841ac0c35 div.sk-toggleable {background-color: white;}#sk-1b3f31ae-0819-482b-bb1c-90b841ac0c35 label.sk-toggleable__label {cursor: pointer;display: block;width: 100%;margin-bottom: 0;padding: 0.3em;box-sizing: border-box;text-align: center;}#sk-1b3f31ae-0819-482b-bb1c-90b841ac0c35 label.sk-toggleable__label-arrow:before {content: \"▸\";float: left;margin-right: 0.25em;color: #696969;}#sk-1b3f31ae-0819-482b-bb1c-90b841ac0c35 label.sk-toggleable__label-arrow:hover:before {color: black;}#sk-1b3f31ae-0819-482b-bb1c-90b841ac0c35 div.sk-estimator:hover label.sk-toggleable__label-arrow:before {color: black;}#sk-1b3f31ae-0819-482b-bb1c-90b841ac0c35 div.sk-toggleable__content {max-height: 0;max-width: 0;overflow: hidden;text-align: left;background-color: #f0f8ff;}#sk-1b3f31ae-0819-482b-bb1c-90b841ac0c35 div.sk-toggleable__content pre {margin: 0.2em;color: black;border-radius: 0.25em;background-color: #f0f8ff;}#sk-1b3f31ae-0819-482b-bb1c-90b841ac0c35 input.sk-toggleable__control:checked~div.sk-toggleable__content {max-height: 200px;max-width: 100%;overflow: auto;}#sk-1b3f31ae-0819-482b-bb1c-90b841ac0c35 input.sk-toggleable__control:checked~label.sk-toggleable__label-arrow:before {content: \"▾\";}#sk-1b3f31ae-0819-482b-bb1c-90b841ac0c35 div.sk-estimator input.sk-toggleable__control:checked~label.sk-toggleable__label {background-color: #d4ebff;}#sk-1b3f31ae-0819-482b-bb1c-90b841ac0c35 div.sk-label input.sk-toggleable__control:checked~label.sk-toggleable__label {background-color: #d4ebff;}#sk-1b3f31ae-0819-482b-bb1c-90b841ac0c35 input.sk-hidden--visually {border: 0;clip: rect(1px 1px 1px 1px);clip: rect(1px, 1px, 1px, 1px);height: 1px;margin: -1px;overflow: hidden;padding: 0;position: absolute;width: 1px;}#sk-1b3f31ae-0819-482b-bb1c-90b841ac0c35 div.sk-estimator {font-family: monospace;background-color: #f0f8ff;border: 1px dotted black;border-radius: 0.25em;box-sizing: border-box;margin-bottom: 0.5em;}#sk-1b3f31ae-0819-482b-bb1c-90b841ac0c35 div.sk-estimator:hover {background-color: #d4ebff;}#sk-1b3f31ae-0819-482b-bb1c-90b841ac0c35 div.sk-parallel-item::after {content: \"\";width: 100%;border-bottom: 1px solid gray;flex-grow: 1;}#sk-1b3f31ae-0819-482b-bb1c-90b841ac0c35 div.sk-label:hover label.sk-toggleable__label {background-color: #d4ebff;}#sk-1b3f31ae-0819-482b-bb1c-90b841ac0c35 div.sk-serial::before {content: \"\";position: absolute;border-left: 1px solid gray;box-sizing: border-box;top: 2em;bottom: 0;left: 50%;}#sk-1b3f31ae-0819-482b-bb1c-90b841ac0c35 div.sk-serial {display: flex;flex-direction: column;align-items: center;background-color: white;padding-right: 0.2em;padding-left: 0.2em;}#sk-1b3f31ae-0819-482b-bb1c-90b841ac0c35 div.sk-item {z-index: 1;}#sk-1b3f31ae-0819-482b-bb1c-90b841ac0c35 div.sk-parallel {display: flex;align-items: stretch;justify-content: center;background-color: white;}#sk-1b3f31ae-0819-482b-bb1c-90b841ac0c35 div.sk-parallel::before {content: \"\";position: absolute;border-left: 1px solid gray;box-sizing: border-box;top: 2em;bottom: 0;left: 50%;}#sk-1b3f31ae-0819-482b-bb1c-90b841ac0c35 div.sk-parallel-item {display: flex;flex-direction: column;position: relative;background-color: white;}#sk-1b3f31ae-0819-482b-bb1c-90b841ac0c35 div.sk-parallel-item:first-child::after {align-self: flex-end;width: 50%;}#sk-1b3f31ae-0819-482b-bb1c-90b841ac0c35 div.sk-parallel-item:last-child::after {align-self: flex-start;width: 50%;}#sk-1b3f31ae-0819-482b-bb1c-90b841ac0c35 div.sk-parallel-item:only-child::after {width: 0;}#sk-1b3f31ae-0819-482b-bb1c-90b841ac0c35 div.sk-dashed-wrapped {border: 1px dashed gray;margin: 0 0.4em 0.5em 0.4em;box-sizing: border-box;padding-bottom: 0.4em;background-color: white;position: relative;}#sk-1b3f31ae-0819-482b-bb1c-90b841ac0c35 div.sk-label label {font-family: monospace;font-weight: bold;background-color: white;display: inline-block;line-height: 1.2em;}#sk-1b3f31ae-0819-482b-bb1c-90b841ac0c35 div.sk-label-container {position: relative;z-index: 2;text-align: center;}#sk-1b3f31ae-0819-482b-bb1c-90b841ac0c35 div.sk-container {/* jupyter's `normalize.less` sets `[hidden] { display: none; }` but bootstrap.min.css set `[hidden] { display: none !important; }` so we also need the `!important` here to be able to override the default hidden behavior on the sphinx rendered scikit-learn.org. See: https://github.com/scikit-learn/scikit-learn/issues/21755 */display: inline-block !important;position: relative;}#sk-1b3f31ae-0819-482b-bb1c-90b841ac0c35 div.sk-text-repr-fallback {display: none;}</style><div id=\"sk-1b3f31ae-0819-482b-bb1c-90b841ac0c35\" class=\"sk-top-container\"><div class=\"sk-text-repr-fallback\"><pre>Pipeline(steps=[(&#x27;standardscaler&#x27;, StandardScaler())])</pre><b>Please rerun this cell to show the HTML repr or trust the notebook.</b></div><div class=\"sk-container\" hidden><div class=\"sk-item sk-dashed-wrapped\"><div class=\"sk-label-container\"><div class=\"sk-label sk-toggleable\"><input class=\"sk-toggleable__control sk-hidden--visually\" id=\"25c6b81a-8551-4d18-8b16-cb8f32200f24\" type=\"checkbox\" ><label for=\"25c6b81a-8551-4d18-8b16-cb8f32200f24\" class=\"sk-toggleable__label sk-toggleable__label-arrow\">Pipeline</label><div class=\"sk-toggleable__content\"><pre>Pipeline(steps=[(&#x27;standardscaler&#x27;, StandardScaler())])</pre></div></div></div><div class=\"sk-serial\"><div class=\"sk-item\"><div class=\"sk-estimator sk-toggleable\"><input class=\"sk-toggleable__control sk-hidden--visually\" id=\"39deb073-fc66-4a45-8299-0b23d2a2a95b\" type=\"checkbox\" ><label for=\"39deb073-fc66-4a45-8299-0b23d2a2a95b\" class=\"sk-toggleable__label sk-toggleable__label-arrow\">StandardScaler</label><div class=\"sk-toggleable__content\"><pre>StandardScaler()</pre></div></div></div></div></div></div></div>"
            ]
          },
          "metadata": {},
          "execution_count": 235
        }
      ]
    },
    {
      "cell_type": "code",
      "source": [
        "num_tuple = (num_pipeline, num_selector)\n",
        "nom_tuple = (nom_pipeline, nom_selector)\n",
        "ord_tuple = (ord_pipeline, ord_selector)\n",
        "\n",
        "preprocessor = make_column_transformer(num_tuple, nom_tuple, ord_tuple)\n",
        "preprocessor"
      ],
      "metadata": {
        "colab": {
          "base_uri": "https://localhost:8080/",
          "height": 118
        },
        "id": "6iv5g-4vsfdE",
        "outputId": "50702795-ca9b-4465-a810-e604114cf845"
      },
      "execution_count": 236,
      "outputs": [
        {
          "output_type": "execute_result",
          "data": {
            "text/plain": [
              "ColumnTransformer(transformers=[('pipeline-1',\n",
              "                                 Pipeline(steps=[('standardscaler',\n",
              "                                                  StandardScaler())]),\n",
              "                                 <sklearn.compose._column_transformer.make_column_selector object at 0x7fa1e5defa10>),\n",
              "                                ('pipeline-2',\n",
              "                                 Pipeline(steps=[('onehotencoder',\n",
              "                                                  OneHotEncoder(handle_unknown='ignore',\n",
              "                                                                sparse=False))]),\n",
              "                                 ['Item_Identifier', 'Item_Type',\n",
              "                                  'Outlet_Identifier', 'Outlet_Type']),\n",
              "                                ('pipeline-3',\n",
              "                                 Pipeline(steps=[('ordinalencoder',\n",
              "                                                  OrdinalEncoder())]),\n",
              "                                 ['Item_Fat_Content', 'Outlet_Size',\n",
              "                                  'Outlet_Location_Type'])])"
            ],
            "text/html": [
              "<style>#sk-e36703af-0e37-4e27-97b6-6d5039854360 {color: black;background-color: white;}#sk-e36703af-0e37-4e27-97b6-6d5039854360 pre{padding: 0;}#sk-e36703af-0e37-4e27-97b6-6d5039854360 div.sk-toggleable {background-color: white;}#sk-e36703af-0e37-4e27-97b6-6d5039854360 label.sk-toggleable__label {cursor: pointer;display: block;width: 100%;margin-bottom: 0;padding: 0.3em;box-sizing: border-box;text-align: center;}#sk-e36703af-0e37-4e27-97b6-6d5039854360 label.sk-toggleable__label-arrow:before {content: \"▸\";float: left;margin-right: 0.25em;color: #696969;}#sk-e36703af-0e37-4e27-97b6-6d5039854360 label.sk-toggleable__label-arrow:hover:before {color: black;}#sk-e36703af-0e37-4e27-97b6-6d5039854360 div.sk-estimator:hover label.sk-toggleable__label-arrow:before {color: black;}#sk-e36703af-0e37-4e27-97b6-6d5039854360 div.sk-toggleable__content {max-height: 0;max-width: 0;overflow: hidden;text-align: left;background-color: #f0f8ff;}#sk-e36703af-0e37-4e27-97b6-6d5039854360 div.sk-toggleable__content pre {margin: 0.2em;color: black;border-radius: 0.25em;background-color: #f0f8ff;}#sk-e36703af-0e37-4e27-97b6-6d5039854360 input.sk-toggleable__control:checked~div.sk-toggleable__content {max-height: 200px;max-width: 100%;overflow: auto;}#sk-e36703af-0e37-4e27-97b6-6d5039854360 input.sk-toggleable__control:checked~label.sk-toggleable__label-arrow:before {content: \"▾\";}#sk-e36703af-0e37-4e27-97b6-6d5039854360 div.sk-estimator input.sk-toggleable__control:checked~label.sk-toggleable__label {background-color: #d4ebff;}#sk-e36703af-0e37-4e27-97b6-6d5039854360 div.sk-label input.sk-toggleable__control:checked~label.sk-toggleable__label {background-color: #d4ebff;}#sk-e36703af-0e37-4e27-97b6-6d5039854360 input.sk-hidden--visually {border: 0;clip: rect(1px 1px 1px 1px);clip: rect(1px, 1px, 1px, 1px);height: 1px;margin: -1px;overflow: hidden;padding: 0;position: absolute;width: 1px;}#sk-e36703af-0e37-4e27-97b6-6d5039854360 div.sk-estimator {font-family: monospace;background-color: #f0f8ff;border: 1px dotted black;border-radius: 0.25em;box-sizing: border-box;margin-bottom: 0.5em;}#sk-e36703af-0e37-4e27-97b6-6d5039854360 div.sk-estimator:hover {background-color: #d4ebff;}#sk-e36703af-0e37-4e27-97b6-6d5039854360 div.sk-parallel-item::after {content: \"\";width: 100%;border-bottom: 1px solid gray;flex-grow: 1;}#sk-e36703af-0e37-4e27-97b6-6d5039854360 div.sk-label:hover label.sk-toggleable__label {background-color: #d4ebff;}#sk-e36703af-0e37-4e27-97b6-6d5039854360 div.sk-serial::before {content: \"\";position: absolute;border-left: 1px solid gray;box-sizing: border-box;top: 2em;bottom: 0;left: 50%;}#sk-e36703af-0e37-4e27-97b6-6d5039854360 div.sk-serial {display: flex;flex-direction: column;align-items: center;background-color: white;padding-right: 0.2em;padding-left: 0.2em;}#sk-e36703af-0e37-4e27-97b6-6d5039854360 div.sk-item {z-index: 1;}#sk-e36703af-0e37-4e27-97b6-6d5039854360 div.sk-parallel {display: flex;align-items: stretch;justify-content: center;background-color: white;}#sk-e36703af-0e37-4e27-97b6-6d5039854360 div.sk-parallel::before {content: \"\";position: absolute;border-left: 1px solid gray;box-sizing: border-box;top: 2em;bottom: 0;left: 50%;}#sk-e36703af-0e37-4e27-97b6-6d5039854360 div.sk-parallel-item {display: flex;flex-direction: column;position: relative;background-color: white;}#sk-e36703af-0e37-4e27-97b6-6d5039854360 div.sk-parallel-item:first-child::after {align-self: flex-end;width: 50%;}#sk-e36703af-0e37-4e27-97b6-6d5039854360 div.sk-parallel-item:last-child::after {align-self: flex-start;width: 50%;}#sk-e36703af-0e37-4e27-97b6-6d5039854360 div.sk-parallel-item:only-child::after {width: 0;}#sk-e36703af-0e37-4e27-97b6-6d5039854360 div.sk-dashed-wrapped {border: 1px dashed gray;margin: 0 0.4em 0.5em 0.4em;box-sizing: border-box;padding-bottom: 0.4em;background-color: white;position: relative;}#sk-e36703af-0e37-4e27-97b6-6d5039854360 div.sk-label label {font-family: monospace;font-weight: bold;background-color: white;display: inline-block;line-height: 1.2em;}#sk-e36703af-0e37-4e27-97b6-6d5039854360 div.sk-label-container {position: relative;z-index: 2;text-align: center;}#sk-e36703af-0e37-4e27-97b6-6d5039854360 div.sk-container {/* jupyter's `normalize.less` sets `[hidden] { display: none; }` but bootstrap.min.css set `[hidden] { display: none !important; }` so we also need the `!important` here to be able to override the default hidden behavior on the sphinx rendered scikit-learn.org. See: https://github.com/scikit-learn/scikit-learn/issues/21755 */display: inline-block !important;position: relative;}#sk-e36703af-0e37-4e27-97b6-6d5039854360 div.sk-text-repr-fallback {display: none;}</style><div id=\"sk-e36703af-0e37-4e27-97b6-6d5039854360\" class=\"sk-top-container\"><div class=\"sk-text-repr-fallback\"><pre>ColumnTransformer(transformers=[(&#x27;pipeline-1&#x27;,\n",
              "                                 Pipeline(steps=[(&#x27;standardscaler&#x27;,\n",
              "                                                  StandardScaler())]),\n",
              "                                 &lt;sklearn.compose._column_transformer.make_column_selector object at 0x7fa1e5defa10&gt;),\n",
              "                                (&#x27;pipeline-2&#x27;,\n",
              "                                 Pipeline(steps=[(&#x27;onehotencoder&#x27;,\n",
              "                                                  OneHotEncoder(handle_unknown=&#x27;ignore&#x27;,\n",
              "                                                                sparse=False))]),\n",
              "                                 [&#x27;Item_Identifier&#x27;, &#x27;Item_Type&#x27;,\n",
              "                                  &#x27;Outlet_Identifier&#x27;, &#x27;Outlet_Type&#x27;]),\n",
              "                                (&#x27;pipeline-3&#x27;,\n",
              "                                 Pipeline(steps=[(&#x27;ordinalencoder&#x27;,\n",
              "                                                  OrdinalEncoder())]),\n",
              "                                 [&#x27;Item_Fat_Content&#x27;, &#x27;Outlet_Size&#x27;,\n",
              "                                  &#x27;Outlet_Location_Type&#x27;])])</pre><b>Please rerun this cell to show the HTML repr or trust the notebook.</b></div><div class=\"sk-container\" hidden><div class=\"sk-item sk-dashed-wrapped\"><div class=\"sk-label-container\"><div class=\"sk-label sk-toggleable\"><input class=\"sk-toggleable__control sk-hidden--visually\" id=\"47032352-01a4-44b9-a3c5-38abb2ceb65e\" type=\"checkbox\" ><label for=\"47032352-01a4-44b9-a3c5-38abb2ceb65e\" class=\"sk-toggleable__label sk-toggleable__label-arrow\">ColumnTransformer</label><div class=\"sk-toggleable__content\"><pre>ColumnTransformer(transformers=[(&#x27;pipeline-1&#x27;,\n",
              "                                 Pipeline(steps=[(&#x27;standardscaler&#x27;,\n",
              "                                                  StandardScaler())]),\n",
              "                                 &lt;sklearn.compose._column_transformer.make_column_selector object at 0x7fa1e5defa10&gt;),\n",
              "                                (&#x27;pipeline-2&#x27;,\n",
              "                                 Pipeline(steps=[(&#x27;onehotencoder&#x27;,\n",
              "                                                  OneHotEncoder(handle_unknown=&#x27;ignore&#x27;,\n",
              "                                                                sparse=False))]),\n",
              "                                 [&#x27;Item_Identifier&#x27;, &#x27;Item_Type&#x27;,\n",
              "                                  &#x27;Outlet_Identifier&#x27;, &#x27;Outlet_Type&#x27;]),\n",
              "                                (&#x27;pipeline-3&#x27;,\n",
              "                                 Pipeline(steps=[(&#x27;ordinalencoder&#x27;,\n",
              "                                                  OrdinalEncoder())]),\n",
              "                                 [&#x27;Item_Fat_Content&#x27;, &#x27;Outlet_Size&#x27;,\n",
              "                                  &#x27;Outlet_Location_Type&#x27;])])</pre></div></div></div><div class=\"sk-parallel\"><div class=\"sk-parallel-item\"><div class=\"sk-item\"><div class=\"sk-label-container\"><div class=\"sk-label sk-toggleable\"><input class=\"sk-toggleable__control sk-hidden--visually\" id=\"bd704e8b-79f3-462a-9b64-6746669023d1\" type=\"checkbox\" ><label for=\"bd704e8b-79f3-462a-9b64-6746669023d1\" class=\"sk-toggleable__label sk-toggleable__label-arrow\">pipeline-1</label><div class=\"sk-toggleable__content\"><pre>&lt;sklearn.compose._column_transformer.make_column_selector object at 0x7fa1e5defa10&gt;</pre></div></div></div><div class=\"sk-serial\"><div class=\"sk-item\"><div class=\"sk-serial\"><div class=\"sk-item\"><div class=\"sk-estimator sk-toggleable\"><input class=\"sk-toggleable__control sk-hidden--visually\" id=\"2879a398-f448-4416-bb83-ef90e7c55d7e\" type=\"checkbox\" ><label for=\"2879a398-f448-4416-bb83-ef90e7c55d7e\" class=\"sk-toggleable__label sk-toggleable__label-arrow\">StandardScaler</label><div class=\"sk-toggleable__content\"><pre>StandardScaler()</pre></div></div></div></div></div></div></div></div><div class=\"sk-parallel-item\"><div class=\"sk-item\"><div class=\"sk-label-container\"><div class=\"sk-label sk-toggleable\"><input class=\"sk-toggleable__control sk-hidden--visually\" id=\"8635ec25-adb0-4908-a4f6-e3a7ea5cb701\" type=\"checkbox\" ><label for=\"8635ec25-adb0-4908-a4f6-e3a7ea5cb701\" class=\"sk-toggleable__label sk-toggleable__label-arrow\">pipeline-2</label><div class=\"sk-toggleable__content\"><pre>[&#x27;Item_Identifier&#x27;, &#x27;Item_Type&#x27;, &#x27;Outlet_Identifier&#x27;, &#x27;Outlet_Type&#x27;]</pre></div></div></div><div class=\"sk-serial\"><div class=\"sk-item\"><div class=\"sk-serial\"><div class=\"sk-item\"><div class=\"sk-estimator sk-toggleable\"><input class=\"sk-toggleable__control sk-hidden--visually\" id=\"e716e8d6-7001-44a8-aae9-19439dc655ed\" type=\"checkbox\" ><label for=\"e716e8d6-7001-44a8-aae9-19439dc655ed\" class=\"sk-toggleable__label sk-toggleable__label-arrow\">OneHotEncoder</label><div class=\"sk-toggleable__content\"><pre>OneHotEncoder(handle_unknown=&#x27;ignore&#x27;, sparse=False)</pre></div></div></div></div></div></div></div></div><div class=\"sk-parallel-item\"><div class=\"sk-item\"><div class=\"sk-label-container\"><div class=\"sk-label sk-toggleable\"><input class=\"sk-toggleable__control sk-hidden--visually\" id=\"9b8e3ec5-beff-499b-9b93-856dfb15775e\" type=\"checkbox\" ><label for=\"9b8e3ec5-beff-499b-9b93-856dfb15775e\" class=\"sk-toggleable__label sk-toggleable__label-arrow\">pipeline-3</label><div class=\"sk-toggleable__content\"><pre>[&#x27;Item_Fat_Content&#x27;, &#x27;Outlet_Size&#x27;, &#x27;Outlet_Location_Type&#x27;]</pre></div></div></div><div class=\"sk-serial\"><div class=\"sk-item\"><div class=\"sk-serial\"><div class=\"sk-item\"><div class=\"sk-estimator sk-toggleable\"><input class=\"sk-toggleable__control sk-hidden--visually\" id=\"793561e7-9c21-4db5-9891-71382e62b230\" type=\"checkbox\" ><label for=\"793561e7-9c21-4db5-9891-71382e62b230\" class=\"sk-toggleable__label sk-toggleable__label-arrow\">OrdinalEncoder</label><div class=\"sk-toggleable__content\"><pre>OrdinalEncoder()</pre></div></div></div></div></div></div></div></div></div></div></div></div>"
            ]
          },
          "metadata": {},
          "execution_count": 236
        }
      ]
    },
    {
      "cell_type": "code",
      "source": [
        "preprocessor.fit(X_train)"
      ],
      "metadata": {
        "colab": {
          "base_uri": "https://localhost:8080/",
          "height": 118
        },
        "id": "8mZI1taLvDdJ",
        "outputId": "24c54551-7f3b-46cc-a3c3-35fc575ed773"
      },
      "execution_count": 237,
      "outputs": [
        {
          "output_type": "execute_result",
          "data": {
            "text/plain": [
              "ColumnTransformer(transformers=[('pipeline-1',\n",
              "                                 Pipeline(steps=[('standardscaler',\n",
              "                                                  StandardScaler())]),\n",
              "                                 <sklearn.compose._column_transformer.make_column_selector object at 0x7fa1e5defa10>),\n",
              "                                ('pipeline-2',\n",
              "                                 Pipeline(steps=[('onehotencoder',\n",
              "                                                  OneHotEncoder(handle_unknown='ignore',\n",
              "                                                                sparse=False))]),\n",
              "                                 ['Item_Identifier', 'Item_Type',\n",
              "                                  'Outlet_Identifier', 'Outlet_Type']),\n",
              "                                ('pipeline-3',\n",
              "                                 Pipeline(steps=[('ordinalencoder',\n",
              "                                                  OrdinalEncoder())]),\n",
              "                                 ['Item_Fat_Content', 'Outlet_Size',\n",
              "                                  'Outlet_Location_Type'])])"
            ],
            "text/html": [
              "<style>#sk-c975c0ca-8987-426e-ad04-767779ed227d {color: black;background-color: white;}#sk-c975c0ca-8987-426e-ad04-767779ed227d pre{padding: 0;}#sk-c975c0ca-8987-426e-ad04-767779ed227d div.sk-toggleable {background-color: white;}#sk-c975c0ca-8987-426e-ad04-767779ed227d label.sk-toggleable__label {cursor: pointer;display: block;width: 100%;margin-bottom: 0;padding: 0.3em;box-sizing: border-box;text-align: center;}#sk-c975c0ca-8987-426e-ad04-767779ed227d label.sk-toggleable__label-arrow:before {content: \"▸\";float: left;margin-right: 0.25em;color: #696969;}#sk-c975c0ca-8987-426e-ad04-767779ed227d label.sk-toggleable__label-arrow:hover:before {color: black;}#sk-c975c0ca-8987-426e-ad04-767779ed227d div.sk-estimator:hover label.sk-toggleable__label-arrow:before {color: black;}#sk-c975c0ca-8987-426e-ad04-767779ed227d div.sk-toggleable__content {max-height: 0;max-width: 0;overflow: hidden;text-align: left;background-color: #f0f8ff;}#sk-c975c0ca-8987-426e-ad04-767779ed227d div.sk-toggleable__content pre {margin: 0.2em;color: black;border-radius: 0.25em;background-color: #f0f8ff;}#sk-c975c0ca-8987-426e-ad04-767779ed227d input.sk-toggleable__control:checked~div.sk-toggleable__content {max-height: 200px;max-width: 100%;overflow: auto;}#sk-c975c0ca-8987-426e-ad04-767779ed227d input.sk-toggleable__control:checked~label.sk-toggleable__label-arrow:before {content: \"▾\";}#sk-c975c0ca-8987-426e-ad04-767779ed227d div.sk-estimator input.sk-toggleable__control:checked~label.sk-toggleable__label {background-color: #d4ebff;}#sk-c975c0ca-8987-426e-ad04-767779ed227d div.sk-label input.sk-toggleable__control:checked~label.sk-toggleable__label {background-color: #d4ebff;}#sk-c975c0ca-8987-426e-ad04-767779ed227d input.sk-hidden--visually {border: 0;clip: rect(1px 1px 1px 1px);clip: rect(1px, 1px, 1px, 1px);height: 1px;margin: -1px;overflow: hidden;padding: 0;position: absolute;width: 1px;}#sk-c975c0ca-8987-426e-ad04-767779ed227d div.sk-estimator {font-family: monospace;background-color: #f0f8ff;border: 1px dotted black;border-radius: 0.25em;box-sizing: border-box;margin-bottom: 0.5em;}#sk-c975c0ca-8987-426e-ad04-767779ed227d div.sk-estimator:hover {background-color: #d4ebff;}#sk-c975c0ca-8987-426e-ad04-767779ed227d div.sk-parallel-item::after {content: \"\";width: 100%;border-bottom: 1px solid gray;flex-grow: 1;}#sk-c975c0ca-8987-426e-ad04-767779ed227d div.sk-label:hover label.sk-toggleable__label {background-color: #d4ebff;}#sk-c975c0ca-8987-426e-ad04-767779ed227d div.sk-serial::before {content: \"\";position: absolute;border-left: 1px solid gray;box-sizing: border-box;top: 2em;bottom: 0;left: 50%;}#sk-c975c0ca-8987-426e-ad04-767779ed227d div.sk-serial {display: flex;flex-direction: column;align-items: center;background-color: white;padding-right: 0.2em;padding-left: 0.2em;}#sk-c975c0ca-8987-426e-ad04-767779ed227d div.sk-item {z-index: 1;}#sk-c975c0ca-8987-426e-ad04-767779ed227d div.sk-parallel {display: flex;align-items: stretch;justify-content: center;background-color: white;}#sk-c975c0ca-8987-426e-ad04-767779ed227d div.sk-parallel::before {content: \"\";position: absolute;border-left: 1px solid gray;box-sizing: border-box;top: 2em;bottom: 0;left: 50%;}#sk-c975c0ca-8987-426e-ad04-767779ed227d div.sk-parallel-item {display: flex;flex-direction: column;position: relative;background-color: white;}#sk-c975c0ca-8987-426e-ad04-767779ed227d div.sk-parallel-item:first-child::after {align-self: flex-end;width: 50%;}#sk-c975c0ca-8987-426e-ad04-767779ed227d div.sk-parallel-item:last-child::after {align-self: flex-start;width: 50%;}#sk-c975c0ca-8987-426e-ad04-767779ed227d div.sk-parallel-item:only-child::after {width: 0;}#sk-c975c0ca-8987-426e-ad04-767779ed227d div.sk-dashed-wrapped {border: 1px dashed gray;margin: 0 0.4em 0.5em 0.4em;box-sizing: border-box;padding-bottom: 0.4em;background-color: white;position: relative;}#sk-c975c0ca-8987-426e-ad04-767779ed227d div.sk-label label {font-family: monospace;font-weight: bold;background-color: white;display: inline-block;line-height: 1.2em;}#sk-c975c0ca-8987-426e-ad04-767779ed227d div.sk-label-container {position: relative;z-index: 2;text-align: center;}#sk-c975c0ca-8987-426e-ad04-767779ed227d div.sk-container {/* jupyter's `normalize.less` sets `[hidden] { display: none; }` but bootstrap.min.css set `[hidden] { display: none !important; }` so we also need the `!important` here to be able to override the default hidden behavior on the sphinx rendered scikit-learn.org. See: https://github.com/scikit-learn/scikit-learn/issues/21755 */display: inline-block !important;position: relative;}#sk-c975c0ca-8987-426e-ad04-767779ed227d div.sk-text-repr-fallback {display: none;}</style><div id=\"sk-c975c0ca-8987-426e-ad04-767779ed227d\" class=\"sk-top-container\"><div class=\"sk-text-repr-fallback\"><pre>ColumnTransformer(transformers=[(&#x27;pipeline-1&#x27;,\n",
              "                                 Pipeline(steps=[(&#x27;standardscaler&#x27;,\n",
              "                                                  StandardScaler())]),\n",
              "                                 &lt;sklearn.compose._column_transformer.make_column_selector object at 0x7fa1e5defa10&gt;),\n",
              "                                (&#x27;pipeline-2&#x27;,\n",
              "                                 Pipeline(steps=[(&#x27;onehotencoder&#x27;,\n",
              "                                                  OneHotEncoder(handle_unknown=&#x27;ignore&#x27;,\n",
              "                                                                sparse=False))]),\n",
              "                                 [&#x27;Item_Identifier&#x27;, &#x27;Item_Type&#x27;,\n",
              "                                  &#x27;Outlet_Identifier&#x27;, &#x27;Outlet_Type&#x27;]),\n",
              "                                (&#x27;pipeline-3&#x27;,\n",
              "                                 Pipeline(steps=[(&#x27;ordinalencoder&#x27;,\n",
              "                                                  OrdinalEncoder())]),\n",
              "                                 [&#x27;Item_Fat_Content&#x27;, &#x27;Outlet_Size&#x27;,\n",
              "                                  &#x27;Outlet_Location_Type&#x27;])])</pre><b>Please rerun this cell to show the HTML repr or trust the notebook.</b></div><div class=\"sk-container\" hidden><div class=\"sk-item sk-dashed-wrapped\"><div class=\"sk-label-container\"><div class=\"sk-label sk-toggleable\"><input class=\"sk-toggleable__control sk-hidden--visually\" id=\"0d5b2821-7e31-4125-bb61-664ecbecef63\" type=\"checkbox\" ><label for=\"0d5b2821-7e31-4125-bb61-664ecbecef63\" class=\"sk-toggleable__label sk-toggleable__label-arrow\">ColumnTransformer</label><div class=\"sk-toggleable__content\"><pre>ColumnTransformer(transformers=[(&#x27;pipeline-1&#x27;,\n",
              "                                 Pipeline(steps=[(&#x27;standardscaler&#x27;,\n",
              "                                                  StandardScaler())]),\n",
              "                                 &lt;sklearn.compose._column_transformer.make_column_selector object at 0x7fa1e5defa10&gt;),\n",
              "                                (&#x27;pipeline-2&#x27;,\n",
              "                                 Pipeline(steps=[(&#x27;onehotencoder&#x27;,\n",
              "                                                  OneHotEncoder(handle_unknown=&#x27;ignore&#x27;,\n",
              "                                                                sparse=False))]),\n",
              "                                 [&#x27;Item_Identifier&#x27;, &#x27;Item_Type&#x27;,\n",
              "                                  &#x27;Outlet_Identifier&#x27;, &#x27;Outlet_Type&#x27;]),\n",
              "                                (&#x27;pipeline-3&#x27;,\n",
              "                                 Pipeline(steps=[(&#x27;ordinalencoder&#x27;,\n",
              "                                                  OrdinalEncoder())]),\n",
              "                                 [&#x27;Item_Fat_Content&#x27;, &#x27;Outlet_Size&#x27;,\n",
              "                                  &#x27;Outlet_Location_Type&#x27;])])</pre></div></div></div><div class=\"sk-parallel\"><div class=\"sk-parallel-item\"><div class=\"sk-item\"><div class=\"sk-label-container\"><div class=\"sk-label sk-toggleable\"><input class=\"sk-toggleable__control sk-hidden--visually\" id=\"a2ac2a1b-6a8b-4ed7-9a8f-21e72bf3a0ff\" type=\"checkbox\" ><label for=\"a2ac2a1b-6a8b-4ed7-9a8f-21e72bf3a0ff\" class=\"sk-toggleable__label sk-toggleable__label-arrow\">pipeline-1</label><div class=\"sk-toggleable__content\"><pre>&lt;sklearn.compose._column_transformer.make_column_selector object at 0x7fa1e5defa10&gt;</pre></div></div></div><div class=\"sk-serial\"><div class=\"sk-item\"><div class=\"sk-serial\"><div class=\"sk-item\"><div class=\"sk-estimator sk-toggleable\"><input class=\"sk-toggleable__control sk-hidden--visually\" id=\"cbb1fef7-2858-4457-9a21-2140dde3a531\" type=\"checkbox\" ><label for=\"cbb1fef7-2858-4457-9a21-2140dde3a531\" class=\"sk-toggleable__label sk-toggleable__label-arrow\">StandardScaler</label><div class=\"sk-toggleable__content\"><pre>StandardScaler()</pre></div></div></div></div></div></div></div></div><div class=\"sk-parallel-item\"><div class=\"sk-item\"><div class=\"sk-label-container\"><div class=\"sk-label sk-toggleable\"><input class=\"sk-toggleable__control sk-hidden--visually\" id=\"847eeeed-faa9-4764-94e9-6b7168f001cf\" type=\"checkbox\" ><label for=\"847eeeed-faa9-4764-94e9-6b7168f001cf\" class=\"sk-toggleable__label sk-toggleable__label-arrow\">pipeline-2</label><div class=\"sk-toggleable__content\"><pre>[&#x27;Item_Identifier&#x27;, &#x27;Item_Type&#x27;, &#x27;Outlet_Identifier&#x27;, &#x27;Outlet_Type&#x27;]</pre></div></div></div><div class=\"sk-serial\"><div class=\"sk-item\"><div class=\"sk-serial\"><div class=\"sk-item\"><div class=\"sk-estimator sk-toggleable\"><input class=\"sk-toggleable__control sk-hidden--visually\" id=\"82f4f0b9-93dd-4297-966d-40fa59c0a5ff\" type=\"checkbox\" ><label for=\"82f4f0b9-93dd-4297-966d-40fa59c0a5ff\" class=\"sk-toggleable__label sk-toggleable__label-arrow\">OneHotEncoder</label><div class=\"sk-toggleable__content\"><pre>OneHotEncoder(handle_unknown=&#x27;ignore&#x27;, sparse=False)</pre></div></div></div></div></div></div></div></div><div class=\"sk-parallel-item\"><div class=\"sk-item\"><div class=\"sk-label-container\"><div class=\"sk-label sk-toggleable\"><input class=\"sk-toggleable__control sk-hidden--visually\" id=\"b9eef42c-8aa9-4ffe-9af7-403c77aa0283\" type=\"checkbox\" ><label for=\"b9eef42c-8aa9-4ffe-9af7-403c77aa0283\" class=\"sk-toggleable__label sk-toggleable__label-arrow\">pipeline-3</label><div class=\"sk-toggleable__content\"><pre>[&#x27;Item_Fat_Content&#x27;, &#x27;Outlet_Size&#x27;, &#x27;Outlet_Location_Type&#x27;]</pre></div></div></div><div class=\"sk-serial\"><div class=\"sk-item\"><div class=\"sk-serial\"><div class=\"sk-item\"><div class=\"sk-estimator sk-toggleable\"><input class=\"sk-toggleable__control sk-hidden--visually\" id=\"5f2c0e50-1942-40cc-9a56-aac2cc9f2fbd\" type=\"checkbox\" ><label for=\"5f2c0e50-1942-40cc-9a56-aac2cc9f2fbd\" class=\"sk-toggleable__label sk-toggleable__label-arrow\">OrdinalEncoder</label><div class=\"sk-toggleable__content\"><pre>OrdinalEncoder()</pre></div></div></div></div></div></div></div></div></div></div></div></div>"
            ]
          },
          "metadata": {},
          "execution_count": 237
        }
      ]
    },
    {
      "cell_type": "code",
      "source": [
        "X_train_processed = preprocessor.transform(X_train)\n",
        "X_test_processed = preprocessor.transform(X_test)"
      ],
      "metadata": {
        "id": "1_txeEgTvTda"
      },
      "execution_count": 238,
      "outputs": []
    },
    {
      "cell_type": "code",
      "source": [
        "X_train_processed"
      ],
      "metadata": {
        "colab": {
          "base_uri": "https://localhost:8080/"
        },
        "id": "OTMY-d9xy8Rb",
        "outputId": "155fcf00-bbe7-42c5-d878-0daa1c1cfcce"
      },
      "execution_count": 241,
      "outputs": [
        {
          "output_type": "execute_result",
          "data": {
            "text/plain": [
              "array([[ 0.88973625, -0.99064597,  1.4001601 , ...,  1.        ,\n",
              "         2.        ,  1.        ],\n",
              "       [ 0.85743471,  1.97490651,  0.84991876, ...,  1.        ,\n",
              "         0.        ,  2.        ],\n",
              "       [-0.61766898, -0.78894269,  1.95842539, ...,  0.        ,\n",
              "         3.        ,  0.        ],\n",
              "       ...,\n",
              "       [ 1.53576706, -1.32206308, -1.56913136, ...,  0.        ,\n",
              "         1.        ,  2.        ],\n",
              "       [ 0.02836184,  0.4003807 ,  0.87711677, ...,  1.        ,\n",
              "         0.        ,  2.        ],\n",
              "       [-0.29465357, -1.01357905,  0.49141151, ...,  0.        ,\n",
              "         2.        ,  1.        ]])"
            ]
          },
          "metadata": {},
          "execution_count": 241
        }
      ]
    },
    {
      "cell_type": "code",
      "source": [
        "X_test_processed"
      ],
      "metadata": {
        "colab": {
          "base_uri": "https://localhost:8080/"
        },
        "id": "rGe9pQ8IzHQg",
        "outputId": "0289b88e-fb45-4514-be43-0a832bebc219"
      },
      "execution_count": 242,
      "outputs": [
        {
          "output_type": "execute_result",
          "data": {
            "text/plain": [
              "array([[ 1.48193116, -1.02518789, -0.62511908, ...,  0.        ,\n",
              "         2.        ,  1.        ],\n",
              "       [ 1.69727476, -0.88094324,  0.18962081, ...,  0.        ,\n",
              "         2.        ,  1.        ],\n",
              "       [-0.91915002, -1.32206308, -0.15495043, ...,  1.        ,\n",
              "         1.        ,  0.        ],\n",
              "       ...,\n",
              "       [ 0.5882552 ,  0.488631  ,  1.24200146, ...,  0.        ,\n",
              "         3.        ,  0.        ],\n",
              "       [-1.65670186, -0.69558957, -1.67057345, ...,  0.        ,\n",
              "         3.        ,  1.        ],\n",
              "       [-0.79102058, -0.34544574, -1.45105079, ...,  1.        ,\n",
              "         1.        ,  2.        ]])"
            ]
          },
          "metadata": {},
          "execution_count": 242
        }
      ]
    }
  ]
}